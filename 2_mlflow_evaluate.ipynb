{
 "cells": [
  {
   "cell_type": "code",
   "execution_count": null,
   "id": "1f30f5cf-d1ce-47c9-98c4-b8d7a957c244",
   "metadata": {
    "tags": []
   },
   "outputs": [],
   "source": [
    "%run RAG.ipynb"
   ]
  },
  {
   "cell_type": "code",
   "execution_count": null,
   "id": "b85cb4f5-64af-4fef-bdf5-fee0fc30b9a3",
   "metadata": {
    "tags": []
   },
   "outputs": [],
   "source": [
    "import mlflow\n",
    "import pandas as pd\n",
    "\n",
    "from mlflow.metrics.genai import faithfulness, relevance, EvaluationExample\n",
    "from langchain.chains import RetrievalQA\n",
    "from langchain import hub\n",
    "from langchain.prompts.chat import ChatPromptTemplate"
   ]
  },
  {
   "cell_type": "code",
   "execution_count": null,
   "id": "0f347736-72ee-4486-9843-9504ca0efd74",
   "metadata": {
    "tags": []
   },
   "outputs": [],
   "source": [
    "# Creating a data frame with e-commerce related questions\n",
    "eval_df = pd.DataFrame(\n",
    "    {\n",
    "        \"questions\": [\n",
    "            \"How can I track my order status on Rakuten?\",\n",
    "            \"What is Rakuten's return policy for electronics?\",\n",
    "            \"Can I change the shipping address after placing my order?\",\n",
    "            \"What payment methods are accepted on Rakuten?\",\n",
    "            \"Is it possible to cancel my order after it has been shipped?\",\n",
    "            \"How do I apply a promo code to my purchase on Rakuten?\",\n",
    "            \"What should I do if I receive a damaged product?\",\n",
    "            \"Are there any warranties on the products sold through Rakuten?\",\n",
    "            \"How can I contact Rakuten customer service for order issues?\",\n",
    "            \"What are Rakuten Points and how do I use them?\",\n",
    "            \"Is international shipping available for orders placed on Rakuten?\",\n",
    "            \"How do I create a Rakuten account?\",\n",
    "            \"What is Rakuten's policy on product exchanges?\",\n",
    "            \"How can I leave a review for a product I purchased on Rakuten?\",\n",
    "            \"Are there any member-exclusive discounts on Rakuten?\",\n",
    "            \"What to do if my payment is declined on Rakuten?\",\n",
    "            \"How do I update my payment information on Rakuten?\",\n",
    "            \"Can I shop on Rakuten without creating an account?\",\n",
    "            \"What is the estimated delivery time for orders within the US?\",\n",
    "            \"How does Rakuten handle privacy and data protection?\",\n",
    "        ],\n",
    "    }\n",
    ")"
   ]
  },
  {
   "cell_type": "code",
   "execution_count": null,
   "id": "f76c1ace-72c7-443a-a8d7-85e1e91134c8",
   "metadata": {
    "tags": []
   },
   "outputs": [],
   "source": [
    "# Create good and bad examples for faithfulness in the context of e-commerce questions\n",
    "faithfulness_examples = [\n",
    "    EvaluationExample(\n",
    "        input=\"What is Rakuten's return policy for electronics?\",\n",
    "        output=\"You can return electronics within 30 days of purchase, but the item must be unopened.\",\n",
    "        score=2,\n",
    "        justification=\"The output provides a partially correct answer but misses important context about the conditions for returns, restocking fees, and potential exceptions for defective items.\",\n",
    "        grading_context={\n",
    "            \"context\": \"Rakuten's return policy for electronics states that items can be returned within 30 days of purchase. However, to qualify for a return, the item must be unopened and in its original condition. A restocking fee may apply, and returns for defective items are handled differently.\"\n",
    "        },\n",
    "    ),\n",
    "    EvaluationExample(\n",
    "        input=\"What is Rakuten's return policy for electronics?\",\n",
    "        output=\"Rakuten allows returns on electronics within 30 days of purchase, provided the items are unopened and in their original condition. A restocking fee may apply, and defective items have a separate return process.\",\n",
    "        score=5,\n",
    "        justification=\"The output accurately reflects the provided context by detailing the conditions under which electronics can be returned, including the time frame, item condition, potential restocking fees, and the process for defective items.\",\n",
    "        grading_context={\n",
    "            \"context\": \"Rakuten's return policy for electronics states that items can be returned within 30 days of purchase. However, to qualify for a return, the item must be unopened and in its original condition. A restocking fee may apply, and returns for defective items are handled differently.\"\n",
    "        },\n",
    "    ),\n",
    "]\n",
    "faithfulness_metric = faithfulness(model=\"openai:/gpt-4\", examples=faithfulness_examples)"
   ]
  },
  {
   "cell_type": "code",
   "execution_count": null,
   "id": "af380252-7a85-46a8-a8d9-930b140df189",
   "metadata": {
    "tags": []
   },
   "outputs": [],
   "source": [
    "# Create good and bad examples for relevance in the context of e-commerce questions\n",
    "relevance_examples = [\n",
    "    EvaluationExample(\n",
    "        input=\"How do I apply a promo code to my purchase on Rakuten?\",\n",
    "        output=\"Promo codes can save you money on your purchases. To use a promo code, you should find the code, make sure it's valid, and then apply it at checkout. Make sure to check the expiration date.\",\n",
    "        score=2,\n",
    "        justification=\"The output provides general information about how promo codes work, but it includes irrelevant details about finding and validating the code instead of directly explaining how to apply it on Rakuten.\",\n",
    "        grading_context={\n",
    "            \"context\": \"On Rakuten, to apply a promo code to your purchase, navigate to the checkout page. There, you will find a field labeled 'Promo Code' or 'Discount Code' where you can enter your code before completing the purchase.\"\n",
    "        },\n",
    "    ),\n",
    "    EvaluationExample(\n",
    "        input=\"How do I apply a promo code to my purchase on Rakuten?\",\n",
    "        output=\"On Rakuten, navigate to the checkout page and look for a field labeled 'Promo Code' or 'Discount Code'. Enter your code in this field before completing your purchase to apply the discount.\",\n",
    "        score=5,\n",
    "        justification=\"The output is highly relevant to the question, providing a clear and concise explanation on exactly how to apply a promo code on Rakuten, directly addressing the user's inquiry without unnecessary information.\",\n",
    "        grading_context={\n",
    "            \"context\": \"On Rakuten, to apply a promo code to your purchase, navigate to the checkout page. There, you will find a field labeled 'Promo Code' or 'Discount Code' where you can enter your code before completing the purchase.\"\n",
    "        },\n",
    "    ),\n",
    "]\n",
    "\n",
    "relevance_metric = relevance(model=\"openai:/gpt-4\", examples=relevance_examples)"
   ]
  },
  {
   "cell_type": "code",
   "execution_count": null,
   "id": "e779ab32-016b-46c8-abab-2e1c8080de30",
   "metadata": {
    "tags": []
   },
   "outputs": [],
   "source": [
    "# Function that returns the response from the RAG for the evaluation dataset\n",
    "def model(input_df):\n",
    "    answer = []\n",
    "    for index, row in input_df.iterrows():\n",
    "        system_prompt, urls, contexts = build_system_prompt(row[\"questions\"])            \n",
    "        messages = [\n",
    "            SystemMessage(\n",
    "                content=system_prompt\n",
    "            ),\n",
    "            HumanMessage(\n",
    "                content=row[\"questions\"]\n",
    "            ),\n",
    "        ]\n",
    "        response = qa.predict(input=messages)\n",
    "       \n",
    "        answer.append({\"result\":qa.predict(input=messages),\n",
    "                      \"source_documents\":contexts})\n",
    "\n",
    "    return answer"
   ]
  },
  {
   "cell_type": "code",
   "execution_count": null,
   "id": "3a4ce5a4-adb0-433b-b5cf-e383fcc5389e",
   "metadata": {},
   "outputs": [],
   "source": [
    "# Lets run the evaluation for the llm-embedding model combinations\n",
    "\n",
    "qa = None\n",
    "df_metrics = pd.DataFrame()\n",
    "\n",
    "llms = ('OpenAI', 'Anthropic')\n",
    "# llms = ('OpenAI')\n",
    "\n",
    "# Iterate through each combination and execute the evaluations\n",
    "for llm_name in llms:\n",
    "    run_name = f\"{llm_name}_{embedding_model_name}_run\"\n",
    "    print(f'run_name={run_name}')\n",
    "    # Log parameters\n",
    "    print(f\"model : {llm_name}\")\n",
    "    print(f\"embedding : {embedding_model_name}\")\n",
    "    qa = queryAIModel(llm_name, return_chain=True)\n",
    "    # Run the evaluation\n",
    "    results = mlflow.evaluate(\n",
    "    model,\n",
    "    eval_df,\n",
    "    model_type=\"question-answering\",\n",
    "    evaluators=\"default\",\n",
    "    predictions=\"result\",\n",
    "    extra_metrics=[faithfulness_metric, relevance_metric, mlflow.metrics.latency()],\n",
    "    evaluator_config={\n",
    "        \"col_mapping\": {\n",
    "            \"inputs\": \"questions\",\n",
    "            \"context\": \"source_documents\",\n",
    "            }\n",
    "        },\n",
    "    )\n",
    "    metrics_series = pd.Series(results.metrics, name=f'{llm_name}_{embedding_model_name}')\n",
    "    metrics_df = pd.DataFrame([metrics_series])\n",
    "    df_metrics = pd.concat([df_metrics, metrics_df], ignore_index=True)\n",
    "    \n",
    "df_metrics = df_metrics.T\n",
    "df_metrics.columns = llms"
   ]
  },
  {
   "cell_type": "code",
   "execution_count": null,
   "id": "fbf9a94e-dc87-4216-b190-080e74a0851d",
   "metadata": {
    "tags": []
   },
   "outputs": [],
   "source": [
    "df_metrics"
   ]
  },
  {
   "cell_type": "code",
   "execution_count": null,
   "id": "caf6f66c-db1f-48d4-aeb9-ee620af95f12",
   "metadata": {},
   "outputs": [],
   "source": [
    "# Lets now log these metrics in Domino\n",
    "# Define the experiment name\n",
    "experiment_name = 'RAG eval'\n",
    "mlflow.set_experiment(experiment_name)\n",
    "for column in df_metrics:\n",
    "    with mlflow.start_run(run_name=column):\n",
    "        for metric_name, metric_value in df_metrics[column].items():\n",
    "            # Log the metric\n",
    "            mlflow.log_metric(metric_name, metric_value)"
   ]
  },
  {
   "cell_type": "code",
   "execution_count": null,
   "id": "5a122197-bb8b-4de3-bf9f-72f0f30ab575",
   "metadata": {
    "tags": []
   },
   "outputs": [],
   "source": [
    "# Looks good lets push the prompt to a prompt hub\n",
    "# set LANGCHAIN_HUB_API_KEY in an env variable\n",
    "# hub.push(\"subirmansukhani/rakuten-qa-rag\", ChatPromptTemplate.from_template(template), new_repo_is_public=False)"
   ]
  },
  {
   "cell_type": "code",
   "execution_count": null,
   "id": "7b7f5167-f223-460c-8314-185bd8d33bc6",
   "metadata": {
    "tags": []
   },
   "outputs": [],
   "source": [
    "# Lets take a look at the prompt hub\n",
    "\n",
    "# from IPython.display import Javascript, display\n",
    "\n",
    "# # Define the URL you want to open\n",
    "# url = 'https://smith.langchain.com/hub/my-prompts?organizationId=6ac11f6f-c332-4bac-b45b-28a8a96410b4'\n",
    "\n",
    "# # JavaScript code to open a new tab with the specified URL and display it in the cell's output area\n",
    "# js_code = f'''\n",
    "# var newWindow = window.open(\"{url}\");\n",
    "# element.append(newWindow.document.body);\n",
    "# '''\n",
    "\n",
    "# # Display the JavaScript output in the cell's output area\n",
    "# display(Javascript(js_code))"
   ]
  },
  {
   "cell_type": "code",
   "execution_count": null,
   "id": "52b37a47-500b-4c8b-a4dd-ec874fae410c",
   "metadata": {},
   "outputs": [],
   "source": []
  }
 ],
 "metadata": {
  "kernelspec": {
   "display_name": "Python 3 (ipykernel)",
   "language": "python",
   "name": "python3"
  },
  "language_info": {
   "codemirror_mode": {
    "name": "ipython",
    "version": 3
   },
   "file_extension": ".py",
   "mimetype": "text/x-python",
   "name": "python",
   "nbconvert_exporter": "python",
   "pygments_lexer": "ipython3",
   "version": "3.10.12"
  }
 },
 "nbformat": 4,
 "nbformat_minor": 5
}
