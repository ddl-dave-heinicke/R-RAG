{
 "cells": [
  {
   "cell_type": "code",
   "execution_count": null,
   "id": "6441b8bf-6205-4464-a97c-303ea86203f0",
   "metadata": {
    "tags": []
   },
   "outputs": [],
   "source": [
    "! pip install pinecone-client==2.2.4 #restart the kernel after executing this cell"
   ]
  },
  {
   "cell_type": "code",
   "execution_count": 4,
   "id": "1f30f5cf-d1ce-47c9-98c4-b8d7a957c244",
   "metadata": {
    "tags": []
   },
   "outputs": [],
   "source": [
    "# What options do I have for adding code packages to my executions?\n",
    "%run RAG.ipynb"
   ]
  },
  {
   "cell_type": "code",
   "execution_count": 5,
   "id": "b85cb4f5-64af-4fef-bdf5-fee0fc30b9a3",
   "metadata": {
    "tags": []
   },
   "outputs": [],
   "source": [
    "import mlflow\n",
    "import pandas as pd\n",
    "\n",
    "from mlflow.metrics.genai import faithfulness, relevance, EvaluationExample\n",
    "from langchain.chains import RetrievalQA\n",
    "from langchain import hub\n",
    "from langchain.prompts.chat import ChatPromptTemplate"
   ]
  },
  {
   "cell_type": "code",
   "execution_count": 6,
   "id": "0f347736-72ee-4486-9843-9504ca0efd74",
   "metadata": {
    "tags": []
   },
   "outputs": [],
   "source": [
    "# Creating a data frame with e-commerce related questions\n",
    "eval_df = pd.DataFrame(\n",
    "    {\n",
    "        \"questions\": [\n",
    "            \"What options do I have for adding code packages to my executions?\",\n",
    "            \"Does Domino support Project environment variables?\",\n",
    "            \"Does Domino have its own managed storage?\",\n",
    "            \"Can I attach an external data volumne?\",\n",
    "            \"Which vector databases does Domino currently support?\",\n",
    "            \"Does Domino have a Feature Store?\"\n",
    "        ],\n",
    "    }\n",
    ")"
   ]
  },
  {
   "cell_type": "code",
   "execution_count": 7,
   "id": "f76c1ace-72c7-443a-a8d7-85e1e91134c8",
   "metadata": {
    "tags": []
   },
   "outputs": [],
   "source": [
    "# Create good and bad examples for faithfulness in the context of support questions\n",
    "faithfulness_examples = [\n",
    "    EvaluationExample(\n",
    "        input=\"Does Domino have its own managed storage?\",\n",
    "        output=\"Domino Datasets provides high-performance, versioned, and structured filesystem storage in Domino.\",\n",
    "        score=2,\n",
    "        justification=\"The output provides a partially correct answer but misses important context about the the advantages of using Domino Datasets for reproducability\",\n",
    "        grading_context={\n",
    "            \"context\": \" You can use Datasets to build multiple curated collections of data in one Project and share them with your collaborators to use in their Projects. Likewise, you can mount Datasets from other Projects in your own Project if they are shared with you.\"\n",
    "        },\n",
    "    ),\n",
    "    EvaluationExample(\n",
    "        input=\"Which vector databases does Domino currently support?\",\n",
    "        output=\"Domino currently supports Pinecone and QDrant\",\n",
    "        score=5,\n",
    "        justification=\"The output accurately reflects the databases currently supported, but does not indicate our plan to add more connectors\",\n",
    "        grading_context={\n",
    "            \"context\": \"Domino is in the process of adding more vector database connectors\"\n",
    "        },\n",
    "    ),\n",
    "]\n",
    "# Uncomment below if you don't want to use an AI g/w endpoint\n",
    "# faithfulness_metric = faithfulness(model=\"openai:/gpt-4\", examples=faithfulness_examples)\n",
    "faithfulness_metric = faithfulness(model=\"endpoints:/chat-gpt4-ja\", examples=faithfulness_examples)"
   ]
  },
  {
   "cell_type": "code",
   "execution_count": 8,
   "id": "af380252-7a85-46a8-a8d9-930b140df189",
   "metadata": {
    "tags": []
   },
   "outputs": [],
   "source": [
    "# Create good and bad examples for relevance in the context of e-commerce questions\n",
    "relevance_examples = [\n",
    "    EvaluationExample(\n",
    "        input=\"Why can't I see the hardware tier I was expecting to see in my project?\",\n",
    "        output=\"Root cause: The hardware tiers you are looking for may have restricted access.\",\n",
    "        score=2,\n",
    "        justification=\"The output provides general information, but does not provide a solution. For example, Your local Domino admin team will often restrict access to larger GPU/CPU tiers in order to contain costs on those tiers.\",\n",
    "        grading_context={\n",
    "            \"context\": \"If you don't see hardware tiers you are looking for, reach out to your local admin team for access to those tiers.  Access to hardware tiers in Domino is managed at the organization level.  So you will likely just need to be added to the appropriate Domino org. with access to that hardware tier by your local admin team.\"\n",
    "        },\n",
    "    ),\n",
    "    EvaluationExample(\n",
    "        input=\"What does Suggested and Popular Projects mean?\",\n",
    "        output=\"The top popular projects are calculated based on how many jobs are getting executed, the number of tags, and the number of collaborators with specific weightings.\",\n",
    "        score=5,\n",
    "        justification=\"The output is highly relevant to the question, providing a clear and concise explanation on exactly how Projects are sugested\",\n",
    "        grading_context={\n",
    "            \"context\": \"The top popular projects are calculated based on how many jobs are getting executed, the number of tags, and the number of collaborators with specific weightings. In Domino's config (this config is not exposed to users), you can add weights to each value (tags, collaborators, job count).\"\n",
    "        },\n",
    "    ),\n",
    "]\n",
    "# Uncomment below if you don't want to use an AI g/w endpoint\n",
    "# relevance_metric = relevance(model=\"openai:/gpt-4\", examples=relevance_examples)\n",
    "relevance_metric = relevance(model=\"endpoints:/chat-gpt4-ja\", examples=relevance_examples)"
   ]
  },
  {
   "cell_type": "code",
   "execution_count": 9,
   "id": "e779ab32-016b-46c8-abab-2e1c8080de30",
   "metadata": {
    "tags": []
   },
   "outputs": [],
   "source": [
    "# Function that returns the response from the RAG for the evaluation dataset\n",
    "def model(input_df):\n",
    "    answer = []\n",
    "    for index, row in input_df.iterrows():\n",
    "        system_prompt, contexts = build_system_prompt(row[\"questions\"], use_hyde=False)            \n",
    "        messages = [\n",
    "            SystemMessage(\n",
    "                content=system_prompt\n",
    "            ),\n",
    "            HumanMessage(\n",
    "                content=row[\"questions\"]\n",
    "            ),\n",
    "        ]\n",
    "        response = qa.predict(input=messages)\n",
    "       \n",
    "        answer.append({\"result\":qa.predict(input=messages),\n",
    "                      \"source_documents\":contexts})\n",
    "\n",
    "    return answer"
   ]
  },
  {
   "cell_type": "code",
   "execution_count": 10,
   "id": "3a4ce5a4-adb0-433b-b5cf-e383fcc5389e",
   "metadata": {
    "tags": []
   },
   "outputs": [
    {
     "name": "stdout",
     "output_type": "stream",
     "text": [
      "run_name=OpenAI_BAAI/bge-small-en_run\n",
      "model : OpenAI\n",
      "embedding : BAAI/bge-small-en\n"
     ]
    },
    {
     "name": "stderr",
     "output_type": "stream",
     "text": [
      "2024/05/11 15:51:34 INFO mlflow.models.evaluation.base: Evaluating the model with the default evaluator.\n",
      "2024/05/11 15:51:34 INFO mlflow.models.evaluation.default_evaluator: Computing model predictions.\n",
      "/opt/conda/lib/python3.9/site-packages/torch/amp/autocast_mode.py:250: UserWarning: User provided device_type of 'cuda', but CUDA is not available. Disabling\n",
      "  warnings.warn(\n"
     ]
    },
    {
     "name": "stdout",
     "output_type": "stream",
     "text": [
      "WARNING! Your documents have duplicate entries!  This will slow down calculation and may yield subpar results\n"
     ]
    },
    {
     "name": "stderr",
     "output_type": "stream",
     "text": [
      "100%|██████████| 1/1 [00:00<00:00,  2.29it/s]\n"
     ]
    },
    {
     "name": "stdout",
     "output_type": "stream",
     "text": [
      "Indexing error: list index out of range\n"
     ]
    },
    {
     "name": "stderr",
     "output_type": "stream",
     "text": [
      "/opt/conda/lib/python3.9/site-packages/torch/amp/autocast_mode.py:250: UserWarning: User provided device_type of 'cuda', but CUDA is not available. Disabling\n",
      "  warnings.warn(\n"
     ]
    },
    {
     "name": "stdout",
     "output_type": "stream",
     "text": [
      "WARNING! Your documents have duplicate entries!  This will slow down calculation and may yield subpar results\n"
     ]
    },
    {
     "name": "stderr",
     "output_type": "stream",
     "text": [
      "100%|██████████| 1/1 [00:00<00:00,  1.72it/s]\n"
     ]
    },
    {
     "name": "stdout",
     "output_type": "stream",
     "text": [
      "Indexing error: list index out of range\n"
     ]
    },
    {
     "name": "stderr",
     "output_type": "stream",
     "text": [
      "/opt/conda/lib/python3.9/site-packages/torch/amp/autocast_mode.py:250: UserWarning: User provided device_type of 'cuda', but CUDA is not available. Disabling\n",
      "  warnings.warn(\n"
     ]
    },
    {
     "name": "stdout",
     "output_type": "stream",
     "text": [
      "WARNING! Your documents have duplicate entries!  This will slow down calculation and may yield subpar results\n"
     ]
    },
    {
     "name": "stderr",
     "output_type": "stream",
     "text": [
      "100%|██████████| 1/1 [00:00<00:00,  1.87it/s]\n",
      "/opt/conda/lib/python3.9/site-packages/torch/amp/autocast_mode.py:250: UserWarning: User provided device_type of 'cuda', but CUDA is not available. Disabling\n",
      "  warnings.warn(\n"
     ]
    },
    {
     "name": "stdout",
     "output_type": "stream",
     "text": [
      "WARNING! Your documents have duplicate entries!  This will slow down calculation and may yield subpar results\n"
     ]
    },
    {
     "name": "stderr",
     "output_type": "stream",
     "text": [
      "100%|██████████| 1/1 [00:00<00:00,  7.45it/s]"
     ]
    },
    {
     "name": "stdout",
     "output_type": "stream",
     "text": [
      "Indexing error: list index out of range\n"
     ]
    },
    {
     "name": "stderr",
     "output_type": "stream",
     "text": [
      "\n",
      "/opt/conda/lib/python3.9/site-packages/torch/amp/autocast_mode.py:250: UserWarning: User provided device_type of 'cuda', but CUDA is not available. Disabling\n",
      "  warnings.warn(\n"
     ]
    },
    {
     "name": "stdout",
     "output_type": "stream",
     "text": [
      "WARNING! Your documents have duplicate entries!  This will slow down calculation and may yield subpar results\n"
     ]
    },
    {
     "name": "stderr",
     "output_type": "stream",
     "text": [
      "100%|██████████| 1/1 [00:00<00:00,  5.53it/s]\n"
     ]
    },
    {
     "name": "stdout",
     "output_type": "stream",
     "text": [
      "Indexing error: list index out of range\n"
     ]
    },
    {
     "name": "stderr",
     "output_type": "stream",
     "text": [
      "/opt/conda/lib/python3.9/site-packages/torch/amp/autocast_mode.py:250: UserWarning: User provided device_type of 'cuda', but CUDA is not available. Disabling\n",
      "  warnings.warn(\n"
     ]
    },
    {
     "name": "stdout",
     "output_type": "stream",
     "text": [
      "WARNING! Your documents have duplicate entries!  This will slow down calculation and may yield subpar results\n"
     ]
    },
    {
     "name": "stderr",
     "output_type": "stream",
     "text": [
      "100%|██████████| 1/1 [00:00<00:00,  1.94it/s]\n"
     ]
    },
    {
     "name": "stdout",
     "output_type": "stream",
     "text": [
      "Indexing error: list index out of range\n"
     ]
    },
    {
     "name": "stderr",
     "output_type": "stream",
     "text": [
      "/opt/conda/lib/python3.9/site-packages/torch/amp/autocast_mode.py:250: UserWarning: User provided device_type of 'cuda', but CUDA is not available. Disabling\n",
      "  warnings.warn(\n"
     ]
    },
    {
     "name": "stdout",
     "output_type": "stream",
     "text": [
      "WARNING! Your documents have duplicate entries!  This will slow down calculation and may yield subpar results\n"
     ]
    },
    {
     "name": "stderr",
     "output_type": "stream",
     "text": [
      "100%|██████████| 1/1 [00:00<00:00,  1.77it/s]\n"
     ]
    },
    {
     "name": "stdout",
     "output_type": "stream",
     "text": [
      "Indexing error: list index out of range\n"
     ]
    },
    {
     "name": "stderr",
     "output_type": "stream",
     "text": [
      "/opt/conda/lib/python3.9/site-packages/torch/amp/autocast_mode.py:250: UserWarning: User provided device_type of 'cuda', but CUDA is not available. Disabling\n",
      "  warnings.warn(\n"
     ]
    },
    {
     "name": "stdout",
     "output_type": "stream",
     "text": [
      "WARNING! Your documents have duplicate entries!  This will slow down calculation and may yield subpar results\n"
     ]
    },
    {
     "name": "stderr",
     "output_type": "stream",
     "text": [
      "100%|██████████| 1/1 [00:00<00:00,  1.79it/s]\n"
     ]
    },
    {
     "name": "stdout",
     "output_type": "stream",
     "text": [
      "Indexing error: list index out of range\n"
     ]
    },
    {
     "name": "stderr",
     "output_type": "stream",
     "text": [
      "/opt/conda/lib/python3.9/site-packages/torch/amp/autocast_mode.py:250: UserWarning: User provided device_type of 'cuda', but CUDA is not available. Disabling\n",
      "  warnings.warn(\n"
     ]
    },
    {
     "name": "stdout",
     "output_type": "stream",
     "text": [
      "WARNING! Your documents have duplicate entries!  This will slow down calculation and may yield subpar results\n"
     ]
    },
    {
     "name": "stderr",
     "output_type": "stream",
     "text": [
      "100%|██████████| 1/1 [00:00<00:00,  1.86it/s]\n"
     ]
    },
    {
     "name": "stdout",
     "output_type": "stream",
     "text": [
      "Indexing error: list index out of range\n"
     ]
    },
    {
     "name": "stderr",
     "output_type": "stream",
     "text": [
      "/opt/conda/lib/python3.9/site-packages/torch/amp/autocast_mode.py:250: UserWarning: User provided device_type of 'cuda', but CUDA is not available. Disabling\n",
      "  warnings.warn(\n"
     ]
    },
    {
     "name": "stdout",
     "output_type": "stream",
     "text": [
      "WARNING! Your documents have duplicate entries!  This will slow down calculation and may yield subpar results\n"
     ]
    },
    {
     "name": "stderr",
     "output_type": "stream",
     "text": [
      "100%|██████████| 1/1 [00:00<00:00,  2.37it/s]\n"
     ]
    },
    {
     "name": "stdout",
     "output_type": "stream",
     "text": [
      "Indexing error: list index out of range\n"
     ]
    },
    {
     "name": "stderr",
     "output_type": "stream",
     "text": [
      "/opt/conda/lib/python3.9/site-packages/torch/amp/autocast_mode.py:250: UserWarning: User provided device_type of 'cuda', but CUDA is not available. Disabling\n",
      "  warnings.warn(\n"
     ]
    },
    {
     "name": "stdout",
     "output_type": "stream",
     "text": [
      "WARNING! Your documents have duplicate entries!  This will slow down calculation and may yield subpar results\n"
     ]
    },
    {
     "name": "stderr",
     "output_type": "stream",
     "text": [
      "100%|██████████| 1/1 [00:00<00:00,  1.47it/s]\n"
     ]
    },
    {
     "name": "stdout",
     "output_type": "stream",
     "text": [
      "Indexing error: list index out of range\n"
     ]
    },
    {
     "name": "stderr",
     "output_type": "stream",
     "text": [
      "/opt/conda/lib/python3.9/site-packages/torch/amp/autocast_mode.py:250: UserWarning: User provided device_type of 'cuda', but CUDA is not available. Disabling\n",
      "  warnings.warn(\n"
     ]
    },
    {
     "name": "stdout",
     "output_type": "stream",
     "text": [
      "WARNING! Your documents have duplicate entries!  This will slow down calculation and may yield subpar results\n"
     ]
    },
    {
     "name": "stderr",
     "output_type": "stream",
     "text": [
      "100%|██████████| 1/1 [00:00<00:00,  2.43it/s]\n"
     ]
    },
    {
     "name": "stdout",
     "output_type": "stream",
     "text": [
      "Indexing error: list index out of range\n"
     ]
    },
    {
     "name": "stderr",
     "output_type": "stream",
     "text": [
      "/opt/conda/lib/python3.9/site-packages/torch/amp/autocast_mode.py:250: UserWarning: User provided device_type of 'cuda', but CUDA is not available. Disabling\n",
      "  warnings.warn(\n"
     ]
    },
    {
     "name": "stdout",
     "output_type": "stream",
     "text": [
      "WARNING! Your documents have duplicate entries!  This will slow down calculation and may yield subpar results\n"
     ]
    },
    {
     "name": "stderr",
     "output_type": "stream",
     "text": [
      "100%|██████████| 1/1 [00:01<00:00,  1.30s/it]\n"
     ]
    },
    {
     "name": "stdout",
     "output_type": "stream",
     "text": [
      "Indexing error: list index out of range\n"
     ]
    },
    {
     "name": "stderr",
     "output_type": "stream",
     "text": [
      "/opt/conda/lib/python3.9/site-packages/torch/amp/autocast_mode.py:250: UserWarning: User provided device_type of 'cuda', but CUDA is not available. Disabling\n",
      "  warnings.warn(\n"
     ]
    },
    {
     "name": "stdout",
     "output_type": "stream",
     "text": [
      "WARNING! Your documents have duplicate entries!  This will slow down calculation and may yield subpar results\n"
     ]
    },
    {
     "name": "stderr",
     "output_type": "stream",
     "text": [
      "100%|██████████| 1/1 [00:00<00:00,  4.89it/s]\n"
     ]
    },
    {
     "name": "stdout",
     "output_type": "stream",
     "text": [
      "Indexing error: list index out of range\n"
     ]
    },
    {
     "name": "stderr",
     "output_type": "stream",
     "text": [
      "/opt/conda/lib/python3.9/site-packages/torch/amp/autocast_mode.py:250: UserWarning: User provided device_type of 'cuda', but CUDA is not available. Disabling\n",
      "  warnings.warn(\n"
     ]
    },
    {
     "name": "stdout",
     "output_type": "stream",
     "text": [
      "WARNING! Your documents have duplicate entries!  This will slow down calculation and may yield subpar results\n"
     ]
    },
    {
     "name": "stderr",
     "output_type": "stream",
     "text": [
      "100%|██████████| 1/1 [00:00<00:00,  2.96it/s]\n"
     ]
    },
    {
     "name": "stdout",
     "output_type": "stream",
     "text": [
      "Indexing error: list index out of range\n"
     ]
    },
    {
     "name": "stderr",
     "output_type": "stream",
     "text": [
      "/opt/conda/lib/python3.9/site-packages/torch/amp/autocast_mode.py:250: UserWarning: User provided device_type of 'cuda', but CUDA is not available. Disabling\n",
      "  warnings.warn(\n"
     ]
    },
    {
     "name": "stdout",
     "output_type": "stream",
     "text": [
      "WARNING! Your documents have duplicate entries!  This will slow down calculation and may yield subpar results\n"
     ]
    },
    {
     "name": "stderr",
     "output_type": "stream",
     "text": [
      "100%|██████████| 1/1 [00:00<00:00,  6.19it/s]\n"
     ]
    },
    {
     "name": "stdout",
     "output_type": "stream",
     "text": [
      "Indexing error: list index out of range\n"
     ]
    },
    {
     "name": "stderr",
     "output_type": "stream",
     "text": [
      "/opt/conda/lib/python3.9/site-packages/torch/amp/autocast_mode.py:250: UserWarning: User provided device_type of 'cuda', but CUDA is not available. Disabling\n",
      "  warnings.warn(\n"
     ]
    },
    {
     "name": "stdout",
     "output_type": "stream",
     "text": [
      "WARNING! Your documents have duplicate entries!  This will slow down calculation and may yield subpar results\n"
     ]
    },
    {
     "name": "stderr",
     "output_type": "stream",
     "text": [
      "100%|██████████| 1/1 [00:00<00:00,  6.62it/s]"
     ]
    },
    {
     "name": "stdout",
     "output_type": "stream",
     "text": [
      "Indexing error: list index out of range\n"
     ]
    },
    {
     "name": "stderr",
     "output_type": "stream",
     "text": [
      "\n",
      "/opt/conda/lib/python3.9/site-packages/torch/amp/autocast_mode.py:250: UserWarning: User provided device_type of 'cuda', but CUDA is not available. Disabling\n",
      "  warnings.warn(\n"
     ]
    },
    {
     "name": "stdout",
     "output_type": "stream",
     "text": [
      "WARNING! Your documents have duplicate entries!  This will slow down calculation and may yield subpar results\n"
     ]
    },
    {
     "name": "stderr",
     "output_type": "stream",
     "text": [
      "100%|██████████| 1/1 [00:00<00:00,  5.40it/s]\n"
     ]
    },
    {
     "name": "stdout",
     "output_type": "stream",
     "text": [
      "Indexing error: list index out of range\n"
     ]
    },
    {
     "name": "stderr",
     "output_type": "stream",
     "text": [
      "/opt/conda/lib/python3.9/site-packages/torch/amp/autocast_mode.py:250: UserWarning: User provided device_type of 'cuda', but CUDA is not available. Disabling\n",
      "  warnings.warn(\n"
     ]
    },
    {
     "name": "stdout",
     "output_type": "stream",
     "text": [
      "WARNING! Your documents have duplicate entries!  This will slow down calculation and may yield subpar results\n"
     ]
    },
    {
     "name": "stderr",
     "output_type": "stream",
     "text": [
      "100%|██████████| 1/1 [00:00<00:00,  3.03it/s]\n"
     ]
    },
    {
     "name": "stdout",
     "output_type": "stream",
     "text": [
      "Indexing error: list index out of range\n"
     ]
    },
    {
     "name": "stderr",
     "output_type": "stream",
     "text": [
      "/opt/conda/lib/python3.9/site-packages/torch/amp/autocast_mode.py:250: UserWarning: User provided device_type of 'cuda', but CUDA is not available. Disabling\n",
      "  warnings.warn(\n"
     ]
    },
    {
     "name": "stdout",
     "output_type": "stream",
     "text": [
      "WARNING! Your documents have duplicate entries!  This will slow down calculation and may yield subpar results\n"
     ]
    },
    {
     "name": "stderr",
     "output_type": "stream",
     "text": [
      "100%|██████████| 1/1 [00:00<00:00,  5.99it/s]\n"
     ]
    },
    {
     "name": "stdout",
     "output_type": "stream",
     "text": [
      "Indexing error: list index out of range\n"
     ]
    },
    {
     "name": "stderr",
     "output_type": "stream",
     "text": [
      "2024/05/11 15:59:50 INFO mlflow.models.evaluation.default_evaluator: Testing metrics on first row...\n",
      "2024/05/11 15:59:50 WARNING mlflow.metrics.metric_definitions: Failed to load 'toxicity' metric (error: ModuleNotFoundError(\"No module named 'evaluate'\")), skipping metric logging.\n",
      "2024/05/11 15:59:50 WARNING mlflow.models.evaluation.default_evaluator: Did not log builtin metric 'toxicity' because it returned None.\n",
      "2024/05/11 15:59:50 WARNING mlflow.metrics.metric_definitions: Failed to load flesch kincaid metric, skipping metric logging.\n",
      "2024/05/11 15:59:50 WARNING mlflow.models.evaluation.default_evaluator: Did not log builtin metric 'flesch_kincaid_grade_level' because it returned None.\n",
      "2024/05/11 15:59:50 WARNING mlflow.metrics.metric_definitions: Failed to load automated readability index metric, skipping metric logging.\n",
      "2024/05/11 15:59:50 WARNING mlflow.models.evaluation.default_evaluator: Did not log builtin metric 'ari_grade_level' because it returned None.\n",
      "2024/05/11 15:59:50 WARNING mlflow.models.evaluation.default_evaluator: Did not log builtin metric 'exact_match' because it returned None.\n"
     ]
    },
    {
     "data": {
      "application/vnd.jupyter.widget-view+json": {
       "model_id": "c59323845205448d95730cd1f975d2d5",
       "version_major": 2,
       "version_minor": 0
      },
      "text/plain": [
       "  0%|          | 0/1 [00:00<?, ?it/s]"
      ]
     },
     "metadata": {},
     "output_type": "display_data"
    },
    {
     "name": "stderr",
     "output_type": "stream",
     "text": [
      "/opt/conda/lib/python3.9/site-packages/numpy/core/fromnumeric.py:3432: RuntimeWarning: Mean of empty slice.\n",
      "  return _methods._mean(a, axis=axis, dtype=dtype,\n",
      "/opt/conda/lib/python3.9/site-packages/numpy/core/_methods.py:190: RuntimeWarning: invalid value encountered in double_scalars\n",
      "  ret = ret.dtype.type(ret / rcount)\n",
      "/opt/conda/lib/python3.9/site-packages/numpy/core/fromnumeric.py:3715: RuntimeWarning: Degrees of freedom <= 0 for slice\n",
      "  return _methods._var(a, axis=axis, dtype=dtype, out=out, ddof=ddof,\n",
      "/opt/conda/lib/python3.9/site-packages/numpy/core/_methods.py:223: RuntimeWarning: invalid value encountered in divide\n",
      "  arrmean = um.true_divide(arrmean, div, out=arrmean, casting='unsafe',\n",
      "/opt/conda/lib/python3.9/site-packages/numpy/core/_methods.py:257: RuntimeWarning: invalid value encountered in double_scalars\n",
      "  ret = ret.dtype.type(ret / rcount)\n"
     ]
    },
    {
     "data": {
      "application/vnd.jupyter.widget-view+json": {
       "model_id": "f577429d26e3428ea614a7ed05fb10b5",
       "version_major": 2,
       "version_minor": 0
      },
      "text/plain": [
       "  0%|          | 0/1 [00:00<?, ?it/s]"
      ]
     },
     "metadata": {},
     "output_type": "display_data"
    },
    {
     "name": "stderr",
     "output_type": "stream",
     "text": [
      "2024/05/11 15:59:50 WARNING mlflow.metrics.metric_definitions: Failed to load 'toxicity' metric (error: ModuleNotFoundError(\"No module named 'evaluate'\")), skipping metric logging.\n",
      "2024/05/11 15:59:50 WARNING mlflow.models.evaluation.default_evaluator: Did not log builtin metric 'toxicity' because it returned None.\n",
      "2024/05/11 15:59:50 WARNING mlflow.metrics.metric_definitions: Failed to load flesch kincaid metric, skipping metric logging.\n",
      "2024/05/11 15:59:50 WARNING mlflow.models.evaluation.default_evaluator: Did not log builtin metric 'flesch_kincaid_grade_level' because it returned None.\n",
      "2024/05/11 15:59:50 WARNING mlflow.metrics.metric_definitions: Failed to load automated readability index metric, skipping metric logging.\n",
      "2024/05/11 15:59:50 WARNING mlflow.models.evaluation.default_evaluator: Did not log builtin metric 'ari_grade_level' because it returned None.\n",
      "2024/05/11 15:59:50 WARNING mlflow.models.evaluation.default_evaluator: Did not log builtin metric 'exact_match' because it returned None.\n"
     ]
    },
    {
     "data": {
      "application/vnd.jupyter.widget-view+json": {
       "model_id": "871c1ed6931e413181fa3be8f425276d",
       "version_major": 2,
       "version_minor": 0
      },
      "text/plain": [
       "  0%|          | 0/20 [00:00<?, ?it/s]"
      ]
     },
     "metadata": {},
     "output_type": "display_data"
    },
    {
     "name": "stderr",
     "output_type": "stream",
     "text": [
      "/opt/conda/lib/python3.9/site-packages/numpy/core/fromnumeric.py:3432: RuntimeWarning: Mean of empty slice.\n",
      "  return _methods._mean(a, axis=axis, dtype=dtype,\n",
      "/opt/conda/lib/python3.9/site-packages/numpy/core/_methods.py:190: RuntimeWarning: invalid value encountered in double_scalars\n",
      "  ret = ret.dtype.type(ret / rcount)\n",
      "/opt/conda/lib/python3.9/site-packages/numpy/core/fromnumeric.py:3715: RuntimeWarning: Degrees of freedom <= 0 for slice\n",
      "  return _methods._var(a, axis=axis, dtype=dtype, out=out, ddof=ddof,\n",
      "/opt/conda/lib/python3.9/site-packages/numpy/core/_methods.py:223: RuntimeWarning: invalid value encountered in divide\n",
      "  arrmean = um.true_divide(arrmean, div, out=arrmean, casting='unsafe',\n",
      "/opt/conda/lib/python3.9/site-packages/numpy/core/_methods.py:257: RuntimeWarning: invalid value encountered in double_scalars\n",
      "  ret = ret.dtype.type(ret / rcount)\n"
     ]
    },
    {
     "data": {
      "application/vnd.jupyter.widget-view+json": {
       "model_id": "39ba1c88947e46618ce1dd0ee7bd0faa",
       "version_major": 2,
       "version_minor": 0
      },
      "text/plain": [
       "  0%|          | 0/20 [00:00<?, ?it/s]"
      ]
     },
     "metadata": {},
     "output_type": "display_data"
    },
    {
     "name": "stdout",
     "output_type": "stream",
     "text": [
      "run_name=Anthropic_BAAI/bge-small-en_run\n",
      "model : Anthropic\n",
      "embedding : BAAI/bge-small-en\n"
     ]
    },
    {
     "ename": "NameError",
     "evalue": "name 'conversation_anthropic' is not defined",
     "output_type": "error",
     "traceback": [
      "\u001b[0;31m---------------------------------------------------------------------------\u001b[0m",
      "\u001b[0;31mNameError\u001b[0m                                 Traceback (most recent call last)",
      "Cell \u001b[0;32mIn[10], line 19\u001b[0m\n\u001b[1;32m     17\u001b[0m     qa \u001b[38;5;241m=\u001b[39m conversation_openai\n\u001b[1;32m     18\u001b[0m \u001b[38;5;28;01melif\u001b[39;00m \u001b[38;5;124m\"\u001b[39m\u001b[38;5;124mAnthropic\u001b[39m\u001b[38;5;124m\"\u001b[39m \u001b[38;5;129;01min\u001b[39;00m llm_name:\n\u001b[0;32m---> 19\u001b[0m     qa\u001b[38;5;241m=\u001b[39m \u001b[43mconversation_anthropic\u001b[49m\n\u001b[1;32m     20\u001b[0m \u001b[38;5;66;03m# Run the evaluation\u001b[39;00m\n\u001b[1;32m     21\u001b[0m results \u001b[38;5;241m=\u001b[39m mlflow\u001b[38;5;241m.\u001b[39mevaluate(\n\u001b[1;32m     22\u001b[0m model,\n\u001b[1;32m     23\u001b[0m eval_df,\n\u001b[0;32m   (...)\u001b[0m\n\u001b[1;32m     33\u001b[0m     },\n\u001b[1;32m     34\u001b[0m )\n",
      "\u001b[0;31mNameError\u001b[0m: name 'conversation_anthropic' is not defined"
     ]
    }
   ],
   "source": [
    "# Lets run the evaluation for the llm-embedding model combinations\n",
    "\n",
    "qa = None\n",
    "df_metrics = pd.DataFrame()\n",
    "\n",
    "# llms = ('OpenAI', 'Anthropic')\n",
    "llms = ('OpenAI')\n",
    "\n",
    "# Iterate through each combination and execute the evaluations\n",
    "for llm_name in llms:\n",
    "    run_name = f\"{llm_name}_{embedding_model_name}_run\"\n",
    "    print(f'run_name={run_name}')\n",
    "    # Log parameters\n",
    "    print(f\"model : {llm_name}\")\n",
    "    print(f\"embedding : {embedding_model_name}\")\n",
    "    if \"OpenAI\" in llm_name:\n",
    "        qa = conversation_openai\n",
    "    elif \"Anthropic\" in llm_name:\n",
    "        qa= conversation_anthropic\n",
    "    # Run the evaluation\n",
    "    results = mlflow.evaluate(\n",
    "    model,\n",
    "    eval_df,\n",
    "    model_type=\"question-answering\",\n",
    "    evaluators=\"default\",\n",
    "    predictions=\"result\",\n",
    "    extra_metrics=[faithfulness_metric, relevance_metric, mlflow.metrics.latency()],\n",
    "    evaluator_config={\n",
    "        \"col_mapping\": {\n",
    "            \"inputs\": \"questions\",\n",
    "            \"context\": \"source_documents\",\n",
    "            }\n",
    "        },\n",
    "    )\n",
    "    metrics_series = pd.Series(results.metrics, name=f'{llm_name}_{embedding_model_name}')\n",
    "    metrics_df = pd.DataFrame([metrics_series])\n",
    "    df_metrics = pd.concat([df_metrics, metrics_df], ignore_index=True)\n",
    "    \n",
    "df_metrics = df_metrics.T\n",
    "df_metrics.columns = llms"
   ]
  },
  {
   "cell_type": "code",
   "execution_count": 11,
   "id": "dcc29e5e-d864-48d3-a617-1b851008007c",
   "metadata": {},
   "outputs": [
    {
     "data": {
      "text/html": [
       "<div>\n",
       "<style scoped>\n",
       "    .dataframe tbody tr th:only-of-type {\n",
       "        vertical-align: middle;\n",
       "    }\n",
       "\n",
       "    .dataframe tbody tr th {\n",
       "        vertical-align: top;\n",
       "    }\n",
       "\n",
       "    .dataframe thead th {\n",
       "        text-align: right;\n",
       "    }\n",
       "</style>\n",
       "<table border=\"1\" class=\"dataframe\">\n",
       "  <thead>\n",
       "    <tr style=\"text-align: right;\">\n",
       "      <th></th>\n",
       "      <th>latency/mean</th>\n",
       "      <th>latency/variance</th>\n",
       "      <th>latency/p90</th>\n",
       "      <th>faithfulness/v1/mean</th>\n",
       "      <th>faithfulness/v1/variance</th>\n",
       "      <th>relevance/v1/mean</th>\n",
       "      <th>relevance/v1/variance</th>\n",
       "    </tr>\n",
       "  </thead>\n",
       "  <tbody>\n",
       "    <tr>\n",
       "      <th>0</th>\n",
       "      <td>24.774204</td>\n",
       "      <td>135.885953</td>\n",
       "      <td>45.376863</td>\n",
       "      <td>NaN</td>\n",
       "      <td>NaN</td>\n",
       "      <td>NaN</td>\n",
       "      <td>NaN</td>\n",
       "    </tr>\n",
       "  </tbody>\n",
       "</table>\n",
       "</div>"
      ],
      "text/plain": [
       "   latency/mean  latency/variance  latency/p90  faithfulness/v1/mean  \\\n",
       "0     24.774204        135.885953    45.376863                   NaN   \n",
       "\n",
       "   faithfulness/v1/variance  relevance/v1/mean  relevance/v1/variance  \n",
       "0                       NaN                NaN                    NaN  "
      ]
     },
     "execution_count": 11,
     "metadata": {},
     "output_type": "execute_result"
    }
   ],
   "source": [
    "df_metrics"
   ]
  },
  {
   "cell_type": "code",
   "execution_count": 42,
   "id": "044456e8-3ba8-4743-bd99-dc7f4d907a52",
   "metadata": {
    "tags": []
   },
   "outputs": [
    {
     "data": {
      "text/html": [
       "<div>\n",
       "<style scoped>\n",
       "    .dataframe tbody tr th:only-of-type {\n",
       "        vertical-align: middle;\n",
       "    }\n",
       "\n",
       "    .dataframe tbody tr th {\n",
       "        vertical-align: top;\n",
       "    }\n",
       "\n",
       "    .dataframe thead th {\n",
       "        text-align: right;\n",
       "    }\n",
       "</style>\n",
       "<table border=\"1\" class=\"dataframe\">\n",
       "  <thead>\n",
       "    <tr style=\"text-align: right;\">\n",
       "      <th></th>\n",
       "      <th>OpenAI</th>\n",
       "      <th>Anthropic</th>\n",
       "    </tr>\n",
       "  </thead>\n",
       "  <tbody>\n",
       "    <tr>\n",
       "      <th>latency/mean</th>\n",
       "      <td>1.804568e+01</td>\n",
       "      <td>5.183562e+01</td>\n",
       "    </tr>\n",
       "    <tr>\n",
       "      <th>latency/variance</th>\n",
       "      <td>2.980686e+01</td>\n",
       "      <td>1.103993e+02</td>\n",
       "    </tr>\n",
       "    <tr>\n",
       "      <th>latency/p90</th>\n",
       "      <td>2.455966e+01</td>\n",
       "      <td>6.172835e+01</td>\n",
       "    </tr>\n",
       "    <tr>\n",
       "      <th>toxicity/v1/mean</th>\n",
       "      <td>4.520087e-04</td>\n",
       "      <td>7.045586e-04</td>\n",
       "    </tr>\n",
       "    <tr>\n",
       "      <th>toxicity/v1/variance</th>\n",
       "      <td>2.883591e-08</td>\n",
       "      <td>1.117442e-07</td>\n",
       "    </tr>\n",
       "    <tr>\n",
       "      <th>toxicity/v1/p90</th>\n",
       "      <td>6.356920e-04</td>\n",
       "      <td>1.012876e-03</td>\n",
       "    </tr>\n",
       "    <tr>\n",
       "      <th>toxicity/v1/ratio</th>\n",
       "      <td>0.000000e+00</td>\n",
       "      <td>0.000000e+00</td>\n",
       "    </tr>\n",
       "    <tr>\n",
       "      <th>faithfulness/v1/mean</th>\n",
       "      <td>3.200000e+00</td>\n",
       "      <td>3.300000e+00</td>\n",
       "    </tr>\n",
       "    <tr>\n",
       "      <th>faithfulness/v1/variance</th>\n",
       "      <td>3.360000e+00</td>\n",
       "      <td>2.710000e+00</td>\n",
       "    </tr>\n",
       "    <tr>\n",
       "      <th>faithfulness/v1/p90</th>\n",
       "      <td>5.000000e+00</td>\n",
       "      <td>5.000000e+00</td>\n",
       "    </tr>\n",
       "    <tr>\n",
       "      <th>relevance/v1/mean</th>\n",
       "      <td>4.400000e+00</td>\n",
       "      <td>4.600000e+00</td>\n",
       "    </tr>\n",
       "    <tr>\n",
       "      <th>relevance/v1/variance</th>\n",
       "      <td>2.400000e-01</td>\n",
       "      <td>2.400000e-01</td>\n",
       "    </tr>\n",
       "    <tr>\n",
       "      <th>relevance/v1/p90</th>\n",
       "      <td>5.000000e+00</td>\n",
       "      <td>5.000000e+00</td>\n",
       "    </tr>\n",
       "  </tbody>\n",
       "</table>\n",
       "</div>"
      ],
      "text/plain": [
       "                                OpenAI     Anthropic\n",
       "latency/mean              1.804568e+01  5.183562e+01\n",
       "latency/variance          2.980686e+01  1.103993e+02\n",
       "latency/p90               2.455966e+01  6.172835e+01\n",
       "toxicity/v1/mean          4.520087e-04  7.045586e-04\n",
       "toxicity/v1/variance      2.883591e-08  1.117442e-07\n",
       "toxicity/v1/p90           6.356920e-04  1.012876e-03\n",
       "toxicity/v1/ratio         0.000000e+00  0.000000e+00\n",
       "faithfulness/v1/mean      3.200000e+00  3.300000e+00\n",
       "faithfulness/v1/variance  3.360000e+00  2.710000e+00\n",
       "faithfulness/v1/p90       5.000000e+00  5.000000e+00\n",
       "relevance/v1/mean         4.400000e+00  4.600000e+00\n",
       "relevance/v1/variance     2.400000e-01  2.400000e-01\n",
       "relevance/v1/p90          5.000000e+00  5.000000e+00"
      ]
     },
     "execution_count": 42,
     "metadata": {},
     "output_type": "execute_result"
    }
   ],
   "source": [
    "df_metrics"
   ]
  },
  {
   "cell_type": "code",
   "execution_count": null,
   "id": "caf6f66c-db1f-48d4-aeb9-ee620af95f12",
   "metadata": {
    "tags": []
   },
   "outputs": [],
   "source": [
    "# Lets now log these metrics in Domino\n",
    "# Define the experiment name\n",
    "experiment_name = 'R-RAG eval'\n",
    "mlflow.set_experiment(experiment_name)\n",
    "for column in df_metrics:\n",
    "    with mlflow.start_run(run_name=column):\n",
    "        for metric_name, metric_value in df_metrics[column].items():\n",
    "            # Log the metric\n",
    "            mlflow.log_metric(metric_name, metric_value)"
   ]
  },
  {
   "cell_type": "code",
   "execution_count": null,
   "id": "5a122197-bb8b-4de3-bf9f-72f0f30ab575",
   "metadata": {
    "tags": []
   },
   "outputs": [],
   "source": [
    "# Looks good lets push the prompt to a prompt hub\n",
    "# set LANGCHAIN_HUB_API_KEY in an env variable\n",
    "# hub.push(\"subirmansukhani/rakuten-qa-rag\", ChatPromptTemplate.from_template(template), new_repo_is_public=False)"
   ]
  },
  {
   "cell_type": "code",
   "execution_count": null,
   "id": "7b7f5167-f223-460c-8314-185bd8d33bc6",
   "metadata": {
    "tags": []
   },
   "outputs": [],
   "source": [
    "# Lets take a look at the prompt hub\n",
    "\n",
    "# from IPython.display import Javascript, display\n",
    "\n",
    "# # Define the URL you want to open\n",
    "# url = 'https://smith.langchain.com/hub/my-prompts?organizationId=6ac11f6f-c332-4bac-b45b-28a8a96410b4'\n",
    "\n",
    "# # JavaScript code to open a new tab with the specified URL and display it in the cell's output area\n",
    "# js_code = f'''\n",
    "# var newWindow = window.open(\"{url}\");\n",
    "# element.append(newWindow.document.body);\n",
    "# '''\n",
    "\n",
    "# # Display the JavaScript output in the cell's output area\n",
    "# display(Javascript(js_code))"
   ]
  },
  {
   "cell_type": "code",
   "execution_count": null,
   "id": "52b37a47-500b-4c8b-a4dd-ec874fae410c",
   "metadata": {},
   "outputs": [],
   "source": []
  }
 ],
 "metadata": {
  "kernelspec": {
   "display_name": "Python 3 (ipykernel)",
   "language": "python",
   "name": "python3"
  },
  "language_info": {
   "codemirror_mode": {
    "name": "ipython",
    "version": 3
   },
   "file_extension": ".py",
   "mimetype": "text/x-python",
   "name": "python",
   "nbconvert_exporter": "python",
   "pygments_lexer": "ipython3",
   "version": "3.9.18"
  }
 },
 "nbformat": 4,
 "nbformat_minor": 5
}
