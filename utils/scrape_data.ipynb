{
 "cells": [
  {
   "cell_type": "code",
   "execution_count": 4,
   "id": "6d83e035-0089-4210-a43a-01629136f1fd",
   "metadata": {
    "tags": []
   },
   "outputs": [],
   "source": [
    "# ! pip install apify-client chromadb tiktoken SQLAlchemy==2.0.1"
   ]
  },
  {
   "cell_type": "code",
   "execution_count": 1,
   "id": "a706cb7f-7a11-42e6-b7a6-e242f52da653",
   "metadata": {
    "tags": []
   },
   "outputs": [],
   "source": [
    "import os\n",
    "import pandas as pd\n",
    "\n",
    "from langchain.docstore.document import Document\n",
    "from langchain.indexes import VectorstoreIndexCreator\n",
    "from langchain_community.utilities import ApifyWrapper"
   ]
  },
  {
   "cell_type": "markdown",
   "id": "20ffa523-87f1-4dc3-b3d6-a68232b3415e",
   "metadata": {},
   "source": [
    "### Use Apify to scrape a website\n",
    "\n",
    "Create a free account at:\n",
    "\n",
    "https://apify.com/apify/website-content-crawler\n",
    "\n",
    "Uncoment to run the crawler"
   ]
  },
  {
   "cell_type": "code",
   "execution_count": null,
   "id": "b1de739f-98b8-43b1-9820-307f83625103",
   "metadata": {
    "tags": []
   },
   "outputs": [],
   "source": [
    "# Scrape a website\n",
    "\n",
    "# apify = ApifyWrapper()\n",
    "\n",
    "# # Call the Actor to obtain text from the crawled webpages\n",
    "\n",
    "# start_url = 'https://tickets.dominodatalab.com/'\n",
    "\n",
    "# loader = apify.call_actor(\n",
    "#     actor_id=\"apify/website-content-crawler\",\n",
    "#     run_input={\n",
    "#         \"startUrls\": [{\"url\": start_url}],\n",
    "#         \"max_items\": 10\n",
    "#     },\n",
    "#     dataset_mapping_function=lambda item: Document(\n",
    "#         page_content=item[\"text\"] or \"\", metadata={\"source\": item[\"url\"]}\n",
    "#     ),\n",
    "# )"
   ]
  },
  {
   "cell_type": "markdown",
   "id": "2d251c9a-afd7-45b7-817a-8ca2efe0355e",
   "metadata": {},
   "source": [
    "Download your raw scraped csv file and upload it to a Domino Dataset.\n",
    "\n",
    "Some data prep and cleaning can help RAG app performance."
   ]
  },
  {
   "cell_type": "code",
   "execution_count": 2,
   "id": "cfc4ac07-3c6d-49ca-aa9b-15d81a7cb685",
   "metadata": {
    "tags": []
   },
   "outputs": [
    {
     "data": {
      "text/html": [
       "<div>\n",
       "<style scoped>\n",
       "    .dataframe tbody tr th:only-of-type {\n",
       "        vertical-align: middle;\n",
       "    }\n",
       "\n",
       "    .dataframe tbody tr th {\n",
       "        vertical-align: top;\n",
       "    }\n",
       "\n",
       "    .dataframe thead th {\n",
       "        text-align: right;\n",
       "    }\n",
       "</style>\n",
       "<table border=\"1\" class=\"dataframe\">\n",
       "  <thead>\n",
       "    <tr style=\"text-align: right;\">\n",
       "      <th></th>\n",
       "      <th>url</th>\n",
       "      <th>markdown</th>\n",
       "    </tr>\n",
       "  </thead>\n",
       "  <tbody>\n",
       "    <tr>\n",
       "      <th>0</th>\n",
       "      <td>https://tickets.dominodatalab.com/</td>\n",
       "      <td>[![DOMINO SUPPORT Help Center home page](//the...</td>\n",
       "    </tr>\n",
       "    <tr>\n",
       "      <th>1</th>\n",
       "      <td>https://tickets.dominodatalab.com/hc/en-us/req...</td>\n",
       "      <td>Description\\n\\nPlease enter the details of you...</td>\n",
       "    </tr>\n",
       "    <tr>\n",
       "      <th>2</th>\n",
       "      <td>https://tickets.dominodatalab.com/hc/en-us/req...</td>\n",
       "      <td>![](https://popup.dominodatalab.com/datapopup/...</td>\n",
       "    </tr>\n",
       "    <tr>\n",
       "      <th>3</th>\n",
       "      <td>https://tickets.dominodatalab.com/hc/en-us/cat...</td>\n",
       "      <td>## Domino Support Service Information\\n\\nInfor...</td>\n",
       "    </tr>\n",
       "    <tr>\n",
       "      <th>4</th>\n",
       "      <td>https://tickets.dominodatalab.com/hc/en-us/sig...</td>\n",
       "      <td>![](https://popup.dominodatalab.com/datapopup/...</td>\n",
       "    </tr>\n",
       "  </tbody>\n",
       "</table>\n",
       "</div>"
      ],
      "text/plain": [
       "                                                 url  \\\n",
       "0                 https://tickets.dominodatalab.com/   \n",
       "1  https://tickets.dominodatalab.com/hc/en-us/req...   \n",
       "2  https://tickets.dominodatalab.com/hc/en-us/req...   \n",
       "3  https://tickets.dominodatalab.com/hc/en-us/cat...   \n",
       "4  https://tickets.dominodatalab.com/hc/en-us/sig...   \n",
       "\n",
       "                                            markdown  \n",
       "0  [![DOMINO SUPPORT Help Center home page](//the...  \n",
       "1  Description\\n\\nPlease enter the details of you...  \n",
       "2  ![](https://popup.dominodatalab.com/datapopup/...  \n",
       "3  ## Domino Support Service Information\\n\\nInfor...  \n",
       "4  ![](https://popup.dominodatalab.com/datapopup/...  "
      ]
     },
     "execution_count": 2,
     "metadata": {},
     "output_type": "execute_result"
    }
   ],
   "source": [
    "data = pd.read_csv(\"/mnt/data/{}/raw_data/domino_help.csv\".format(os.environ['DOMINO_PROJECT_NAME']))\n",
    "data.head()"
   ]
  },
  {
   "cell_type": "code",
   "execution_count": 3,
   "id": "a3001bf4-6ffe-4084-96a3-00cc87a1d26b",
   "metadata": {
    "tags": []
   },
   "outputs": [
    {
     "name": "stdout",
     "output_type": "stream",
     "text": [
      "75\n"
     ]
    },
    {
     "data": {
      "text/plain": [
       "'![](https://secure.gravatar.com/avatar/34af3e6ce18b9fac2affeaa7b4b7c375?default=https%3A%2F%2Fassets.zendesk.com%2Fhc%2Fassets%2Fdefault_avatar.png&r=g)\\n\\n[Follow](https://tickets.dominodatalab.com/hc/en-us/articles/24141525831572-Creating-and-Publishing-React-Apps/subscription.html \"Opens a sign-in dialog\")\\n\\nThe following guide describes how to create a React app through a Domino Workspace, manage the App\\'s resources, and deploy it as a Domino App.\\xa0\\n\\n### Create the App Structure\\n\\nThis example utilizes [Create React App](https://create-react-app.dev/) in a Domino workspace.\\n\\n\\\\*Note this is not the only way to create a React app; you can certainly upload an existing App to your Project as well.\\n\\nIf you\\'re using a [Domino Standard Environment](https://docs.dominodatalab.com/en/latest/user_guide/0d73c6/domino-standard-environments/), the only package you need is already included!\\xa0In your Domino Workspace, simply open a Terminal and run `npx create-react-app domino-react` (subbing your app name for \"domino-react\").![create-react-app_1.png](https://tickets.dominodatalab.com/hc/article_attachments/24141525818772)\\n\\nThis may first ask if it\\'s ok to proceed with installing create-react-app (it is). Once that package installs, it will proceed to create your react app.\\n\\nWhen this has succeeded, you\\'ll notice output similar to the following:\\n\\n![create-react-app_2.png](https://tickets.dominodatalab.com/hc/article_attachments/24141485847956)\\n\\nThis command creates the necessary React files and folder structure inside your /mnt folder.\\n\\n![create-react-app_4.png](https://tickets.dominodatalab.com/hc/article_attachments/24141525824020)\\n\\nYou\\'ll also notice a large number of files are now available to be synced from your Workspace. These will all need to be synced once to allow your App to run - due to the number of files, this initial sync may take a while.\\n\\n![create-react-app_3.png](https://tickets.dominodatalab.com/hc/article_attachments/24141525825300)\\n\\n### Starting the App\\n\\nOnce your React app folder/file structure is synced from your Workspace to your Project, you simply need to add an app.sh to start your App. Application domains are dynamic since they include the run ID, so this must be set at runtime and updated in the app\\'s package.json. Here is a sample app.sh file that will accomplish this, assuming you have an existing react app named domino-react:\\n\\nURL\\\\_BASE=\"https://domain.domino.tech/$DOMINO\\\\_PROJECT\\\\_OWNER/$DOMINO\\\\_PROJECT\\\\_NAME/r/notebookSession/$DOMINO\\\\_RUN\\\\_ID\"  \\nHOME\\\\_STRING=\"\\\\\\\\\"homepage\\\\\\\\\": \\\\\\\\\"$URL\\\\_BASE\\\\\\\\\",\"  \\ncd domino-react/\\n\\n#Set hostname to the base url for the app\\n\\nif grep -F \\'\"homepage\"\\' package.json; then  \\n#replace homepage if exists  \\nsudo sed -i \"s|\\\\\\\\\"homepage\\\\\\\\\":.\\\\*|$HOME\\\\_STRING|\" package.json  \\nelse   \\n#add homepage if line doesn\\'t exist  \\nsudo sed -i \"4i $HOME\\\\_STRING\" package.json  \\nfi\\n\\n#install necessary packages  \\nsudo npm install create-react-app  \\nsudo npm i web-vitals --save-dev  \\nsudo npm install -g serve\\n\\n#Below lines run a Production Build (does not auto refresh upon changes to src)  \\nsudo npm run build  \\nserve -s build -l 8888\\n\\nThis code will either write a \"homepage\" line to package.json if none exists, or overwrite the existing homepage line with the app URL for the current run.\\xa0\\n\\nWith this app.sh, you can then Publish your App. This will take a few minutes to prepare, but once ready you can view your App:\\n\\n![create-react-app_5.png](https://tickets.dominodatalab.com/hc/article_attachments/24143577801364)\\n\\n### Other Considerations - Managing the App\\'s Resources\\n\\nYou may have noticed when you created your app with create-react-app that there were a large number of subfolders and files created in your app/node-modules folder. While these are needed for your app, in practice you may want to exclude them from syncing during any future runs/workspace startups/etc. This can be accomplished by adding this folder to your .dominoignore file:\\xa0\\n\\n![create-react-app_6.png](https://tickets.dominodatalab.com/hc/article_attachments/24143561170196)\\n\\n### Recently viewed articles\\n\\n*   [How to access Dash 2.x Apps from within a Domino workspace](https://tickets.dominodatalab.com/hc/en-us/articles/24366622244372-How-to-access-Dash-2-x-Apps-from-within-a-Domino-workspace)\\n*   [How to publish a Domino Code Assist (DCA) sample app](https://tickets.dominodatalab.com/hc/en-us/articles/24584495728148-How-to-publish-a-Domino-Code-Assist-DCA-sample-app)\\n*   [Acquiring Published App Logs for Support](https://tickets.dominodatalab.com/hc/en-us/articles/4405026385556-Acquiring-Published-App-Logs-for-Support)\\n*   [Obtaining Support bundle Logs on an App on Domino Version 4.3 up](https://tickets.dominodatalab.com/hc/en-us/articles/4411267187092-Obtaining-Support-bundle-Logs-on-an-App-on-Domino-Version-4-3-up)\\n*   [Access project files during docker build using Dockerfile Instructions](https://tickets.dominodatalab.com/hc/en-us/articles/19693528289044-Access-project-files-during-docker-build-using-Dockerfile-Instructions)\\n\\n### Related articles\\n\\n*   [Publish a react app through Domino](https://tickets.dominodatalab.com/hc/en-us/related/click?data=BAh7CjobZGVzdGluYXRpb25fYXJ0aWNsZV9pZGwrCDCvIdVTADoYcmVmZXJyZXJfYXJ0aWNsZV9pZGwrCJRPEuP0FToLbG9jYWxlSSIKZW4tdXMGOgZFVDoIdXJsSSJHL2hjL2VuLXVzL2FydGljbGVzLzM2MDA1ODA0MDExMi1QdWJsaXNoLWEtcmVhY3QtYXBwLXRocm91Z2gtRG9taW5vBjsIVDoJcmFua2kG--174bac3d29825cf8dd6f471932f980d83e713b24)\\n*   [Live testing the Streamlit in Domino on VSCode workspace](https://tickets.dominodatalab.com/hc/en-us/related/click?data=BAh7CjobZGVzdGluYXRpb25fYXJ0aWNsZV9pZGwrCJSHCYHSFDoYcmVmZXJyZXJfYXJ0aWNsZV9pZGwrCJRPEuP0FToLbG9jYWxlSSIKZW4tdXMGOgZFVDoIdXJsSSJfL2hjL2VuLXVzL2FydGljbGVzLzIyODk0MzQwNTczMDc2LUxpdmUtdGVzdGluZy10aGUtU3RyZWFtbGl0LWluLURvbWluby1vbi1WU0NvZGUtd29ya3NwYWNlBjsIVDoJcmFua2kH--2e063d23cdb904b4098f085a607f65ca42fda675)\\n*   [Can I reload my app dynamically?](https://tickets.dominodatalab.com/hc/en-us/related/click?data=BAh7CjobZGVzdGluYXRpb25fYXJ0aWNsZV9pZGwrCJTRumbYBzoYcmVmZXJyZXJfYXJ0aWNsZV9pZGwrCJRPEuP0FToLbG9jYWxlSSIKZW4tdXMGOgZFVDoIdXJsSSJFL2hjL2VuLXVzL2FydGljbGVzLzg2MjYwMTc4NDk3NDgtQ2FuLUktcmVsb2FkLW15LWFwcC1keW5hbWljYWxseQY7CFQ6CXJhbmtpCA%3D%3D--a2df5a5b6bc2b163e7ebf98d665589aa86761aa9)\\n*   [Flask App Serving React Code](https://tickets.dominodatalab.com/hc/en-us/related/click?data=BAh7CjobZGVzdGluYXRpb25fYXJ0aWNsZV9pZGwrCBS%2F4NwEBDoYcmVmZXJyZXJfYXJ0aWNsZV9pZGwrCJRPEuP0FToLbG9jYWxlSSIKZW4tdXMGOgZFVDoIdXJsSSJCL2hjL2VuLXVzL2FydGljbGVzLzQ0MTg5MzIwOTY3ODgtRmxhc2stQXBwLVNlcnZpbmctUmVhY3QtQ29kZQY7CFQ6CXJhbmtpCQ%3D%3D--5c56e02210fac57399c0590794da077204890a0d)'"
      ]
     },
     "execution_count": 3,
     "metadata": {},
     "output_type": "execute_result"
    }
   ],
   "source": [
    "import pandas as pd\n",
    "\n",
    "# Load the CSV dataset from Apify download\n",
    "data = pd.read_csv(\"/mnt/data/{}/raw_data/domino_help.csv\".format(os.environ['DOMINO_PROJECT_NAME']))\n",
    "\n",
    "# Extract the url and txt columns\n",
    "data = data[['url', 'markdown']]\n",
    "\n",
    "# Write the extracted data to a new file\n",
    "data.to_csv(\"/mnt/data/{}/raw_data/domino_help.csv\".format(os.environ['DOMINO_PROJECT_NAME']), index=False)\n",
    "\n",
    "import random\n",
    "\n",
    "i = random.randint(0,100)\n",
    "print(i)\n",
    "\n",
    "data['markdown'][i]"
   ]
  },
  {
   "cell_type": "markdown",
   "id": "f5ff0890-0c78-4777-a952-114eace00402",
   "metadata": {},
   "source": [
    "### Clean up help data\n",
    "\n",
    "The raw data from the crawler contains duplicate rows, links and other metadata that isn't needed."
   ]
  },
  {
   "cell_type": "code",
   "execution_count": 4,
   "id": "1137a51a-08ac-46e0-8a38-96e3983d9e23",
   "metadata": {},
   "outputs": [
    {
     "name": "stdout",
     "output_type": "stream",
     "text": [
      "Original shape: (1050, 2)\n",
      "Drop duplicate rows\n",
      "(664, 3)\n",
      "Filter for pages that contain help questions\n",
      "(208, 4)\n"
     ]
    },
    {
     "data": {
      "text/html": [
       "<div>\n",
       "<style scoped>\n",
       "    .dataframe tbody tr th:only-of-type {\n",
       "        vertical-align: middle;\n",
       "    }\n",
       "\n",
       "    .dataframe tbody tr th {\n",
       "        vertical-align: top;\n",
       "    }\n",
       "\n",
       "    .dataframe thead th {\n",
       "        text-align: right;\n",
       "    }\n",
       "</style>\n",
       "<table border=\"1\" class=\"dataframe\">\n",
       "  <thead>\n",
       "    <tr style=\"text-align: right;\">\n",
       "      <th></th>\n",
       "      <th>url</th>\n",
       "      <th>markdown</th>\n",
       "    </tr>\n",
       "  </thead>\n",
       "  <tbody>\n",
       "    <tr>\n",
       "      <th>0</th>\n",
       "      <td>https://tickets.dominodatalab.com/hc/en-us/search</td>\n",
       "      <td>... Some scheduled jobs and workspaces can in...</td>\n",
       "    </tr>\n",
       "    <tr>\n",
       "      <th>1</th>\n",
       "      <td>https://tickets.dominodatalab.com/hc/en-us/art...</td>\n",
       "      <td>**\\n\\nOn Git-based projects, when starting a n...</td>\n",
       "    </tr>\n",
       "    <tr>\n",
       "      <th>2</th>\n",
       "      <td>https://tickets.dominodatalab.com/hc/en-us/art...</td>\n",
       "      <td>**\\n\\nBefore Domino 5.3, GIT based projects do...</td>\n",
       "    </tr>\n",
       "    <tr>\n",
       "      <th>3</th>\n",
       "      <td>https://tickets.dominodatalab.com/hc/en-us/art...</td>\n",
       "      <td>**\\n\\nThe Admin &gt;&gt; Data &gt;&gt; Datasets page allow...</td>\n",
       "    </tr>\n",
       "    <tr>\n",
       "      <th>4</th>\n",
       "      <td>https://tickets.dominodatalab.com/hc/en-us/art...</td>\n",
       "      <td>** A common question from endusers is how they...</td>\n",
       "    </tr>\n",
       "  </tbody>\n",
       "</table>\n",
       "</div>"
      ],
      "text/plain": [
       "                                                 url  \\\n",
       "0  https://tickets.dominodatalab.com/hc/en-us/search   \n",
       "1  https://tickets.dominodatalab.com/hc/en-us/art...   \n",
       "2  https://tickets.dominodatalab.com/hc/en-us/art...   \n",
       "3  https://tickets.dominodatalab.com/hc/en-us/art...   \n",
       "4  https://tickets.dominodatalab.com/hc/en-us/art...   \n",
       "\n",
       "                                            markdown  \n",
       "0   ... Some scheduled jobs and workspaces can in...  \n",
       "1  **\\n\\nOn Git-based projects, when starting a n...  \n",
       "2  **\\n\\nBefore Domino 5.3, GIT based projects do...  \n",
       "3  **\\n\\nThe Admin >> Data >> Datasets page allow...  \n",
       "4  ** A common question from endusers is how they...  "
      ]
     },
     "execution_count": 4,
     "metadata": {},
     "output_type": "execute_result"
    }
   ],
   "source": [
    "data = pd.read_csv(\"/mnt/data/{}/raw_data/domino_help.csv\".format(os.environ['DOMINO_PROJECT_NAME']))\n",
    "\n",
    "print('Original shape: {}'.format(data.shape))\n",
    "print('Drop duplicate rows')\n",
    "\n",
    "data = data.drop_duplicates(subset='markdown').reset_index()\n",
    "\n",
    "print(data.shape)\n",
    "\n",
    "print('Filter for pages that contain help questions')\n",
    "\n",
    "def filter_rows(df, column, search_string):\n",
    "    filtered_df = df[df[column].str.contains(search_string)]\n",
    "    return(filtered_df)\n",
    "\n",
    "# Indicates page contains a question:\n",
    "search_string = 'Issue:'\n",
    "column = 'markdown'\n",
    "data = filter_rows(df=data, column=column, search_string=search_string).copy()\n",
    "data = data.reset_index()\n",
    "print(data.shape)\n",
    "\n",
    "# Extract only the question & answer\n",
    "data['markdown'] = data['markdown'].apply(lambda x : x.split('Issue:')[1])\n",
    "data['markdown'] = data['markdown'].apply(lambda x : x.split('Notes/Information')[0])\n",
    "data = data[['url', 'markdown']]\n",
    "\n",
    "\n",
    "data.to_csv(\"/mnt/data/{}/domino_help_clean.csv\".format(os.environ['DOMINO_PROJECT_NAME']), index=False)\n",
    "\n",
    "data.head()"
   ]
  },
  {
   "cell_type": "markdown",
   "id": "31f74e88-9ca3-444b-b023-b65d5f42886b",
   "metadata": {},
   "source": [
    "# Domino Docs"
   ]
  },
  {
   "cell_type": "code",
   "execution_count": 5,
   "id": "1ad245bd-eb9a-41d2-83bb-f45848dd3af0",
   "metadata": {},
   "outputs": [],
   "source": [
    "import os\n",
    "import pandas as pd\n",
    "\n",
    "from langchain.docstore.document import Document\n",
    "from langchain.indexes import VectorstoreIndexCreator\n",
    "from langchain_community.utilities import ApifyWrapper"
   ]
  },
  {
   "cell_type": "code",
   "execution_count": null,
   "id": "a66bcf35-1363-44a0-8a6c-93d5f5987385",
   "metadata": {},
   "outputs": [],
   "source": [
    "# Scrape a website\n",
    "\n",
    "# apify = ApifyWrapper()\n",
    "\n",
    "# # Call the Actor to obtain text from the crawled webpages\n",
    "\n",
    "# start_url = 'https://docs.dominodatalab.com/en/latest/user_guide/'\n",
    "\n",
    "# loader = apify.call_actor(\n",
    "#     actor_id=\"apify/website-content-crawler\",\n",
    "#     run_input={\n",
    "#         \"startUrls\": [{\"url\": start_url}],\n",
    "#         \"max_items\": 10\n",
    "#     },\n",
    "#     dataset_mapping_function=lambda item: Document(\n",
    "#         page_content=item[\"text\"] or \"\", metadata={\"source\": item[\"url\"]}\n",
    "#     ),\n",
    "# )"
   ]
  },
  {
   "cell_type": "markdown",
   "id": "9532f18b-4ca8-4e70-8372-f4c93208c89c",
   "metadata": {},
   "source": [
    "Download your raw scraped csv file and upload it to a Domino Dataset.\n",
    "\n",
    "Some data prep and cleaning can help RAG app performance."
   ]
  },
  {
   "cell_type": "code",
   "execution_count": 6,
   "id": "d8229846-1fd7-4f44-ab84-84f776d3706a",
   "metadata": {},
   "outputs": [
    {
     "name": "stdout",
     "output_type": "stream",
     "text": [
      "73\n"
     ]
    },
    {
     "data": {
      "text/plain": [
       "'1.  Go to the project to archive.\\n    \\n2.  From the navigation bar, click **Settings**.\\n    \\n3.  Click **Archive Project or Transfer Ownership**.\\n    \\n4.  Click **Archive This Project**.\\n    \\n\\nTo unarchive the project, contact your Domino representative for assistance.'"
      ]
     },
     "execution_count": 6,
     "metadata": {},
     "output_type": "execute_result"
    }
   ],
   "source": [
    "import pandas as pd\n",
    "\n",
    "# Load the CSV dataset\n",
    "docs = pd.read_csv(\"/mnt/data/{}/raw_data/domino_docs.csv\".format(os.environ['DOMINO_PROJECT_NAME']))\n",
    "\n",
    "# Extract the url and txt columns\n",
    "docs = docs[['url', 'markdown']]\n",
    "\n",
    "# Write the extracted data to a new file called help.csv\n",
    "docs.to_csv(\"/mnt/data/{}/raw_data/domino_docs.csv\".format(os.environ['DOMINO_PROJECT_NAME']), index=False)\n",
    "\n",
    "import random\n",
    "\n",
    "i = random.randint(0,100)\n",
    "print(i)\n",
    "\n",
    "docs['markdown'][i]"
   ]
  },
  {
   "cell_type": "code",
   "execution_count": 7,
   "id": "e2b1aba6-d2c3-40d4-971c-cc58dcfc08f0",
   "metadata": {},
   "outputs": [
    {
     "name": "stdout",
     "output_type": "stream",
     "text": [
      "Original shape: (383, 2)\n",
      "Drop duplicate rows\n",
      "(383, 3)\n",
      "Filter for pages that containe help questions\n"
     ]
    },
    {
     "data": {
      "text/html": [
       "<div>\n",
       "<style scoped>\n",
       "    .dataframe tbody tr th:only-of-type {\n",
       "        vertical-align: middle;\n",
       "    }\n",
       "\n",
       "    .dataframe tbody tr th {\n",
       "        vertical-align: top;\n",
       "    }\n",
       "\n",
       "    .dataframe thead th {\n",
       "        text-align: right;\n",
       "    }\n",
       "</style>\n",
       "<table border=\"1\" class=\"dataframe\">\n",
       "  <thead>\n",
       "    <tr style=\"text-align: right;\">\n",
       "      <th></th>\n",
       "      <th>url</th>\n",
       "      <th>markdown</th>\n",
       "    </tr>\n",
       "  </thead>\n",
       "  <tbody>\n",
       "    <tr>\n",
       "      <th>0</th>\n",
       "      <td>https://docs.dominodatalab.com/en/latest/user_...</td>\n",
       "      <td>Page not foundLet's search!</td>\n",
       "    </tr>\n",
       "    <tr>\n",
       "      <th>1</th>\n",
       "      <td>https://docs.dominodatalab.com/en/latest/user_...</td>\n",
       "      <td>## User guide\\n\\nDomino is a data science plat...</td>\n",
       "    </tr>\n",
       "    <tr>\n",
       "      <th>2</th>\n",
       "      <td>https://docs.dominodatalab.com/en/latest/user_...</td>\n",
       "      <td>## Troubleshooting guidelines for users\\n\\n[Tr...</td>\n",
       "    </tr>\n",
       "    <tr>\n",
       "      <th>3</th>\n",
       "      <td>https://docs.dominodatalab.com/en/latest/user_...</td>\n",
       "      <td>About Domino\\n\\n[Domino Data Lab](https://domi...</td>\n",
       "    </tr>\n",
       "    <tr>\n",
       "      <th>4</th>\n",
       "      <td>https://docs.dominodatalab.com/en/latest/user_...</td>\n",
       "      <td>## Get Domino version\\n\\nTo see the Domino ver...</td>\n",
       "    </tr>\n",
       "  </tbody>\n",
       "</table>\n",
       "</div>"
      ],
      "text/plain": [
       "                                                 url  \\\n",
       "0  https://docs.dominodatalab.com/en/latest/user_...   \n",
       "1  https://docs.dominodatalab.com/en/latest/user_...   \n",
       "2  https://docs.dominodatalab.com/en/latest/user_...   \n",
       "3  https://docs.dominodatalab.com/en/latest/user_...   \n",
       "4  https://docs.dominodatalab.com/en/latest/user_...   \n",
       "\n",
       "                                            markdown  \n",
       "0                        Page not foundLet's search!  \n",
       "1  ## User guide\\n\\nDomino is a data science plat...  \n",
       "2  ## Troubleshooting guidelines for users\\n\\n[Tr...  \n",
       "3  About Domino\\n\\n[Domino Data Lab](https://domi...  \n",
       "4  ## Get Domino version\\n\\nTo see the Domino ver...  "
      ]
     },
     "execution_count": 7,
     "metadata": {},
     "output_type": "execute_result"
    }
   ],
   "source": [
    "docs = pd.read_csv(\"/mnt/data/{}/raw_data/domino_docs.csv\".format(os.environ['DOMINO_PROJECT_NAME']))\n",
    "\n",
    "print('Original shape: {}'.format(docs.shape))\n",
    "print('Drop duplicate rows')\n",
    "\n",
    "docs = docs.drop_duplicates(subset='markdown').reset_index()\n",
    "\n",
    "print(docs.shape)\n",
    "\n",
    "print('Filter for pages that containe help questions')\n",
    "\n",
    "def filter_rows(df, column, search_string):\n",
    "    filtered_df = df[df[column].str.contains(search_string)]\n",
    "    return(filtered_df)\n",
    "\n",
    "docs = docs[['url', 'markdown']]\n",
    "\n",
    "\n",
    "docs.to_csv(\"/mnt/data/{}/domino_docs_clean.csv\".format(os.environ['DOMINO_PROJECT_NAME']), index=False)\n",
    "\n",
    "docs.head()"
   ]
  }
 ],
 "metadata": {
  "kernelspec": {
   "display_name": "Python 3 (ipykernel)",
   "language": "python",
   "name": "python3"
  },
  "language_info": {
   "codemirror_mode": {
    "name": "ipython",
    "version": 3
   },
   "file_extension": ".py",
   "mimetype": "text/x-python",
   "name": "python",
   "nbconvert_exporter": "python",
   "pygments_lexer": "ipython3",
   "version": "3.9.18"
  }
 },
 "nbformat": 4,
 "nbformat_minor": 5
}
