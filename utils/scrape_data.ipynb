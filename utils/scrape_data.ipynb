{
 "cells": [
  {
   "cell_type": "code",
   "execution_count": 1,
   "id": "6d83e035-0089-4210-a43a-01629136f1fd",
   "metadata": {
    "tags": []
   },
   "outputs": [],
   "source": [
    "# ! pip install apify-client chromadb tiktoken SQLAlchemy==2.0.1"
   ]
  },
  {
   "cell_type": "code",
   "execution_count": 2,
   "id": "a706cb7f-7a11-42e6-b7a6-e242f52da653",
   "metadata": {
    "tags": []
   },
   "outputs": [],
   "source": [
    "import os\n",
    "import pandas as pd\n",
    "\n",
    "from langchain.docstore.document import Document\n",
    "from langchain.indexes import VectorstoreIndexCreator\n",
    "from langchain_community.utilities import ApifyWrapper"
   ]
  },
  {
   "cell_type": "markdown",
   "id": "20ffa523-87f1-4dc3-b3d6-a68232b3415e",
   "metadata": {},
   "source": [
    "### Use Apify to scrape a website\n",
    "\n",
    "Create a free account at:\n",
    "\n",
    "https://apify.com/apify/website-content-crawler\n",
    "\n",
    "Uncoment to run the crawler"
   ]
  },
  {
   "cell_type": "code",
   "execution_count": 3,
   "id": "b1de739f-98b8-43b1-9820-307f83625103",
   "metadata": {
    "tags": []
   },
   "outputs": [],
   "source": [
    "# Scrape a website\n",
    "\n",
    "# apify = ApifyWrapper()\n",
    "\n",
    "# # Call the Actor to obtain text from the crawled webpages\n",
    "\n",
    "# start_url = 'https://tickets.dominodatalab.com/'\n",
    "\n",
    "# loader = apify.call_actor(\n",
    "#     actor_id=\"apify/website-content-crawler\",\n",
    "#     run_input={\n",
    "#         \"startUrls\": [{\"url\": start_url}],\n",
    "#         \"max_items\": 10\n",
    "#     },\n",
    "#     dataset_mapping_function=lambda item: Document(\n",
    "#         page_content=item[\"text\"] or \"\", metadata={\"source\": item[\"url\"]}\n",
    "#     ),\n",
    "# )"
   ]
  },
  {
   "cell_type": "markdown",
   "id": "2d251c9a-afd7-45b7-817a-8ca2efe0355e",
   "metadata": {},
   "source": [
    "Download your raw scraped csv file and upload it to a Domino Dataset.\n",
    "\n",
    "Some data prep and cleaning can help RAG app performance."
   ]
  },
  {
   "cell_type": "code",
   "execution_count": 4,
   "id": "cfc4ac07-3c6d-49ca-aa9b-15d81a7cb685",
   "metadata": {
    "tags": []
   },
   "outputs": [
    {
     "data": {
      "text/html": [
       "<div>\n",
       "<style scoped>\n",
       "    .dataframe tbody tr th:only-of-type {\n",
       "        vertical-align: middle;\n",
       "    }\n",
       "\n",
       "    .dataframe tbody tr th {\n",
       "        vertical-align: top;\n",
       "    }\n",
       "\n",
       "    .dataframe thead th {\n",
       "        text-align: right;\n",
       "    }\n",
       "</style>\n",
       "<table border=\"1\" class=\"dataframe\">\n",
       "  <thead>\n",
       "    <tr style=\"text-align: right;\">\n",
       "      <th></th>\n",
       "      <th>url</th>\n",
       "      <th>markdown</th>\n",
       "    </tr>\n",
       "  </thead>\n",
       "  <tbody>\n",
       "    <tr>\n",
       "      <th>0</th>\n",
       "      <td>https://tickets.dominodatalab.com/</td>\n",
       "      <td>[![DOMINO SUPPORT Help Center home page](//the...</td>\n",
       "    </tr>\n",
       "    <tr>\n",
       "      <th>1</th>\n",
       "      <td>https://tickets.dominodatalab.com/hc/en-us/req...</td>\n",
       "      <td>Description\\n\\nPlease enter the details of you...</td>\n",
       "    </tr>\n",
       "    <tr>\n",
       "      <th>2</th>\n",
       "      <td>https://tickets.dominodatalab.com/hc/en-us/req...</td>\n",
       "      <td>![](https://popup.dominodatalab.com/datapopup/...</td>\n",
       "    </tr>\n",
       "    <tr>\n",
       "      <th>3</th>\n",
       "      <td>https://tickets.dominodatalab.com/hc/en-us/cat...</td>\n",
       "      <td>## Domino Support Service Information\\n\\nInfor...</td>\n",
       "    </tr>\n",
       "    <tr>\n",
       "      <th>4</th>\n",
       "      <td>https://tickets.dominodatalab.com/hc/en-us/sig...</td>\n",
       "      <td>![](https://popup.dominodatalab.com/datapopup/...</td>\n",
       "    </tr>\n",
       "  </tbody>\n",
       "</table>\n",
       "</div>"
      ],
      "text/plain": [
       "                                                 url  \\\n",
       "0                 https://tickets.dominodatalab.com/   \n",
       "1  https://tickets.dominodatalab.com/hc/en-us/req...   \n",
       "2  https://tickets.dominodatalab.com/hc/en-us/req...   \n",
       "3  https://tickets.dominodatalab.com/hc/en-us/cat...   \n",
       "4  https://tickets.dominodatalab.com/hc/en-us/sig...   \n",
       "\n",
       "                                            markdown  \n",
       "0  [![DOMINO SUPPORT Help Center home page](//the...  \n",
       "1  Description\\n\\nPlease enter the details of you...  \n",
       "2  ![](https://popup.dominodatalab.com/datapopup/...  \n",
       "3  ## Domino Support Service Information\\n\\nInfor...  \n",
       "4  ![](https://popup.dominodatalab.com/datapopup/...  "
      ]
     },
     "execution_count": 4,
     "metadata": {},
     "output_type": "execute_result"
    }
   ],
   "source": [
    "data = pd.read_csv(\"/mnt/data/{}/raw_data/domino_help.csv\".format(os.environ['DOMINO_PROJECT_NAME']))\n",
    "data.head()"
   ]
  },
  {
   "cell_type": "code",
   "execution_count": 5,
   "id": "a3001bf4-6ffe-4084-96a3-00cc87a1d26b",
   "metadata": {
    "tags": []
   },
   "outputs": [
    {
     "name": "stdout",
     "output_type": "stream",
     "text": [
      "63\n"
     ]
    },
    {
     "data": {
      "text/plain": [
       "'![](https://tickets.dominodatalab.com/system/photos/360876353312/2000px-Flag_of_Iceland.svg.png)\\n\\n[Follow](https://tickets.dominodatalab.com/hc/en-us/articles/19900361189268-Can-I-insert-my-JSON-Configuration-into-JupyterLab-in-an-easy-way/subscription.html \"Opens a sign-in dialog\")\\n\\n### Issue\\n\\nI want to add variables/settings to JupyterLab for all users\\n\\n### Resolution\\n\\nAdd the file and parameters in your Dockerfile\\n\\nAdd your settings in the JupyterLab \\'Settings\\'. Locate the file, in the subdirectory, i.e.: /home/ubuntu/.jupyter/lab/user-settings/@jupyterlab. You can insert the file\\'s content using the example below (change your folder and filename to match your stanza)\\n\\nCreate the Dockerfile setup and ensure you have the correct permissions. I set USER root to avoid using sudo, and use chmod at the end:\\n\\nUSER root  \\nRUN mkdir -p /home/ubuntu/.jupyter/lab/user-settings/@jupyterlab/notebook-extension\\n\\nCOPY <<EOF \"/home/ubuntu/.jupyter/lab/user-settings/@jupyterlab/notebook-extension/tracker.jupyterlab-settings\"  \\n{ \"codeCellConfig\": {  \\n \"autoClosingBrackets\": true,  \\n \"fontFamily\": null,  \\n \"fontSize\": null,  \\n \"lineHeight\": null,  \\n \"lineNumbers\": true,  \\n \"lineWrap\": \"off\",  \\n \"matchBrackets\": true,  \\n \"readOnly\": false,  \\n \"insertSpaces\": true,  \\n \"tabSize\": 4,  \\n \"wordWrapColumn\": 80,  \\n \"rulers\": \\\\[\\\\],  \\n \"codeFolding\": false  \\n },  \\n \"markdownCellConfig\": {  \\n  \"autoClosingBrackets\": true,  \\n  \"fontFamily\": null,  \\n  \"fontSize\": null,  \\n  \"lineHeight\": null,  \\n  \"lineNumbers\": false,  \\n  \"lineWrap\": \"on\",  \\n  \"matchBrackets\": false,  \\n  \"readOnly\": false,  \\n  \"insertSpaces\": true,  \\n  \"tabSize\": 4,  \\n  \"wordWrapColumn\": 80,  \\n  \"rulers\": \\\\[\\\\],  \\n  \"codeFolding\": false  \\n }  \\n}  \\nEOF\\n\\nRUN sudo chown -R ubuntu:ubuntu /home/ubuntu/.jupyter/lab\\n\\n### Recently viewed articles\\n\\n*   [Workaround for a running workspace that cannot be synchronised.](https://tickets.dominodatalab.com/hc/en-us/articles/19915726094484-Workaround-for-a-running-workspace-that-cannot-be-synchronised)\\n*   [How to add TWO (or more Tiles in JupyterLab)](https://tickets.dominodatalab.com/hc/en-us/articles/20526444968084-How-to-add-TWO-or-more-Tiles-in-JupyterLab)\\n*   [How to update VSCode to a newer version in Domino 5.8 or higher](https://tickets.dominodatalab.com/hc/en-us/articles/21545524947092-How-to-update-VSCode-to-a-newer-version-in-Domino-5-8-or-higher)\\n*   [How to test a sample Spark application in your workspace](https://tickets.dominodatalab.com/hc/en-us/articles/24571827575828-How-to-test-a-sample-Spark-application-in-your-workspace)\\n*   [How to Get Workspace Logs (4.4.x and above)](https://tickets.dominodatalab.com/hc/en-us/articles/360061919571-How-to-Get-Workspace-Logs-4-4-x-and-above)\\n\\n### Related articles\\n\\n*   [What is a Lite User/LightUser?](https://tickets.dominodatalab.com/hc/en-us/related/click?data=BAh7CjobZGVzdGluYXRpb25fYXJ0aWNsZV9pZGwrCBRC2f8BBDoYcmVmZXJyZXJfYXJ0aWNsZV9pZGwrCJSn9WkZEjoLbG9jYWxlSSIKZW4tdXMGOgZFVDoIdXJsSSJDL2hjL2VuLXVzL2FydGljbGVzLzQ0MDY2MzM5MDY3MDgtV2hhdC1pcy1hLUxpdGUtVXNlci1MaWdodFVzZXIGOwhUOglyYW5raQY%3D--9ea8b2b7892bf938ae60d9cc7e66205ce2c01e59)\\n*   [Extract username from launcher runs in Python](https://tickets.dominodatalab.com/hc/en-us/related/click?data=BAh7CjobZGVzdGluYXRpb25fYXJ0aWNsZV9pZGwrCBQDCYddBjoYcmVmZXJyZXJfYXJ0aWNsZV9pZGwrCJSn9WkZEjoLbG9jYWxlSSIKZW4tdXMGOgZFVDoIdXJsSSJTL2hjL2VuLXVzL2FydGljbGVzLzY5OTg3NjcyMzk5NTYtRXh0cmFjdC11c2VybmFtZS1mcm9tLWxhdW5jaGVyLXJ1bnMtaW4tUHl0aG9uBjsIVDoJcmFua2kH--0a164aee97fa76e1a5a16e644550b54b03c0eeb7)\\n*   [Model Tester Returns “Failed to call Model”](https://tickets.dominodatalab.com/hc/en-us/related/click?data=BAh7CjobZGVzdGluYXRpb25fYXJ0aWNsZV9pZGwrCJQcxyQHBjoYcmVmZXJyZXJfYXJ0aWNsZV9pZGwrCJSn9WkZEjoLbG9jYWxlSSIKZW4tdXMGOgZFVDoIdXJsSSJPL2hjL2VuLXVzL2FydGljbGVzLzY2Mjc3NTE1NjY0ODQtTW9kZWwtVGVzdGVyLVJldHVybnMtRmFpbGVkLXRvLWNhbGwtTW9kZWwGOwhUOglyYW5raQg%3D--ca17d72b3a398a8b299167c103e6657939543fd5)\\n*   [Basic notebook which tests on-demand Spark functionality.](https://tickets.dominodatalab.com/hc/en-us/related/click?data=BAh7CjobZGVzdGluYXRpb25fYXJ0aWNsZV9pZGwrCBQGUnhTEjoYcmVmZXJyZXJfYXJ0aWNsZV9pZGwrCJSn9WkZEjoLbG9jYWxlSSIKZW4tdXMGOgZFVDoIdXJsSSJfL2hjL2VuLXVzL2FydGljbGVzLzIwMTQ5NzEwMjI2OTY0LUJhc2ljLW5vdGVib29rLXdoaWNoLXRlc3RzLW9uLWRlbWFuZC1TcGFyay1mdW5jdGlvbmFsaXR5BjsIVDoJcmFua2kJ--5a152190394e3cc26d415883a94f9675df759663)\\n*   [Workaround for a running workspace that cannot be synchronised.](https://tickets.dominodatalab.com/hc/en-us/related/click?data=BAh7CjobZGVzdGluYXRpb25fYXJ0aWNsZV9pZGwrCJSAx%2F0cEjoYcmVmZXJyZXJfYXJ0aWNsZV9pZGwrCJSn9WkZEjoLbG9jYWxlSSIKZW4tdXMGOgZFVDoIdXJsSSJlL2hjL2VuLXVzL2FydGljbGVzLzE5OTE1NzI2MDk0NDg0LVdvcmthcm91bmQtZm9yLWEtcnVubmluZy13b3Jrc3BhY2UtdGhhdC1jYW5ub3QtYmUtc3luY2hyb25pc2VkBjsIVDoJcmFua2kK--e5fa63cb8b7309dcb7812265ca82bcdbdef6eb77)'"
      ]
     },
     "execution_count": 5,
     "metadata": {},
     "output_type": "execute_result"
    }
   ],
   "source": [
    "import pandas as pd\n",
    "\n",
    "# Load the CSV dataset from Apify download\n",
    "data = pd.read_csv(\"/mnt/data/{}/raw_data/domino_help.csv\".format(os.environ['DOMINO_PROJECT_NAME']))\n",
    "\n",
    "# Extract the url and txt columns\n",
    "data = data[['url', 'markdown']]\n",
    "\n",
    "# Write the extracted data to a new file\n",
    "data.to_csv(\"/mnt/data/{}/raw_data/domino_help.csv\".format(os.environ['DOMINO_PROJECT_NAME']), index=False)\n",
    "\n",
    "import random\n",
    "\n",
    "i = random.randint(0,100)\n",
    "print(i)\n",
    "\n",
    "data['markdown'][i]"
   ]
  },
  {
   "cell_type": "markdown",
   "id": "f5ff0890-0c78-4777-a952-114eace00402",
   "metadata": {},
   "source": [
    "### Clean up help data\n",
    "\n",
    "The raw data from the crawler contains duplicate rows, links and other metadata that isn't needed."
   ]
  },
  {
   "cell_type": "code",
   "execution_count": 6,
   "id": "1137a51a-08ac-46e0-8a38-96e3983d9e23",
   "metadata": {},
   "outputs": [
    {
     "name": "stdout",
     "output_type": "stream",
     "text": [
      "Original shape: (1050, 2)\n",
      "Drop duplicate rows\n",
      "(664, 3)\n",
      "Filter for pages that contain help questions\n",
      "(208, 4)\n"
     ]
    },
    {
     "data": {
      "text/html": [
       "<div>\n",
       "<style scoped>\n",
       "    .dataframe tbody tr th:only-of-type {\n",
       "        vertical-align: middle;\n",
       "    }\n",
       "\n",
       "    .dataframe tbody tr th {\n",
       "        vertical-align: top;\n",
       "    }\n",
       "\n",
       "    .dataframe thead th {\n",
       "        text-align: right;\n",
       "    }\n",
       "</style>\n",
       "<table border=\"1\" class=\"dataframe\">\n",
       "  <thead>\n",
       "    <tr style=\"text-align: right;\">\n",
       "      <th></th>\n",
       "      <th>url</th>\n",
       "      <th>markdown</th>\n",
       "    </tr>\n",
       "  </thead>\n",
       "  <tbody>\n",
       "    <tr>\n",
       "      <th>0</th>\n",
       "      <td>https://tickets.dominodatalab.com/hc/en-us/search</td>\n",
       "      <td>... Some scheduled jobs and workspaces can in...</td>\n",
       "    </tr>\n",
       "    <tr>\n",
       "      <th>1</th>\n",
       "      <td>https://tickets.dominodatalab.com/hc/en-us/art...</td>\n",
       "      <td>**\\n\\nOn Git-based projects, when starting a n...</td>\n",
       "    </tr>\n",
       "    <tr>\n",
       "      <th>2</th>\n",
       "      <td>https://tickets.dominodatalab.com/hc/en-us/art...</td>\n",
       "      <td>**\\n\\nBefore Domino 5.3, GIT based projects do...</td>\n",
       "    </tr>\n",
       "    <tr>\n",
       "      <th>3</th>\n",
       "      <td>https://tickets.dominodatalab.com/hc/en-us/art...</td>\n",
       "      <td>**\\n\\nThe Admin &gt;&gt; Data &gt;&gt; Datasets page allow...</td>\n",
       "    </tr>\n",
       "    <tr>\n",
       "      <th>4</th>\n",
       "      <td>https://tickets.dominodatalab.com/hc/en-us/art...</td>\n",
       "      <td>** A common question from endusers is how they...</td>\n",
       "    </tr>\n",
       "  </tbody>\n",
       "</table>\n",
       "</div>"
      ],
      "text/plain": [
       "                                                 url  \\\n",
       "0  https://tickets.dominodatalab.com/hc/en-us/search   \n",
       "1  https://tickets.dominodatalab.com/hc/en-us/art...   \n",
       "2  https://tickets.dominodatalab.com/hc/en-us/art...   \n",
       "3  https://tickets.dominodatalab.com/hc/en-us/art...   \n",
       "4  https://tickets.dominodatalab.com/hc/en-us/art...   \n",
       "\n",
       "                                            markdown  \n",
       "0   ... Some scheduled jobs and workspaces can in...  \n",
       "1  **\\n\\nOn Git-based projects, when starting a n...  \n",
       "2  **\\n\\nBefore Domino 5.3, GIT based projects do...  \n",
       "3  **\\n\\nThe Admin >> Data >> Datasets page allow...  \n",
       "4  ** A common question from endusers is how they...  "
      ]
     },
     "execution_count": 6,
     "metadata": {},
     "output_type": "execute_result"
    }
   ],
   "source": [
    "data = pd.read_csv(\"/mnt/data/{}/raw_data/domino_help.csv\".format(os.environ['DOMINO_PROJECT_NAME']))\n",
    "\n",
    "print('Original shape: {}'.format(data.shape))\n",
    "print('Drop duplicate rows')\n",
    "\n",
    "data = data.drop_duplicates(subset='markdown').reset_index()\n",
    "\n",
    "print(data.shape)\n",
    "\n",
    "print('Filter for pages that contain help questions')\n",
    "\n",
    "def filter_rows(df, column, search_string):\n",
    "    filtered_df = df[df[column].str.contains(search_string)]\n",
    "    return(filtered_df)\n",
    "\n",
    "# Indicates page contains a question:\n",
    "search_string = 'Issue:'\n",
    "column = 'markdown'\n",
    "data = filter_rows(df=data, column=column, search_string=search_string).copy()\n",
    "data = data.reset_index()\n",
    "print(data.shape)\n",
    "\n",
    "# Extract only the question & answer\n",
    "data['markdown'] = data['markdown'].apply(lambda x : x.split('Issue:')[1])\n",
    "data['markdown'] = data['markdown'].apply(lambda x : x.split('Notes/Information')[0])\n",
    "data = data[['url', 'markdown']]\n",
    "\n",
    "\n",
    "data.to_csv(\"/mnt/data/{}/domino_help_clean.csv\".format(os.environ['DOMINO_PROJECT_NAME']), index=False)\n",
    "\n",
    "data.head()"
   ]
  },
  {
   "cell_type": "markdown",
   "id": "31f74e88-9ca3-444b-b023-b65d5f42886b",
   "metadata": {},
   "source": [
    "# Domino Docs"
   ]
  },
  {
   "cell_type": "code",
   "execution_count": 7,
   "id": "1ad245bd-eb9a-41d2-83bb-f45848dd3af0",
   "metadata": {},
   "outputs": [],
   "source": [
    "import os\n",
    "import pandas as pd\n",
    "\n",
    "from langchain.docstore.document import Document\n",
    "from langchain.indexes import VectorstoreIndexCreator\n",
    "from langchain_community.utilities import ApifyWrapper"
   ]
  },
  {
   "cell_type": "code",
   "execution_count": 8,
   "id": "a66bcf35-1363-44a0-8a6c-93d5f5987385",
   "metadata": {},
   "outputs": [],
   "source": [
    "# Scrape a website\n",
    "\n",
    "# apify = ApifyWrapper()\n",
    "\n",
    "# # Call the Actor to obtain text from the crawled webpages\n",
    "\n",
    "# start_url = 'https://docs.dominodatalab.com/en/latest/user_guide/'\n",
    "\n",
    "# loader = apify.call_actor(\n",
    "#     actor_id=\"apify/website-content-crawler\",\n",
    "#     run_input={\n",
    "#         \"startUrls\": [{\"url\": start_url}],\n",
    "#         \"max_items\": 10\n",
    "#     },\n",
    "#     dataset_mapping_function=lambda item: Document(\n",
    "#         page_content=item[\"text\"] or \"\", metadata={\"source\": item[\"url\"]}\n",
    "#     ),\n",
    "# )"
   ]
  },
  {
   "cell_type": "markdown",
   "id": "9532f18b-4ca8-4e70-8372-f4c93208c89c",
   "metadata": {},
   "source": [
    "Download your raw scraped csv file and upload it to a Domino Dataset.\n",
    "\n",
    "Some data prep and cleaning can help RAG app performance."
   ]
  },
  {
   "cell_type": "code",
   "execution_count": 9,
   "id": "d8229846-1fd7-4f44-ab84-84f776d3706a",
   "metadata": {},
   "outputs": [
    {
     "name": "stdout",
     "output_type": "stream",
     "text": [
      "21\n"
     ]
    },
    {
     "data": {
      "text/plain": [
       "'## Jobs\\n\\nDomino Jobs are designed to execute and orchestrate code logic in a fully reproducible manner. Whereas Domino [Workspaces](https://docs.dominodatalab.com/en/latest/user_guide/867b72/workspaces/) are for interactive development, Jobs are for batch/headless workloads. Ideal when you need a fully contained and complete reproducibility package.\\n\\nThe result is a highly reproducible execution environment capable of handling a wide range of tasks including data processing, analytics, and machine learning. Jobs can handle single, simple tasks as well as complex, multi-task workflows with intricate dependencies.\\n\\n## Flexible Job run options[](#_flexible_job_run_options)\\n\\nDomino offers numerous ways to [run Jobs](https://docs.dominodatalab.com/en/latest/user_guide/af97b7/create-and-run-jobs/):\\n\\n*   **Launch from the UI**: Execute Jobs directly from the Jobs UI for a low-code option.\\n    \\n*   **Job scheduler**: Use the [Job scheduler](https://docs.dominodatalab.com/en/latest/user_guide/5dce1f/schedule-jobs/) to easily run Jobs on-demand or at regular intervals.\\n    \\n*   **Domino CLI**: Execute Jobs from the [Domino CLI](https://docs.dominodatalab.com/en/latest/user_guide/30b067/domino-cli/). This is typically used for iterative local development. For example, when using an IDE that can’t run in Domino, or you don’t want to use Domino compute resources to launch a Job.\\n    \\n*   **Domino API**: Run Jobs using the [Domino API](https://docs.dominodatalab.com/en/latest/api_guide/8c929e/rest-api-reference/). Often used when integrating with an external pipeline tool to launch Jobs using triggers.\\n    \\n\\n## Job reproducibility[](#_job_reproducibility)\\n\\nKey information about each Job is automatically captured to ensure the reproducibility and auditability of work. When you start a Job, Domino launches a new [Environment](https://docs.dominodatalab.com/en/latest/user_guide/f51038/compute-environments/) for your code on the target hardware tier.\\n\\nYou can start multiple concurrent Jobs and each Job gets its own container environment, so you can try multiple parameters and techniques in parallel.\\n\\n## Monitor Jobs and view results[](#_monitor_jobs_and_view_results)\\n\\n[Monitor Jobs](https://docs.dominodatalab.com/en/latest/user_guide/e1c37a/monitor-jobs/) for a complete picture of your Jobs at various levels, from individual Job details to the broader view of how metrics evolve. Job monitoring supports reproducibility and auditability by capturing extensive Job context, including storage logs, hardware specifications, environment details, inputs, outputs, metadata, and custom metrics.\\n\\nQuickly view your results directly in the Domino UI or [customize the results views](https://docs.dominodatalab.com/en/latest/user_guide/5b84c5/customize-job-result-views/) including notifications, reports, and custom emails to display your results elsewhere.\\n\\n## Jobs vs Workspaces[](#_jobs_vs_workspaces)\\n\\nDepending on the specific needs and nature of your work, you may want to use [Workspaces](https://docs.dominodatalab.com/en/latest/user_guide/867b72/workspaces/) instead of Jobs:\\n\\nIt’s best to use a **Job** under the following circumstances:\\n\\n*   **Model training & large-scale computations** — If you need to train models on a large dataset or run any sort of long-running, computationally intensive tasks.\\n    \\n*   **Batch processing** — If you have tasks you want to run in the background and/or in parallel.\\n    \\n*   **Reproducibility** — If strict reproducibility is important, Jobs provide a guarantee that the same execution Environment can be re-created.\\n    \\n*   **Automation** — If the task needs to be run on a regular schedule or is part of a retraining or automated workflow.\\n    \\n\\nIt’s best to use a **Workspace** under the following circumstances:\\n\\n*   **Exploratory data analysis (EDA)** — If you are in the initial stages of a data science Project and need to explore and analyze your data interactively.\\n    \\n*   **Rapid model iterations** — If you want to iterate rapidly on model development, hyperparameter tuning, or feature engineering and need rapid feedback with the ability to make instant adjustments.\\n    \\n*   **Code development & debugging** — If you need an Environment to write, test, and modify code in real-time and see results immediately.'"
      ]
     },
     "execution_count": 9,
     "metadata": {},
     "output_type": "execute_result"
    }
   ],
   "source": [
    "import pandas as pd\n",
    "\n",
    "# Load the CSV dataset\n",
    "docs = pd.read_csv(\"/mnt/data/{}/raw_data/domino_docs.csv\".format(os.environ['DOMINO_PROJECT_NAME']))\n",
    "\n",
    "# Extract the url and txt columns\n",
    "docs = docs[['url', 'markdown']]\n",
    "\n",
    "# Write the extracted data to a new file called help.csv\n",
    "docs.to_csv(\"/mnt/data/{}/raw_data/domino_docs.csv\".format(os.environ['DOMINO_PROJECT_NAME']), index=False)\n",
    "\n",
    "import random\n",
    "\n",
    "i = random.randint(0,100)\n",
    "print(i)\n",
    "\n",
    "docs['markdown'][i]"
   ]
  },
  {
   "cell_type": "code",
   "execution_count": 10,
   "id": "e2b1aba6-d2c3-40d4-971c-cc58dcfc08f0",
   "metadata": {},
   "outputs": [
    {
     "name": "stdout",
     "output_type": "stream",
     "text": [
      "Original shape: (383, 2)\n",
      "Drop duplicate rows\n",
      "(383, 3)\n",
      "Filter for pages that containe help questions\n"
     ]
    },
    {
     "data": {
      "text/html": [
       "<div>\n",
       "<style scoped>\n",
       "    .dataframe tbody tr th:only-of-type {\n",
       "        vertical-align: middle;\n",
       "    }\n",
       "\n",
       "    .dataframe tbody tr th {\n",
       "        vertical-align: top;\n",
       "    }\n",
       "\n",
       "    .dataframe thead th {\n",
       "        text-align: right;\n",
       "    }\n",
       "</style>\n",
       "<table border=\"1\" class=\"dataframe\">\n",
       "  <thead>\n",
       "    <tr style=\"text-align: right;\">\n",
       "      <th></th>\n",
       "      <th>url</th>\n",
       "      <th>markdown</th>\n",
       "    </tr>\n",
       "  </thead>\n",
       "  <tbody>\n",
       "    <tr>\n",
       "      <th>0</th>\n",
       "      <td>https://docs.dominodatalab.com/en/latest/user_...</td>\n",
       "      <td>Page not foundLet's search!</td>\n",
       "    </tr>\n",
       "    <tr>\n",
       "      <th>1</th>\n",
       "      <td>https://docs.dominodatalab.com/en/latest/user_...</td>\n",
       "      <td>## User guide\\n\\nDomino is a data science plat...</td>\n",
       "    </tr>\n",
       "    <tr>\n",
       "      <th>2</th>\n",
       "      <td>https://docs.dominodatalab.com/en/latest/user_...</td>\n",
       "      <td>## Troubleshooting guidelines for users\\n\\n[Tr...</td>\n",
       "    </tr>\n",
       "    <tr>\n",
       "      <th>3</th>\n",
       "      <td>https://docs.dominodatalab.com/en/latest/user_...</td>\n",
       "      <td>About Domino\\n\\n[Domino Data Lab](https://domi...</td>\n",
       "    </tr>\n",
       "    <tr>\n",
       "      <th>4</th>\n",
       "      <td>https://docs.dominodatalab.com/en/latest/user_...</td>\n",
       "      <td>## Get Domino version\\n\\nTo see the Domino ver...</td>\n",
       "    </tr>\n",
       "  </tbody>\n",
       "</table>\n",
       "</div>"
      ],
      "text/plain": [
       "                                                 url  \\\n",
       "0  https://docs.dominodatalab.com/en/latest/user_...   \n",
       "1  https://docs.dominodatalab.com/en/latest/user_...   \n",
       "2  https://docs.dominodatalab.com/en/latest/user_...   \n",
       "3  https://docs.dominodatalab.com/en/latest/user_...   \n",
       "4  https://docs.dominodatalab.com/en/latest/user_...   \n",
       "\n",
       "                                            markdown  \n",
       "0                        Page not foundLet's search!  \n",
       "1  ## User guide\\n\\nDomino is a data science plat...  \n",
       "2  ## Troubleshooting guidelines for users\\n\\n[Tr...  \n",
       "3  About Domino\\n\\n[Domino Data Lab](https://domi...  \n",
       "4  ## Get Domino version\\n\\nTo see the Domino ver...  "
      ]
     },
     "execution_count": 10,
     "metadata": {},
     "output_type": "execute_result"
    }
   ],
   "source": [
    "docs = pd.read_csv(\"/mnt/data/{}/raw_data/domino_docs.csv\".format(os.environ['DOMINO_PROJECT_NAME']))\n",
    "\n",
    "print('Original shape: {}'.format(docs.shape))\n",
    "print('Drop duplicate rows')\n",
    "\n",
    "docs = docs.drop_duplicates(subset='markdown').reset_index()\n",
    "\n",
    "print(docs.shape)\n",
    "\n",
    "print('Filter for pages that containe help questions')\n",
    "\n",
    "def filter_rows(df, column, search_string):\n",
    "    filtered_df = df[df[column].str.contains(search_string)]\n",
    "    return(filtered_df)\n",
    "\n",
    "docs = docs[['url', 'markdown']]\n",
    "\n",
    "\n",
    "docs.to_csv(\"/mnt/data/{}/domino_docs_clean.csv\".format(os.environ['DOMINO_PROJECT_NAME']), index=False)\n",
    "\n",
    "docs.head()"
   ]
  }
 ],
 "metadata": {
  "kernelspec": {
   "display_name": "Python 3 (ipykernel)",
   "language": "python",
   "name": "python3"
  },
  "language_info": {
   "codemirror_mode": {
    "name": "ipython",
    "version": 3
   },
   "file_extension": ".py",
   "mimetype": "text/x-python",
   "name": "python",
   "nbconvert_exporter": "python",
   "pygments_lexer": "ipython3",
   "version": "3.9.18"
  }
 },
 "nbformat": 4,
 "nbformat_minor": 5
}
