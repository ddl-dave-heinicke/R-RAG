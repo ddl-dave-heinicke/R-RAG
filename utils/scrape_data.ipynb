{
 "cells": [
  {
   "cell_type": "code",
   "execution_count": 1,
   "id": "6d83e035-0089-4210-a43a-01629136f1fd",
   "metadata": {
    "tags": []
   },
   "outputs": [],
   "source": [
    "# ! pip install apify-client chromadb tiktoken SQLAlchemy==2.0.1"
   ]
  },
  {
   "cell_type": "code",
   "execution_count": 2,
   "id": "a706cb7f-7a11-42e6-b7a6-e242f52da653",
   "metadata": {
    "tags": []
   },
   "outputs": [],
   "source": [
    "import os\n",
    "import pandas as pd\n",
    "\n",
    "from langchain.docstore.document import Document\n",
    "from langchain.indexes import VectorstoreIndexCreator\n",
    "from langchain_community.utilities import ApifyWrapper"
   ]
  },
  {
   "cell_type": "markdown",
   "id": "20ffa523-87f1-4dc3-b3d6-a68232b3415e",
   "metadata": {},
   "source": [
    "### Use Apify to scrape a website\n",
    "\n",
    "Create a free account at:\n",
    "\n",
    "https://apify.com/apify/website-content-crawler\n",
    "\n",
    "Uncoment to run the crawler"
   ]
  },
  {
   "cell_type": "code",
   "execution_count": 3,
   "id": "b1de739f-98b8-43b1-9820-307f83625103",
   "metadata": {
    "tags": []
   },
   "outputs": [],
   "source": [
    "# Scrape a website\n",
    "\n",
    "# apify = ApifyWrapper()\n",
    "\n",
    "# # Call the Actor to obtain text from the crawled webpages\n",
    "\n",
    "# start_url = 'https://tickets.dominodatalab.com/'\n",
    "\n",
    "# loader = apify.call_actor(\n",
    "#     actor_id=\"apify/website-content-crawler\",\n",
    "#     run_input={\n",
    "#         \"startUrls\": [{\"url\": start_url}],\n",
    "#         \"max_items\": 10\n",
    "#     },\n",
    "#     dataset_mapping_function=lambda item: Document(\n",
    "#         page_content=item[\"text\"] or \"\", metadata={\"source\": item[\"url\"]}\n",
    "#     ),\n",
    "# )"
   ]
  },
  {
   "cell_type": "markdown",
   "id": "2d251c9a-afd7-45b7-817a-8ca2efe0355e",
   "metadata": {},
   "source": [
    "Download your raw scraped csv file and upload it to a Domino Dataset.\n",
    "\n",
    "Some data prep and cleaning can help RAG app performance."
   ]
  },
  {
   "cell_type": "code",
   "execution_count": 4,
   "id": "cfc4ac07-3c6d-49ca-aa9b-15d81a7cb685",
   "metadata": {
    "tags": []
   },
   "outputs": [
    {
     "data": {
      "text/html": [
       "<div>\n",
       "<style scoped>\n",
       "    .dataframe tbody tr th:only-of-type {\n",
       "        vertical-align: middle;\n",
       "    }\n",
       "\n",
       "    .dataframe tbody tr th {\n",
       "        vertical-align: top;\n",
       "    }\n",
       "\n",
       "    .dataframe thead th {\n",
       "        text-align: right;\n",
       "    }\n",
       "</style>\n",
       "<table border=\"1\" class=\"dataframe\">\n",
       "  <thead>\n",
       "    <tr style=\"text-align: right;\">\n",
       "      <th></th>\n",
       "      <th>url</th>\n",
       "      <th>markdown</th>\n",
       "    </tr>\n",
       "  </thead>\n",
       "  <tbody>\n",
       "    <tr>\n",
       "      <th>0</th>\n",
       "      <td>https://tickets.dominodatalab.com/</td>\n",
       "      <td>[![DOMINO SUPPORT Help Center home page](//the...</td>\n",
       "    </tr>\n",
       "    <tr>\n",
       "      <th>1</th>\n",
       "      <td>https://tickets.dominodatalab.com/hc/en-us/req...</td>\n",
       "      <td>Description\\n\\nPlease enter the details of you...</td>\n",
       "    </tr>\n",
       "    <tr>\n",
       "      <th>2</th>\n",
       "      <td>https://tickets.dominodatalab.com/hc/en-us/req...</td>\n",
       "      <td>![](https://popup.dominodatalab.com/datapopup/...</td>\n",
       "    </tr>\n",
       "    <tr>\n",
       "      <th>3</th>\n",
       "      <td>https://tickets.dominodatalab.com/hc/en-us/cat...</td>\n",
       "      <td>## Domino Support Service Information\\n\\nInfor...</td>\n",
       "    </tr>\n",
       "    <tr>\n",
       "      <th>4</th>\n",
       "      <td>https://tickets.dominodatalab.com/hc/en-us/sig...</td>\n",
       "      <td>![](https://popup.dominodatalab.com/datapopup/...</td>\n",
       "    </tr>\n",
       "  </tbody>\n",
       "</table>\n",
       "</div>"
      ],
      "text/plain": [
       "                                                 url  \\\n",
       "0                 https://tickets.dominodatalab.com/   \n",
       "1  https://tickets.dominodatalab.com/hc/en-us/req...   \n",
       "2  https://tickets.dominodatalab.com/hc/en-us/req...   \n",
       "3  https://tickets.dominodatalab.com/hc/en-us/cat...   \n",
       "4  https://tickets.dominodatalab.com/hc/en-us/sig...   \n",
       "\n",
       "                                            markdown  \n",
       "0  [![DOMINO SUPPORT Help Center home page](//the...  \n",
       "1  Description\\n\\nPlease enter the details of you...  \n",
       "2  ![](https://popup.dominodatalab.com/datapopup/...  \n",
       "3  ## Domino Support Service Information\\n\\nInfor...  \n",
       "4  ![](https://popup.dominodatalab.com/datapopup/...  "
      ]
     },
     "execution_count": 4,
     "metadata": {},
     "output_type": "execute_result"
    }
   ],
   "source": [
    "data = pd.read_csv(\"/mnt/data/{}/raw_data/domino_help.csv\".format(os.environ['DOMINO_PROJECT_NAME']))\n",
    "data.head()"
   ]
  },
  {
   "cell_type": "code",
   "execution_count": 5,
   "id": "a3001bf4-6ffe-4084-96a3-00cc87a1d26b",
   "metadata": {
    "tags": []
   },
   "outputs": [
    {
     "name": "stdout",
     "output_type": "stream",
     "text": [
      "67\n"
     ]
    },
    {
     "data": {
      "text/plain": [
       "'![](https://tickets.dominodatalab.com/system/photos/361254859151/Screen_Shot_2021-12-01_at_7.17.31_PM.png)\\n\\n[Follow](https://tickets.dominodatalab.com/hc/en-us/articles/20288906500244-Installing-R-packages-from-github-into-my-Domino-environment/subscription.html \"Opens a sign-in dialog\")\\n\\nThere are a few methods of installing external R packages from git into your environment. One of the most common methods we see is to use the devtools package. The full docs for the devtools package can be found [here](https://github.com/r-lib/devtools), but generally you\\'ll want to install the devtools package into your Dockerfile as shown below:\\xa0\\n\\ninstall.packages(\"devtools\")\\n\\nThen install the full package:\\xa0\\n\\n```\\nRUN R -e \"devtools::install_github(repo = \"owner/project\", host = \"https://github.com\", auth_token = \"{token}\")\"\\n```\\n\\nIf you\\xa0 encounter any issues using the devtools package, you can also try using the \"remotes\" package. The docs can be found [here](https://cran.r-project.org/web/packages/remotes/index.html).\\xa0\\n\\nIf users encounter any issues, they should reach out to their local admins. However, if the admins and users are unable to solve the issue the Domino support team will do their best to assist.\\xa0\\n\\n### Recently viewed articles\\n\\n*   [Re-add Julia to 5.9 Domino Standard Environment](https://tickets.dominodatalab.com/hc/en-us/articles/24004260312212-Re-add-Julia-to-5-9-Domino-Standard-Environment)\\n*   [Add R as a kernel to Jupyter & Jupyterlab](https://tickets.dominodatalab.com/hc/en-us/articles/24004369538964-Add-R-as-a-kernel-to-Jupyter-Jupyterlab)\\n*   [How to add a CAcert to a Domino Compute Environment](https://tickets.dominodatalab.com/hc/en-us/articles/360058963172-How-to-add-a-CAcert-to-a-Domino-Compute-Environment)\\n*   [Can I insert my JSON Configuration into JupyterLab in an easy way?](https://tickets.dominodatalab.com/hc/en-us/articles/19900361189268-Can-I-insert-my-JSON-Configuration-into-JupyterLab-in-an-easy-way)\\n*   [Workaround for a running workspace that cannot be synchronised.](https://tickets.dominodatalab.com/hc/en-us/articles/19915726094484-Workaround-for-a-running-workspace-that-cannot-be-synchronised)\\n\\n### Related articles\\n\\n*   [Scope of Support Coverage](https://tickets.dominodatalab.com/hc/en-us/related/click?data=BAh7CjobZGVzdGluYXRpb25fYXJ0aWNsZV9pZGwrCAwIONVTADoYcmVmZXJyZXJfYXJ0aWNsZV9pZGwrCJSYEOFzEjoLbG9jYWxlSSIKZW4tdXMGOgZFVDoIdXJsSSI%2BL2hjL2VuLXVzL2FydGljbGVzLzM2MDA1OTUwNDY1Mi1TY29wZS1vZi1TdXBwb3J0LUNvdmVyYWdlBjsIVDoJcmFua2kG--8333813af72127d4cc07b6dbd4164d973b43fab0)\\n*   [devtools addition to Compute Environment errors when using R4.0](https://tickets.dominodatalab.com/hc/en-us/related/click?data=BAh7CjobZGVzdGluYXRpb25fYXJ0aWNsZV9pZGwrCJQTysIBCToYcmVmZXJyZXJfYXJ0aWNsZV9pZGwrCJSYEOFzEjoLbG9jYWxlSSIKZW4tdXMGOgZFVDoIdXJsSSJlL2hjL2VuLXVzL2FydGljbGVzLzk5MDMxNjc2NDA0NjgtZGV2dG9vbHMtYWRkaXRpb24tdG8tQ29tcHV0ZS1FbnZpcm9ubWVudC1lcnJvcnMtd2hlbi11c2luZy1SNC0wBjsIVDoJcmFua2kH--767da85d950a54466b82a0d894e1e28f9e15024e)\\n*   [How to install package using Git Repo](https://tickets.dominodatalab.com/hc/en-us/related/click?data=BAh7CjobZGVzdGluYXRpb25fYXJ0aWNsZV9pZGwrCBQGhLkQBzoYcmVmZXJyZXJfYXJ0aWNsZV9pZGwrCJSYEOFzEjoLbG9jYWxlSSIKZW4tdXMGOgZFVDoIdXJsSSJLL2hjL2VuLXVzL2FydGljbGVzLzc3Njg0MTMzMDg0MzYtSG93LXRvLWluc3RhbGwtcGFja2FnZS11c2luZy1HaXQtUmVwbwY7CFQ6CXJhbmtpCA%3D%3D--dcc497f78a5e94c6e3d34541c806ebd892e686b3)\\n*   [I need to install a package every time I start R Studio. How do I make it permanent?](https://tickets.dominodatalab.com/hc/en-us/related/click?data=BAh7CjobZGVzdGluYXRpb25fYXJ0aWNsZV9pZGwrCBTwCvoCBDoYcmVmZXJyZXJfYXJ0aWNsZV9pZGwrCJSYEOFzEjoLbG9jYWxlSSIKZW4tdXMGOgZFVDoIdXJsSSJ4L2hjL2VuLXVzL2FydGljbGVzLzQ0MTA4MzE0NjY1MTYtSS1uZWVkLXRvLWluc3RhbGwtYS1wYWNrYWdlLWV2ZXJ5LXRpbWUtSS1zdGFydC1SLVN0dWRpby1Ib3ctZG8tSS1tYWtlLWl0LXBlcm1hbmVudAY7CFQ6CXJhbmtpCQ%3D%3D--2e191f83ed17b325136c643f030f57b3c353a1db)\\n*   [ERROR: Could not install packages due to an EnvironmentError: \\\\[Errno 13\\\\] Permission denied:](https://tickets.dominodatalab.com/hc/en-us/related/click?data=BAh7CjobZGVzdGluYXRpb25fYXJ0aWNsZV9pZGwrCBTCZPcBBDoYcmVmZXJyZXJfYXJ0aWNsZV9pZGwrCJSYEOFzEjoLbG9jYWxlSSIKZW4tdXMGOgZFVDoIdXJsSSJ8L2hjL2VuLXVzL2FydGljbGVzLzQ0MDY0OTIwNTQwMzYtRVJST1ItQ291bGQtbm90LWluc3RhbGwtcGFja2FnZXMtZHVlLXRvLWFuLUVudmlyb25tZW50RXJyb3ItRXJybm8tMTMtUGVybWlzc2lvbi1kZW5pZWQGOwhUOglyYW5raQo%3D--7084fa6e4fff4e390af30c3590c509f9e56d6ac8)'"
      ]
     },
     "execution_count": 5,
     "metadata": {},
     "output_type": "execute_result"
    }
   ],
   "source": [
    "import pandas as pd\n",
    "\n",
    "# Load the CSV dataset from Apify download\n",
    "data = pd.read_csv(\"/mnt/data/{}/raw_data/domino_help.csv\".format(os.environ['DOMINO_PROJECT_NAME']))\n",
    "\n",
    "# Extract the url and txt columns\n",
    "data = data[['url', 'markdown']]\n",
    "\n",
    "# Write the extracted data to a new file\n",
    "data.to_csv(\"/mnt/data/{}/raw_data/domino_help.csv\".format(os.environ['DOMINO_PROJECT_NAME']), index=False)\n",
    "\n",
    "import random\n",
    "\n",
    "i = random.randint(0,100)\n",
    "print(i)\n",
    "\n",
    "data['markdown'][i]"
   ]
  },
  {
   "cell_type": "markdown",
   "id": "f5ff0890-0c78-4777-a952-114eace00402",
   "metadata": {},
   "source": [
    "### Clean up help data\n",
    "\n",
    "The raw data from the crawler contains duplicate rows, links and other metadata that isn't needed."
   ]
  },
  {
   "cell_type": "code",
   "execution_count": 6,
   "id": "1137a51a-08ac-46e0-8a38-96e3983d9e23",
   "metadata": {},
   "outputs": [
    {
     "name": "stdout",
     "output_type": "stream",
     "text": [
      "Original shape: (1050, 2)\n",
      "Drop duplicate rows\n",
      "(664, 3)\n",
      "Filter for pages that contain help questions\n",
      "(208, 4)\n"
     ]
    },
    {
     "data": {
      "text/html": [
       "<div>\n",
       "<style scoped>\n",
       "    .dataframe tbody tr th:only-of-type {\n",
       "        vertical-align: middle;\n",
       "    }\n",
       "\n",
       "    .dataframe tbody tr th {\n",
       "        vertical-align: top;\n",
       "    }\n",
       "\n",
       "    .dataframe thead th {\n",
       "        text-align: right;\n",
       "    }\n",
       "</style>\n",
       "<table border=\"1\" class=\"dataframe\">\n",
       "  <thead>\n",
       "    <tr style=\"text-align: right;\">\n",
       "      <th></th>\n",
       "      <th>url</th>\n",
       "      <th>markdown</th>\n",
       "    </tr>\n",
       "  </thead>\n",
       "  <tbody>\n",
       "    <tr>\n",
       "      <th>0</th>\n",
       "      <td>https://tickets.dominodatalab.com/hc/en-us/search</td>\n",
       "      <td>... Some scheduled jobs and workspaces can in...</td>\n",
       "    </tr>\n",
       "    <tr>\n",
       "      <th>1</th>\n",
       "      <td>https://tickets.dominodatalab.com/hc/en-us/art...</td>\n",
       "      <td>**\\n\\nOn Git-based projects, when starting a n...</td>\n",
       "    </tr>\n",
       "    <tr>\n",
       "      <th>2</th>\n",
       "      <td>https://tickets.dominodatalab.com/hc/en-us/art...</td>\n",
       "      <td>**\\n\\nBefore Domino 5.3, GIT based projects do...</td>\n",
       "    </tr>\n",
       "    <tr>\n",
       "      <th>3</th>\n",
       "      <td>https://tickets.dominodatalab.com/hc/en-us/art...</td>\n",
       "      <td>**\\n\\nThe Admin &gt;&gt; Data &gt;&gt; Datasets page allow...</td>\n",
       "    </tr>\n",
       "    <tr>\n",
       "      <th>4</th>\n",
       "      <td>https://tickets.dominodatalab.com/hc/en-us/art...</td>\n",
       "      <td>** A common question from endusers is how they...</td>\n",
       "    </tr>\n",
       "  </tbody>\n",
       "</table>\n",
       "</div>"
      ],
      "text/plain": [
       "                                                 url  \\\n",
       "0  https://tickets.dominodatalab.com/hc/en-us/search   \n",
       "1  https://tickets.dominodatalab.com/hc/en-us/art...   \n",
       "2  https://tickets.dominodatalab.com/hc/en-us/art...   \n",
       "3  https://tickets.dominodatalab.com/hc/en-us/art...   \n",
       "4  https://tickets.dominodatalab.com/hc/en-us/art...   \n",
       "\n",
       "                                            markdown  \n",
       "0   ... Some scheduled jobs and workspaces can in...  \n",
       "1  **\\n\\nOn Git-based projects, when starting a n...  \n",
       "2  **\\n\\nBefore Domino 5.3, GIT based projects do...  \n",
       "3  **\\n\\nThe Admin >> Data >> Datasets page allow...  \n",
       "4  ** A common question from endusers is how they...  "
      ]
     },
     "execution_count": 6,
     "metadata": {},
     "output_type": "execute_result"
    }
   ],
   "source": [
    "data = pd.read_csv(\"/mnt/data/{}/raw_data/domino_help.csv\".format(os.environ['DOMINO_PROJECT_NAME']))\n",
    "\n",
    "print('Original shape: {}'.format(data.shape))\n",
    "print('Drop duplicate rows')\n",
    "\n",
    "data = data.drop_duplicates(subset='markdown').reset_index()\n",
    "\n",
    "print(data.shape)\n",
    "\n",
    "print('Filter for pages that contain help questions')\n",
    "\n",
    "def filter_rows(df, column, search_string):\n",
    "    filtered_df = df[df[column].str.contains(search_string)]\n",
    "    return(filtered_df)\n",
    "\n",
    "# Indicates page contains a question:\n",
    "search_string = 'Issue:'\n",
    "column = 'markdown'\n",
    "data = filter_rows(df=data, column=column, search_string=search_string).copy()\n",
    "data = data.reset_index()\n",
    "print(data.shape)\n",
    "\n",
    "# Extract only the question & answer\n",
    "data['markdown'] = data['markdown'].apply(lambda x : x.split('Issue:')[1])\n",
    "data['markdown'] = data['markdown'].apply(lambda x : x.split('Notes/Information')[0])\n",
    "data = data[['url', 'markdown']]\n",
    "\n",
    "\n",
    "data.to_csv(\"/mnt/data/{}/domino_help_clean.csv\".format(os.environ['DOMINO_PROJECT_NAME']), index=False)\n",
    "\n",
    "data.head()"
   ]
  },
  {
   "cell_type": "markdown",
   "id": "31f74e88-9ca3-444b-b023-b65d5f42886b",
   "metadata": {},
   "source": [
    "# Domino Docs"
   ]
  },
  {
   "cell_type": "code",
   "execution_count": 7,
   "id": "1ad245bd-eb9a-41d2-83bb-f45848dd3af0",
   "metadata": {},
   "outputs": [],
   "source": [
    "import os\n",
    "import pandas as pd\n",
    "\n",
    "from langchain.docstore.document import Document\n",
    "from langchain.indexes import VectorstoreIndexCreator\n",
    "from langchain_community.utilities import ApifyWrapper"
   ]
  },
  {
   "cell_type": "code",
   "execution_count": 8,
   "id": "a66bcf35-1363-44a0-8a6c-93d5f5987385",
   "metadata": {},
   "outputs": [],
   "source": [
    "# Scrape a website\n",
    "\n",
    "# apify = ApifyWrapper()\n",
    "\n",
    "# # Call the Actor to obtain text from the crawled webpages\n",
    "\n",
    "# start_url = 'https://docs.dominodatalab.com/en/latest/user_guide/'\n",
    "\n",
    "# loader = apify.call_actor(\n",
    "#     actor_id=\"apify/website-content-crawler\",\n",
    "#     run_input={\n",
    "#         \"startUrls\": [{\"url\": start_url}],\n",
    "#         \"max_items\": 10\n",
    "#     },\n",
    "#     dataset_mapping_function=lambda item: Document(\n",
    "#         page_content=item[\"text\"] or \"\", metadata={\"source\": item[\"url\"]}\n",
    "#     ),\n",
    "# )"
   ]
  },
  {
   "cell_type": "markdown",
   "id": "9532f18b-4ca8-4e70-8372-f4c93208c89c",
   "metadata": {},
   "source": [
    "Download your raw scraped csv file and upload it to a Domino Dataset.\n",
    "\n",
    "Some data prep and cleaning can help RAG app performance."
   ]
  },
  {
   "cell_type": "code",
   "execution_count": 9,
   "id": "d8229846-1fd7-4f44-ab84-84f776d3706a",
   "metadata": {},
   "outputs": [
    {
     "name": "stdout",
     "output_type": "stream",
     "text": [
      "4\n"
     ]
    },
    {
     "data": {
      "text/plain": [
       "'## Get Domino version\\n\\nTo see the Domino version that you are running, go to `<your domino url>/version`.\\n\\nFor example, users on `try.domino.tech` can see the version at `try.domino.tech/version`.'"
      ]
     },
     "execution_count": 9,
     "metadata": {},
     "output_type": "execute_result"
    }
   ],
   "source": [
    "import pandas as pd\n",
    "\n",
    "# Load the CSV dataset\n",
    "docs = pd.read_csv(\"/mnt/data/{}/raw_data/domino_docs.csv\".format(os.environ['DOMINO_PROJECT_NAME']))\n",
    "\n",
    "# Extract the url and txt columns\n",
    "docs = docs[['url', 'markdown']]\n",
    "\n",
    "# Write the extracted data to a new file called help.csv\n",
    "docs.to_csv(\"/mnt/data/{}/raw_data/domino_docs.csv\".format(os.environ['DOMINO_PROJECT_NAME']), index=False)\n",
    "\n",
    "import random\n",
    "\n",
    "i = random.randint(0,100)\n",
    "print(i)\n",
    "\n",
    "docs['markdown'][i]"
   ]
  },
  {
   "cell_type": "code",
   "execution_count": 10,
   "id": "e2b1aba6-d2c3-40d4-971c-cc58dcfc08f0",
   "metadata": {},
   "outputs": [
    {
     "name": "stdout",
     "output_type": "stream",
     "text": [
      "Original shape: (383, 2)\n",
      "Drop duplicate rows\n",
      "(383, 3)\n",
      "Filter for pages that containe help questions\n"
     ]
    },
    {
     "data": {
      "text/html": [
       "<div>\n",
       "<style scoped>\n",
       "    .dataframe tbody tr th:only-of-type {\n",
       "        vertical-align: middle;\n",
       "    }\n",
       "\n",
       "    .dataframe tbody tr th {\n",
       "        vertical-align: top;\n",
       "    }\n",
       "\n",
       "    .dataframe thead th {\n",
       "        text-align: right;\n",
       "    }\n",
       "</style>\n",
       "<table border=\"1\" class=\"dataframe\">\n",
       "  <thead>\n",
       "    <tr style=\"text-align: right;\">\n",
       "      <th></th>\n",
       "      <th>url</th>\n",
       "      <th>markdown</th>\n",
       "    </tr>\n",
       "  </thead>\n",
       "  <tbody>\n",
       "    <tr>\n",
       "      <th>0</th>\n",
       "      <td>https://docs.dominodatalab.com/en/latest/user_...</td>\n",
       "      <td>Page not foundLet's search!</td>\n",
       "    </tr>\n",
       "    <tr>\n",
       "      <th>1</th>\n",
       "      <td>https://docs.dominodatalab.com/en/latest/user_...</td>\n",
       "      <td>## User guide\\n\\nDomino is a data science plat...</td>\n",
       "    </tr>\n",
       "    <tr>\n",
       "      <th>2</th>\n",
       "      <td>https://docs.dominodatalab.com/en/latest/user_...</td>\n",
       "      <td>## Troubleshooting guidelines for users\\n\\n[Tr...</td>\n",
       "    </tr>\n",
       "    <tr>\n",
       "      <th>3</th>\n",
       "      <td>https://docs.dominodatalab.com/en/latest/user_...</td>\n",
       "      <td>About Domino\\n\\n[Domino Data Lab](https://domi...</td>\n",
       "    </tr>\n",
       "    <tr>\n",
       "      <th>4</th>\n",
       "      <td>https://docs.dominodatalab.com/en/latest/user_...</td>\n",
       "      <td>## Get Domino version\\n\\nTo see the Domino ver...</td>\n",
       "    </tr>\n",
       "  </tbody>\n",
       "</table>\n",
       "</div>"
      ],
      "text/plain": [
       "                                                 url  \\\n",
       "0  https://docs.dominodatalab.com/en/latest/user_...   \n",
       "1  https://docs.dominodatalab.com/en/latest/user_...   \n",
       "2  https://docs.dominodatalab.com/en/latest/user_...   \n",
       "3  https://docs.dominodatalab.com/en/latest/user_...   \n",
       "4  https://docs.dominodatalab.com/en/latest/user_...   \n",
       "\n",
       "                                            markdown  \n",
       "0                        Page not foundLet's search!  \n",
       "1  ## User guide\\n\\nDomino is a data science plat...  \n",
       "2  ## Troubleshooting guidelines for users\\n\\n[Tr...  \n",
       "3  About Domino\\n\\n[Domino Data Lab](https://domi...  \n",
       "4  ## Get Domino version\\n\\nTo see the Domino ver...  "
      ]
     },
     "execution_count": 10,
     "metadata": {},
     "output_type": "execute_result"
    }
   ],
   "source": [
    "docs = pd.read_csv(\"/mnt/data/{}/raw_data/domino_docs.csv\".format(os.environ['DOMINO_PROJECT_NAME']))\n",
    "\n",
    "print('Original shape: {}'.format(docs.shape))\n",
    "print('Drop duplicate rows')\n",
    "\n",
    "docs = docs.drop_duplicates(subset='markdown').reset_index()\n",
    "\n",
    "print(docs.shape)\n",
    "\n",
    "print('Filter for pages that containe help questions')\n",
    "\n",
    "def filter_rows(df, column, search_string):\n",
    "    filtered_df = df[df[column].str.contains(search_string)]\n",
    "    return(filtered_df)\n",
    "\n",
    "docs = docs[['url', 'markdown']]\n",
    "\n",
    "\n",
    "docs.to_csv(\"/mnt/data/{}/domino_docs_clean.csv\".format(os.environ['DOMINO_PROJECT_NAME']), index=False)\n",
    "\n",
    "docs.head()"
   ]
  }
 ],
 "metadata": {
  "kernelspec": {
   "display_name": "Python 3 (ipykernel)",
   "language": "python",
   "name": "python3"
  },
  "language_info": {
   "codemirror_mode": {
    "name": "ipython",
    "version": 3
   },
   "file_extension": ".py",
   "mimetype": "text/x-python",
   "name": "python",
   "nbconvert_exporter": "python",
   "pygments_lexer": "ipython3",
   "version": "3.9.18"
  }
 },
 "nbformat": 4,
 "nbformat_minor": 5
}
