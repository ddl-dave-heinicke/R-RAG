{
 "cells": [
  {
   "cell_type": "code",
   "execution_count": 2,
   "id": "6d83e035-0089-4210-a43a-01629136f1fd",
   "metadata": {
    "collapsed": true,
    "jupyter": {
     "outputs_hidden": true
    },
    "tags": []
   },
   "outputs": [
    {
     "name": "stdout",
     "output_type": "stream",
     "text": [
      "Defaulting to user installation because normal site-packages is not writeable\n",
      "Looking in indexes: https://pypi.org/simple, https://pypi.ngc.nvidia.com\n",
      "Requirement already satisfied: apify-client in /usr/local/lib/python3.10/dist-packages (1.1.1)\n",
      "Requirement already satisfied: chromadb in /usr/local/lib/python3.10/dist-packages (0.4.24)\n",
      "Requirement already satisfied: tiktoken in /usr/local/lib/python3.10/dist-packages (0.5.2)\n",
      "Requirement already satisfied: SQLAlchemy==2.0.1 in /usr/local/lib/python3.10/dist-packages (2.0.1)\n",
      "Requirement already satisfied: typing-extensions>=4.2.0 in /usr/local/lib/python3.10/dist-packages (from SQLAlchemy==2.0.1) (4.10.0)\n",
      "Requirement already satisfied: greenlet!=0.4.17 in /usr/local/lib/python3.10/dist-packages (from SQLAlchemy==2.0.1) (3.0.3)\n",
      "Requirement already satisfied: httpx~=0.23.0 in /usr/local/lib/python3.10/dist-packages (from apify-client) (0.23.3)\n",
      "Requirement already satisfied: build>=1.0.3 in /usr/local/lib/python3.10/dist-packages (from chromadb) (1.1.1)\n",
      "Requirement already satisfied: requests>=2.28 in /usr/local/lib/python3.10/dist-packages (from chromadb) (2.31.0)\n",
      "Requirement already satisfied: pydantic>=1.9 in /usr/local/lib/python3.10/dist-packages (from chromadb) (2.4.2)\n",
      "Requirement already satisfied: chroma-hnswlib==0.7.3 in /usr/local/lib/python3.10/dist-packages (from chromadb) (0.7.3)\n",
      "Requirement already satisfied: fastapi>=0.95.2 in /usr/local/lib/python3.10/dist-packages (from chromadb) (0.110.0)\n",
      "Requirement already satisfied: uvicorn[standard]>=0.18.3 in /usr/local/lib/python3.10/dist-packages (from chromadb) (0.27.1)\n",
      "Requirement already satisfied: numpy>=1.22.5 in /usr/local/lib/python3.10/dist-packages (from chromadb) (1.26.4)\n",
      "Requirement already satisfied: posthog>=2.4.0 in /usr/local/lib/python3.10/dist-packages (from chromadb) (3.5.0)\n",
      "Requirement already satisfied: pulsar-client>=3.1.0 in /usr/local/lib/python3.10/dist-packages (from chromadb) (3.4.0)\n",
      "Requirement already satisfied: onnxruntime>=1.14.1 in /usr/local/lib/python3.10/dist-packages (from chromadb) (1.17.1)\n",
      "Requirement already satisfied: opentelemetry-api>=1.2.0 in /usr/local/lib/python3.10/dist-packages (from chromadb) (1.23.0)\n",
      "Requirement already satisfied: opentelemetry-exporter-otlp-proto-grpc>=1.2.0 in /usr/local/lib/python3.10/dist-packages (from chromadb) (1.23.0)\n",
      "Requirement already satisfied: opentelemetry-instrumentation-fastapi>=0.41b0 in /usr/local/lib/python3.10/dist-packages (from chromadb) (0.44b0)\n",
      "Requirement already satisfied: opentelemetry-sdk>=1.2.0 in /usr/local/lib/python3.10/dist-packages (from chromadb) (1.23.0)\n",
      "Requirement already satisfied: tokenizers>=0.13.2 in /usr/local/lib/python3.10/dist-packages (from chromadb) (0.15.2)\n",
      "Requirement already satisfied: pypika>=0.48.9 in /usr/local/lib/python3.10/dist-packages (from chromadb) (0.48.9)\n",
      "Requirement already satisfied: tqdm>=4.65.0 in /usr/local/lib/python3.10/dist-packages (from chromadb) (4.66.1)\n",
      "Requirement already satisfied: overrides>=7.3.1 in /usr/local/lib/python3.10/dist-packages (from chromadb) (7.7.0)\n",
      "Requirement already satisfied: importlib-resources in /usr/local/lib/python3.10/dist-packages (from chromadb) (6.1.2)\n",
      "Requirement already satisfied: grpcio>=1.58.0 in /usr/local/lib/python3.10/dist-packages (from chromadb) (1.62.0)\n",
      "Requirement already satisfied: bcrypt>=4.0.1 in /usr/local/lib/python3.10/dist-packages (from chromadb) (4.1.2)\n",
      "Requirement already satisfied: typer>=0.9.0 in /usr/local/lib/python3.10/dist-packages (from chromadb) (0.9.0)\n",
      "Requirement already satisfied: kubernetes>=28.1.0 in /usr/local/lib/python3.10/dist-packages (from chromadb) (29.0.0)\n",
      "Requirement already satisfied: tenacity>=8.2.3 in /usr/local/lib/python3.10/dist-packages (from chromadb) (8.2.3)\n",
      "Requirement already satisfied: PyYAML>=6.0.0 in /usr/local/lib/python3.10/dist-packages (from chromadb) (6.0.1)\n",
      "Requirement already satisfied: mmh3>=4.0.1 in /usr/local/lib/python3.10/dist-packages (from chromadb) (4.1.0)\n",
      "Requirement already satisfied: orjson>=3.9.12 in /usr/local/lib/python3.10/dist-packages (from chromadb) (3.9.15)\n",
      "Requirement already satisfied: regex>=2022.1.18 in /usr/local/lib/python3.10/dist-packages (from tiktoken) (2023.10.3)\n",
      "Requirement already satisfied: packaging>=19.0 in /usr/local/lib/python3.10/dist-packages (from build>=1.0.3->chromadb) (23.2)\n",
      "Requirement already satisfied: pyproject_hooks in /usr/local/lib/python3.10/dist-packages (from build>=1.0.3->chromadb) (1.0.0)\n",
      "Requirement already satisfied: tomli>=1.1.0 in /usr/local/lib/python3.10/dist-packages (from build>=1.0.3->chromadb) (2.0.1)\n",
      "Requirement already satisfied: starlette<0.37.0,>=0.36.3 in /usr/local/lib/python3.10/dist-packages (from fastapi>=0.95.2->chromadb) (0.36.3)\n",
      "Requirement already satisfied: certifi in /usr/local/lib/python3.10/dist-packages (from httpx~=0.23.0->apify-client) (2023.7.22)\n",
      "Requirement already satisfied: httpcore<0.17.0,>=0.15.0 in /usr/local/lib/python3.10/dist-packages (from httpx~=0.23.0->apify-client) (0.16.3)\n",
      "Requirement already satisfied: rfc3986[idna2008]<2,>=1.3 in /usr/local/lib/python3.10/dist-packages (from httpx~=0.23.0->apify-client) (1.5.0)\n",
      "Requirement already satisfied: sniffio in /usr/local/lib/python3.10/dist-packages (from httpx~=0.23.0->apify-client) (1.3.1)\n",
      "Requirement already satisfied: six>=1.9.0 in /usr/local/lib/python3.10/dist-packages (from kubernetes>=28.1.0->chromadb) (1.16.0)\n",
      "Requirement already satisfied: python-dateutil>=2.5.3 in /usr/local/lib/python3.10/dist-packages (from kubernetes>=28.1.0->chromadb) (2.8.2)\n",
      "Requirement already satisfied: google-auth>=1.0.1 in /usr/local/lib/python3.10/dist-packages (from kubernetes>=28.1.0->chromadb) (2.23.2)\n",
      "Requirement already satisfied: websocket-client!=0.40.0,!=0.41.*,!=0.42.*,>=0.32.0 in /usr/local/lib/python3.10/dist-packages (from kubernetes>=28.1.0->chromadb) (1.7.0)\n",
      "Requirement already satisfied: requests-oauthlib in /usr/local/lib/python3.10/dist-packages (from kubernetes>=28.1.0->chromadb) (1.3.1)\n",
      "Requirement already satisfied: oauthlib>=3.2.2 in /usr/local/lib/python3.10/dist-packages (from kubernetes>=28.1.0->chromadb) (3.2.2)\n",
      "Requirement already satisfied: urllib3>=1.24.2 in /usr/local/lib/python3.10/dist-packages (from kubernetes>=28.1.0->chromadb) (1.26.16)\n",
      "Requirement already satisfied: coloredlogs in /usr/local/lib/python3.10/dist-packages (from onnxruntime>=1.14.1->chromadb) (15.0.1)\n",
      "Requirement already satisfied: flatbuffers in /usr/local/lib/python3.10/dist-packages (from onnxruntime>=1.14.1->chromadb) (23.5.26)\n",
      "Requirement already satisfied: protobuf in /usr/local/lib/python3.10/dist-packages (from onnxruntime>=1.14.1->chromadb) (4.24.4)\n",
      "Requirement already satisfied: sympy in /usr/local/lib/python3.10/dist-packages (from onnxruntime>=1.14.1->chromadb) (1.12)\n",
      "Requirement already satisfied: deprecated>=1.2.6 in /usr/local/lib/python3.10/dist-packages (from opentelemetry-api>=1.2.0->chromadb) (1.2.14)\n",
      "Requirement already satisfied: importlib-metadata<7.0,>=6.0 in /usr/local/lib/python3.10/dist-packages (from opentelemetry-api>=1.2.0->chromadb) (6.8.0)\n",
      "Requirement already satisfied: googleapis-common-protos~=1.52 in /usr/local/lib/python3.10/dist-packages (from opentelemetry-exporter-otlp-proto-grpc>=1.2.0->chromadb) (1.62.0)\n",
      "Requirement already satisfied: opentelemetry-exporter-otlp-proto-common==1.23.0 in /usr/local/lib/python3.10/dist-packages (from opentelemetry-exporter-otlp-proto-grpc>=1.2.0->chromadb) (1.23.0)\n",
      "Requirement already satisfied: opentelemetry-proto==1.23.0 in /usr/local/lib/python3.10/dist-packages (from opentelemetry-exporter-otlp-proto-grpc>=1.2.0->chromadb) (1.23.0)\n",
      "Requirement already satisfied: opentelemetry-instrumentation-asgi==0.44b0 in /usr/local/lib/python3.10/dist-packages (from opentelemetry-instrumentation-fastapi>=0.41b0->chromadb) (0.44b0)\n",
      "Requirement already satisfied: opentelemetry-instrumentation==0.44b0 in /usr/local/lib/python3.10/dist-packages (from opentelemetry-instrumentation-fastapi>=0.41b0->chromadb) (0.44b0)\n",
      "Requirement already satisfied: opentelemetry-semantic-conventions==0.44b0 in /usr/local/lib/python3.10/dist-packages (from opentelemetry-instrumentation-fastapi>=0.41b0->chromadb) (0.44b0)\n",
      "Requirement already satisfied: opentelemetry-util-http==0.44b0 in /usr/local/lib/python3.10/dist-packages (from opentelemetry-instrumentation-fastapi>=0.41b0->chromadb) (0.44b0)\n",
      "Requirement already satisfied: setuptools>=16.0 in /usr/local/lib/python3.10/dist-packages (from opentelemetry-instrumentation==0.44b0->opentelemetry-instrumentation-fastapi>=0.41b0->chromadb) (68.2.2)\n",
      "Requirement already satisfied: wrapt<2.0.0,>=1.0.0 in /usr/local/lib/python3.10/dist-packages (from opentelemetry-instrumentation==0.44b0->opentelemetry-instrumentation-fastapi>=0.41b0->chromadb) (1.16.0)\n",
      "Requirement already satisfied: asgiref~=3.0 in /usr/local/lib/python3.10/dist-packages (from opentelemetry-instrumentation-asgi==0.44b0->opentelemetry-instrumentation-fastapi>=0.41b0->chromadb) (3.7.2)\n",
      "Requirement already satisfied: monotonic>=1.5 in /usr/local/lib/python3.10/dist-packages (from posthog>=2.4.0->chromadb) (1.6)\n",
      "Requirement already satisfied: backoff>=1.10.0 in /usr/local/lib/python3.10/dist-packages (from posthog>=2.4.0->chromadb) (1.11.1)\n",
      "Requirement already satisfied: annotated-types>=0.4.0 in /usr/local/lib/python3.10/dist-packages (from pydantic>=1.9->chromadb) (0.5.0)\n",
      "Requirement already satisfied: pydantic-core==2.10.1 in /usr/local/lib/python3.10/dist-packages (from pydantic>=1.9->chromadb) (2.10.1)\n",
      "Requirement already satisfied: charset-normalizer<4,>=2 in /usr/local/lib/python3.10/dist-packages (from requests>=2.28->chromadb) (3.2.0)\n",
      "Requirement already satisfied: idna<4,>=2.5 in /usr/local/lib/python3.10/dist-packages (from requests>=2.28->chromadb) (3.4)\n",
      "Requirement already satisfied: huggingface_hub<1.0,>=0.16.4 in /usr/local/lib/python3.10/dist-packages (from tokenizers>=0.13.2->chromadb) (0.21.3)\n",
      "Requirement already satisfied: click<9.0.0,>=7.1.1 in /usr/local/lib/python3.10/dist-packages (from typer>=0.9.0->chromadb) (8.1.6)\n",
      "Requirement already satisfied: h11>=0.8 in /usr/local/lib/python3.10/dist-packages (from uvicorn[standard]>=0.18.3->chromadb) (0.14.0)\n",
      "Requirement already satisfied: httptools>=0.5.0 in /usr/local/lib/python3.10/dist-packages (from uvicorn[standard]>=0.18.3->chromadb) (0.6.1)\n",
      "Requirement already satisfied: python-dotenv>=0.13 in /usr/local/lib/python3.10/dist-packages (from uvicorn[standard]>=0.18.3->chromadb) (1.0.1)\n",
      "Requirement already satisfied: uvloop!=0.15.0,!=0.15.1,>=0.14.0 in /usr/local/lib/python3.10/dist-packages (from uvicorn[standard]>=0.18.3->chromadb) (0.19.0)\n",
      "Requirement already satisfied: watchfiles>=0.13 in /usr/local/lib/python3.10/dist-packages (from uvicorn[standard]>=0.18.3->chromadb) (0.21.0)\n",
      "Requirement already satisfied: websockets>=10.4 in /usr/local/lib/python3.10/dist-packages (from uvicorn[standard]>=0.18.3->chromadb) (12.0)\n",
      "Requirement already satisfied: cachetools<6.0,>=2.0.0 in /usr/local/lib/python3.10/dist-packages (from google-auth>=1.0.1->kubernetes>=28.1.0->chromadb) (5.3.1)\n",
      "Requirement already satisfied: pyasn1-modules>=0.2.1 in /usr/local/lib/python3.10/dist-packages (from google-auth>=1.0.1->kubernetes>=28.1.0->chromadb) (0.3.0)\n",
      "Requirement already satisfied: rsa<5,>=3.1.4 in /usr/local/lib/python3.10/dist-packages (from google-auth>=1.0.1->kubernetes>=28.1.0->chromadb) (4.9)\n",
      "Requirement already satisfied: anyio<5.0,>=3.0 in /usr/local/lib/python3.10/dist-packages (from httpcore<0.17.0,>=0.15.0->httpx~=0.23.0->apify-client) (4.3.0)\n",
      "Requirement already satisfied: filelock in /usr/local/lib/python3.10/dist-packages (from huggingface_hub<1.0,>=0.16.4->tokenizers>=0.13.2->chromadb) (3.12.4)\n",
      "Requirement already satisfied: fsspec>=2023.5.0 in /usr/local/lib/python3.10/dist-packages (from huggingface_hub<1.0,>=0.16.4->tokenizers>=0.13.2->chromadb) (2023.6.0)\n",
      "Requirement already satisfied: zipp>=0.5 in /usr/local/lib/python3.10/dist-packages (from importlib-metadata<7.0,>=6.0->opentelemetry-api>=1.2.0->chromadb) (3.16.2)\n",
      "Requirement already satisfied: humanfriendly>=9.1 in /usr/local/lib/python3.10/dist-packages (from coloredlogs->onnxruntime>=1.14.1->chromadb) (10.0)\n",
      "Requirement already satisfied: mpmath>=0.19 in /usr/local/lib/python3.10/dist-packages (from sympy->onnxruntime>=1.14.1->chromadb) (1.3.0)\n",
      "Requirement already satisfied: exceptiongroup>=1.0.2 in /usr/local/lib/python3.10/dist-packages (from anyio<5.0,>=3.0->httpcore<0.17.0,>=0.15.0->httpx~=0.23.0->apify-client) (1.1.3)\n",
      "Requirement already satisfied: pyasn1<0.6.0,>=0.4.6 in /usr/local/lib/python3.10/dist-packages (from pyasn1-modules>=0.2.1->google-auth>=1.0.1->kubernetes>=28.1.0->chromadb) (0.5.0)\n",
      "\n",
      "\u001b[1m[\u001b[0m\u001b[34;49mnotice\u001b[0m\u001b[1;39;49m]\u001b[0m\u001b[39;49m A new release of pip is available: \u001b[0m\u001b[31;49m23.2.1\u001b[0m\u001b[39;49m -> \u001b[0m\u001b[32;49m24.0\u001b[0m\n",
      "\u001b[1m[\u001b[0m\u001b[34;49mnotice\u001b[0m\u001b[1;39;49m]\u001b[0m\u001b[39;49m To update, run: \u001b[0m\u001b[32;49mpython -m pip install --upgrade pip\u001b[0m\n"
     ]
    }
   ],
   "source": [
    "# ! pip install apify-client chromadb tiktoken SQLAlchemy==2.0.1"
   ]
  },
  {
   "cell_type": "code",
   "execution_count": 1,
   "id": "a706cb7f-7a11-42e6-b7a6-e242f52da653",
   "metadata": {
    "tags": []
   },
   "outputs": [],
   "source": [
    "import os\n",
    "import pandas as pd\n",
    "\n",
    "from langchain.docstore.document import Document\n",
    "from langchain.indexes import VectorstoreIndexCreator\n",
    "from langchain_community.utilities import ApifyWrapper"
   ]
  },
  {
   "cell_type": "markdown",
   "id": "20ffa523-87f1-4dc3-b3d6-a68232b3415e",
   "metadata": {},
   "source": [
    "### Use Apify to scrape a website\n",
    "\n",
    "Create a free account at:\n",
    "\n",
    "https://apify.com/apify/website-content-crawler\n",
    "\n",
    "Uncoment to run the crawler"
   ]
  },
  {
   "cell_type": "code",
   "execution_count": null,
   "id": "b1de739f-98b8-43b1-9820-307f83625103",
   "metadata": {
    "tags": []
   },
   "outputs": [],
   "source": [
    "# Scrape a website\n",
    "\n",
    "# apify = ApifyWrapper()\n",
    "\n",
    "# # Call the Actor to obtain text from the crawled webpages\n",
    "\n",
    "# start_url = 'https://tickets.dominodatalab.com/'\n",
    "\n",
    "# loader = apify.call_actor(\n",
    "#     actor_id=\"apify/website-content-crawler\",\n",
    "#     run_input={\n",
    "#         \"startUrls\": [{\"url\": start_url}],\n",
    "#         \"max_items\": 10\n",
    "#     },\n",
    "#     dataset_mapping_function=lambda item: Document(\n",
    "#         page_content=item[\"text\"] or \"\", metadata={\"source\": item[\"url\"]}\n",
    "#     ),\n",
    "# )"
   ]
  },
  {
   "cell_type": "markdown",
   "id": "2d251c9a-afd7-45b7-817a-8ca2efe0355e",
   "metadata": {},
   "source": [
    "Download your raw scraped csv file and upload it to a Domino Dataset.\n",
    "\n",
    "Some data prep and cleaning can help RAG app performance."
   ]
  },
  {
   "cell_type": "code",
   "execution_count": 3,
   "id": "cfc4ac07-3c6d-49ca-aa9b-15d81a7cb685",
   "metadata": {
    "tags": []
   },
   "outputs": [
    {
     "data": {
      "text/html": [
       "<div>\n",
       "<style scoped>\n",
       "    .dataframe tbody tr th:only-of-type {\n",
       "        vertical-align: middle;\n",
       "    }\n",
       "\n",
       "    .dataframe tbody tr th {\n",
       "        vertical-align: top;\n",
       "    }\n",
       "\n",
       "    .dataframe thead th {\n",
       "        text-align: right;\n",
       "    }\n",
       "</style>\n",
       "<table border=\"1\" class=\"dataframe\">\n",
       "  <thead>\n",
       "    <tr style=\"text-align: right;\">\n",
       "      <th></th>\n",
       "      <th>url</th>\n",
       "      <th>markdown</th>\n",
       "    </tr>\n",
       "  </thead>\n",
       "  <tbody>\n",
       "    <tr>\n",
       "      <th>0</th>\n",
       "      <td>https://tickets.dominodatalab.com/</td>\n",
       "      <td>[![DOMINO SUPPORT Help Center home page](//the...</td>\n",
       "    </tr>\n",
       "    <tr>\n",
       "      <th>1</th>\n",
       "      <td>https://tickets.dominodatalab.com/hc/en-us/req...</td>\n",
       "      <td>Description\\n\\nPlease enter the details of you...</td>\n",
       "    </tr>\n",
       "    <tr>\n",
       "      <th>2</th>\n",
       "      <td>https://tickets.dominodatalab.com/hc/en-us/req...</td>\n",
       "      <td>![](https://popup.dominodatalab.com/datapopup/...</td>\n",
       "    </tr>\n",
       "    <tr>\n",
       "      <th>3</th>\n",
       "      <td>https://tickets.dominodatalab.com/hc/en-us/cat...</td>\n",
       "      <td>## Domino Support Service Information\\n\\nInfor...</td>\n",
       "    </tr>\n",
       "    <tr>\n",
       "      <th>4</th>\n",
       "      <td>https://tickets.dominodatalab.com/hc/en-us/sig...</td>\n",
       "      <td>![](https://popup.dominodatalab.com/datapopup/...</td>\n",
       "    </tr>\n",
       "  </tbody>\n",
       "</table>\n",
       "</div>"
      ],
      "text/plain": [
       "                                                 url  \\\n",
       "0                 https://tickets.dominodatalab.com/   \n",
       "1  https://tickets.dominodatalab.com/hc/en-us/req...   \n",
       "2  https://tickets.dominodatalab.com/hc/en-us/req...   \n",
       "3  https://tickets.dominodatalab.com/hc/en-us/cat...   \n",
       "4  https://tickets.dominodatalab.com/hc/en-us/sig...   \n",
       "\n",
       "                                            markdown  \n",
       "0  [![DOMINO SUPPORT Help Center home page](//the...  \n",
       "1  Description\\n\\nPlease enter the details of you...  \n",
       "2  ![](https://popup.dominodatalab.com/datapopup/...  \n",
       "3  ## Domino Support Service Information\\n\\nInfor...  \n",
       "4  ![](https://popup.dominodatalab.com/datapopup/...  "
      ]
     },
     "execution_count": 3,
     "metadata": {},
     "output_type": "execute_result"
    }
   ],
   "source": [
    "data = pd.read_csv(\"/mnt/data/{}/raw_data/domino_help.csv\".format(os.environ['DOMINO_PROJECT_NAME']))\n",
    "data.head()"
   ]
  },
  {
   "cell_type": "code",
   "execution_count": 5,
   "id": "a3001bf4-6ffe-4084-96a3-00cc87a1d26b",
   "metadata": {
    "tags": []
   },
   "outputs": [
    {
     "name": "stdout",
     "output_type": "stream",
     "text": [
      "94\n"
     ]
    },
    {
     "data": {
      "text/plain": [
       "'![](https://tickets.dominodatalab.com/system/photos/360330287191/test.jpg)\\n\\n[Follow](https://tickets.dominodatalab.com/hc/en-us/articles/23164968413204-Editing-and-Deleting-Tags-in-Tags-Launcher/subscription.html \"Opens a sign-in dialog\")\\n\\n#### _**Version/Environment (if relevant):**_\\n\\n5.7 and Above\\n\\n* * *\\n\\nThe document below outlines the steps on how to manage your tags via the Launcher.\\xa0\\n\\n**1\\\\. Log in to your Deploy**\\n\\n**![Screen](https://tickets.dominodatalab.com/hc/article_attachments/23164968392084)**\\n\\n**2\\\\. On the left side click on the TAGS Launcher. This will in turn show you a list of tags from your deploy.**\\xa0\\n\\n![Screenshot 2024-01-26 at 9.35.11 AM.png](https://tickets.dominodatalab.com/hc/article_attachments/23164968393620)\\n\\n**3\\\\. Look for the tag you need. You will have an option to use the search box on top as a filter.**\\xa0\\n\\n![Screenshot 2024-01-26 at 9.53.26 AM.png](https://tickets.dominodatalab.com/hc/article_attachments/23164968396052)\\n\\n![Screenshot 2024-01-26 at 9.59.10 AM.png](https://tickets.dominodatalab.com/hc/article_attachments/23164968396564)\\\\*\\\\*Note, the tag has 1 project associated with it. \\xa0\\n\\n4\\\\. Once you have the needed tag. You will now have the option to \"Edit or Delete\" it\\n\\n![Screenshot 2024-01-26 at 10.01.37 AM.png](https://tickets.dominodatalab.com/hc/article_attachments/23164946995604)\\n\\n\\\\*\\\\*I have now edited the tag changing the number at the end from 1 to 2. This tag automatically changes the tag on the project overview page and when you click on the tag itself![Screenshot 2024-01-26 at 10.04.04 AM.png](https://tickets.dominodatalab.com/hc/article_attachments/23164968400532).\\xa0\\n\\n![Screenshot 2024-01-26 at 10.04.46 AM.png](https://tickets.dominodatalab.com/hc/article_attachments/23164946999060)\\n\\n5\\\\. If you want to Delete the tag, just click on delete and it will open a prompt window similar to the one below. You will just need to confirm the deletion.\\xa0\\n\\n![Screenshot 2024-01-26 at 10.06.29 AM.png](https://tickets.dominodatalab.com/hc/article_attachments/23164946999700)\\n\\n\\\\*\\\\* NOTES\\\\*\\\\*\\n\\n[Setting Up Project Tags on Project Overview](https://tickets.dominodatalab.com/hc/en-us/articles/12386134833300-Setting-up-Project-Tags)\\n\\n### Recently viewed articles\\n\\n*   [Importing and Merging Tags](https://tickets.dominodatalab.com/hc/en-us/articles/23165339336596-Importing-and-Merging-Tags)\\n*   [Comparing Jobs/Workspaces in Domino versions 4.4 and above](https://tickets.dominodatalab.com/hc/en-us/articles/4418132091156-Comparing-Jobs-Workspaces-in-Domino-versions-4-4-and-above)\\n*   [How to exclude attachments from the Domino run notification emails](https://tickets.dominodatalab.com/hc/en-us/articles/6355197470868-How-to-exclude-attachments-from-the-Domino-run-notification-emails)\\n*   [Obtaining jobs support bundle logs on Domino version 4.x to 5.x](https://tickets.dominodatalab.com/hc/en-us/articles/9616394950292-Obtaining-jobs-support-bundle-logs-on-Domino-version-4-x-to-5-x)\\n*   [How to view the resource usage of workspaces, jobs, and apps](https://tickets.dominodatalab.com/hc/en-us/articles/14069749960852-How-to-view-the-resource-usage-of-workspaces-jobs-and-apps)\\n\\n### Related articles\\n\\n*   [Creating your own web API with a Plumber App](https://tickets.dominodatalab.com/hc/en-us/related/click?data=BAh7CjobZGVzdGluYXRpb25fYXJ0aWNsZV9pZGwrCJTAuSOeFDoYcmVmZXJyZXJfYXJ0aWNsZV9pZGwrCBSotoMRFToLbG9jYWxlSSIKZW4tdXMGOgZFVDoIdXJsSSJTL2hjL2VuLXVzL2FydGljbGVzLzIyNjY5NDM2NzY0MzA4LUNyZWF0aW5nLXlvdXItb3duLXdlYi1BUEktd2l0aC1hLVBsdW1iZXItQXBwBjsIVDoJcmFua2kG--544b8576b7d9767c34f4c321e15da12f18bd4907)\\n*   [Adding Project Tags Using Tags Launcher](https://tickets.dominodatalab.com/hc/en-us/related/click?data=BAh7CjobZGVzdGluYXRpb25fYXJ0aWNsZV9pZGwrCBSNTWMRFToYcmVmZXJyZXJfYXJ0aWNsZV9pZGwrCBSotoMRFToLbG9jYWxlSSIKZW4tdXMGOgZFVDoIdXJsSSJOL2hjL2VuLXVzL2FydGljbGVzLzIzMTY0NDI0NjU0MTAwLUFkZGluZy1Qcm9qZWN0LVRhZ3MtVXNpbmctVGFncy1MYXVuY2hlcgY7CFQ6CXJhbmtpBw%3D%3D--871fba8b740793ea434f2ad1fcaf5f90b1538b9e)'"
      ]
     },
     "execution_count": 5,
     "metadata": {},
     "output_type": "execute_result"
    }
   ],
   "source": [
    "import pandas as pd\n",
    "\n",
    "# Load the CSV dataset from Apify download\n",
    "data = pd.read_csv(\"/mnt/data/{}/raw_data/domino_help.csv\".format(os.environ['DOMINO_PROJECT_NAME']))\n",
    "\n",
    "# Extract the url and txt columns\n",
    "data = data[['url', 'markdown']]\n",
    "\n",
    "# Write the extracted data to a new file\n",
    "data.to_csv(\"/mnt/data/{}/raw_data/domino_help.csv\".format(os.environ['DOMINO_PROJECT_NAME']), index=False)\n",
    "\n",
    "import random\n",
    "\n",
    "i = random.randint(0,100)\n",
    "print(i)\n",
    "\n",
    "data['markdown'][i]"
   ]
  },
  {
   "cell_type": "markdown",
   "id": "f5ff0890-0c78-4777-a952-114eace00402",
   "metadata": {},
   "source": [
    "### Clean up help data\n",
    "\n",
    "The raw data from the crawler contains duplicate rows, links and other metadata that isn't needed."
   ]
  },
  {
   "cell_type": "code",
   "execution_count": 6,
   "id": "1137a51a-08ac-46e0-8a38-96e3983d9e23",
   "metadata": {},
   "outputs": [
    {
     "name": "stdout",
     "output_type": "stream",
     "text": [
      "Original shape: (1050, 2)\n",
      "Drop duplicate rows\n",
      "(664, 3)\n",
      "Filter for pages that contain help questions\n",
      "(208, 4)\n"
     ]
    },
    {
     "data": {
      "text/html": [
       "<div>\n",
       "<style scoped>\n",
       "    .dataframe tbody tr th:only-of-type {\n",
       "        vertical-align: middle;\n",
       "    }\n",
       "\n",
       "    .dataframe tbody tr th {\n",
       "        vertical-align: top;\n",
       "    }\n",
       "\n",
       "    .dataframe thead th {\n",
       "        text-align: right;\n",
       "    }\n",
       "</style>\n",
       "<table border=\"1\" class=\"dataframe\">\n",
       "  <thead>\n",
       "    <tr style=\"text-align: right;\">\n",
       "      <th></th>\n",
       "      <th>url</th>\n",
       "      <th>markdown</th>\n",
       "    </tr>\n",
       "  </thead>\n",
       "  <tbody>\n",
       "    <tr>\n",
       "      <th>0</th>\n",
       "      <td>https://tickets.dominodatalab.com/hc/en-us/search</td>\n",
       "      <td>... Some scheduled jobs and workspaces can in...</td>\n",
       "    </tr>\n",
       "    <tr>\n",
       "      <th>1</th>\n",
       "      <td>https://tickets.dominodatalab.com/hc/en-us/art...</td>\n",
       "      <td>**\\n\\nOn Git-based projects, when starting a n...</td>\n",
       "    </tr>\n",
       "    <tr>\n",
       "      <th>2</th>\n",
       "      <td>https://tickets.dominodatalab.com/hc/en-us/art...</td>\n",
       "      <td>**\\n\\nBefore Domino 5.3, GIT based projects do...</td>\n",
       "    </tr>\n",
       "    <tr>\n",
       "      <th>3</th>\n",
       "      <td>https://tickets.dominodatalab.com/hc/en-us/art...</td>\n",
       "      <td>**\\n\\nThe Admin &gt;&gt; Data &gt;&gt; Datasets page allow...</td>\n",
       "    </tr>\n",
       "    <tr>\n",
       "      <th>4</th>\n",
       "      <td>https://tickets.dominodatalab.com/hc/en-us/art...</td>\n",
       "      <td>** A common question from endusers is how they...</td>\n",
       "    </tr>\n",
       "  </tbody>\n",
       "</table>\n",
       "</div>"
      ],
      "text/plain": [
       "                                                 url  \\\n",
       "0  https://tickets.dominodatalab.com/hc/en-us/search   \n",
       "1  https://tickets.dominodatalab.com/hc/en-us/art...   \n",
       "2  https://tickets.dominodatalab.com/hc/en-us/art...   \n",
       "3  https://tickets.dominodatalab.com/hc/en-us/art...   \n",
       "4  https://tickets.dominodatalab.com/hc/en-us/art...   \n",
       "\n",
       "                                            markdown  \n",
       "0   ... Some scheduled jobs and workspaces can in...  \n",
       "1  **\\n\\nOn Git-based projects, when starting a n...  \n",
       "2  **\\n\\nBefore Domino 5.3, GIT based projects do...  \n",
       "3  **\\n\\nThe Admin >> Data >> Datasets page allow...  \n",
       "4  ** A common question from endusers is how they...  "
      ]
     },
     "execution_count": 6,
     "metadata": {},
     "output_type": "execute_result"
    }
   ],
   "source": [
    "data = pd.read_csv(\"/mnt/data/{}/raw_data/domino_help.csv\".format(os.environ['DOMINO_PROJECT_NAME']))\n",
    "\n",
    "print('Original shape: {}'.format(data.shape))\n",
    "print('Drop duplicate rows')\n",
    "\n",
    "data = data.drop_duplicates(subset='markdown').reset_index()\n",
    "\n",
    "print(data.shape)\n",
    "\n",
    "print('Filter for pages that contain help questions')\n",
    "\n",
    "def filter_rows(df, column, search_string):\n",
    "    filtered_df = df[df[column].str.contains(search_string)]\n",
    "    return(filtered_df)\n",
    "\n",
    "# Indicates page contains a question:\n",
    "search_string = 'Issue:'\n",
    "column = 'markdown'\n",
    "data = filter_rows(df=data, column=column, search_string=search_string).copy()\n",
    "data = data.reset_index()\n",
    "print(data.shape)\n",
    "\n",
    "# Extract only the question & answer\n",
    "data['markdown'] = data['markdown'].apply(lambda x : x.split('Issue:')[1])\n",
    "data['markdown'] = data['markdown'].apply(lambda x : x.split('Notes/Information')[0])\n",
    "data = data[['url', 'markdown']]\n",
    "\n",
    "\n",
    "data.to_csv(\"/mnt/data/{}/domino_help_clean.csv\".format(os.environ['DOMINO_PROJECT_NAME']), index=False)\n",
    "\n",
    "data.head()"
   ]
  },
  {
   "cell_type": "markdown",
   "id": "31f74e88-9ca3-444b-b023-b65d5f42886b",
   "metadata": {},
   "source": [
    "# Domino Docs"
   ]
  },
  {
   "cell_type": "code",
   "execution_count": null,
   "id": "1ad245bd-eb9a-41d2-83bb-f45848dd3af0",
   "metadata": {},
   "outputs": [],
   "source": [
    "import os\n",
    "import pandas as pd\n",
    "\n",
    "from langchain.docstore.document import Document\n",
    "from langchain.indexes import VectorstoreIndexCreator\n",
    "from langchain_community.utilities import ApifyWrapper"
   ]
  },
  {
   "cell_type": "code",
   "execution_count": null,
   "id": "a66bcf35-1363-44a0-8a6c-93d5f5987385",
   "metadata": {},
   "outputs": [],
   "source": [
    "# Scrape a website\n",
    "\n",
    "# apify = ApifyWrapper()\n",
    "\n",
    "# # Call the Actor to obtain text from the crawled webpages\n",
    "\n",
    "# start_url = 'https://docs.dominodatalab.com/en/latest/user_guide/'\n",
    "\n",
    "# loader = apify.call_actor(\n",
    "#     actor_id=\"apify/website-content-crawler\",\n",
    "#     run_input={\n",
    "#         \"startUrls\": [{\"url\": start_url}],\n",
    "#         \"max_items\": 10\n",
    "#     },\n",
    "#     dataset_mapping_function=lambda item: Document(\n",
    "#         page_content=item[\"text\"] or \"\", metadata={\"source\": item[\"url\"]}\n",
    "#     ),\n",
    "# )"
   ]
  },
  {
   "cell_type": "markdown",
   "id": "9532f18b-4ca8-4e70-8372-f4c93208c89c",
   "metadata": {},
   "source": [
    "Download your raw scraped csv file and upload it to a Domino Dataset.\n",
    "\n",
    "Some data prep and cleaning can help RAG app performance."
   ]
  },
  {
   "cell_type": "code",
   "execution_count": 7,
   "id": "d8229846-1fd7-4f44-ab84-84f776d3706a",
   "metadata": {},
   "outputs": [
    {
     "name": "stdout",
     "output_type": "stream",
     "text": [
      "24\n"
     ]
    },
    {
     "data": {
      "text/plain": [
       "'Domino Environments (or Compute Environments) are central to streamlining processes across Projects and teams. Domino manages Environments in a way that is unique to the MLOps, generative AI, and data science lifecycles.\\n\\nEnvironments are an abstraction of a Docker image. All units of execution in Domino (Workspaces, Runs, Apps, Models, etc.) create an isolated Docker container based on an Environment you define. This facilitates experimentation and customization by analytical professionals within a self-contained space that is versioned, shareable, deployable, and discoverable. Much of the reproducibility and collaboration of Domino relies on the core features found in Domino Environments.\\n\\n## The basics of Environments[](#_the_basics_of_environments)\\n\\nYou can create Environments, use Environments provided by Domino, or edit existing Environments. Examples of when you might create or modify an Environment are when:\\n\\n*   You must install a package for Python, R, Octave, or some other software dependency.\\n    \\n*   You want to cache a package or library so that it’s immediately available when you start a run.\\n    \\n*   You manage an organization and want to create a default Environment for all projects.\\n    \\n\\nDomino’s Standard Compute Environments are the Domino Standard Environment (DSE) and Domino Minimal Environment (DME). Domino Standard Environments are available with standard sets of libraries and packages. The DME has fewer packages and is lighter weight. Domino also has Cluster Environments that work like a DSE, but support specific types of clusters with cluster-related tools. These are smaller, simpler Environments and are only suitable for use in the worker nodes of the cluster. DSEs cannot be used for worker nodes in a cluster.\\n\\n## See all the Environments to which you have access[](#_see_all_the_environments_to_which_you_have_access)\\n\\n1.  In the navigation pane of the Lab, click **Environments**.\\n    \\n    ![Environments overview](https://docs.dominodatalab.com/images/4.x/environments-overview.png)\\n    \\n    In the table, you can see:\\n    \\n    *   Your deployment’s global Environments.\\n        \\n    *   Environments used by Projects in which you are a [collaborator](https://docs.dominodatalab.com/en/latest/user_guide/d7731d/share-and-collaborate/).\\n        \\n    *   Environments shared with [organizations](https://docs.dominodatalab.com/en/latest/user_guide/526a62/organizations/) to which you belong.\\n        \\n    \\n2.  Click an Environment to see its details.\\n    \\n    Overview tab\\n    \\n    The Overview tab lists all metadata about your Environment. Click [Edit Definition](https://docs.dominodatalab.com/en/latest/user_guide/5dd2c1/edit-environment-definition/) to make changes. After every save, your Environment’s revision number increments by one, and your Domino deployment rebuilds the Environment and pushes it to the local Docker registry.\\n    \\n    Revisions tab\\n    \\n    Each time you edit an Environment, you create a new revision. The latest successfully built revision becomes Active by default. New workspaces will launch with this Active Environment revision. The Revisions tab lists all revisions of your compute Environment, along with each revision’s build status, timestamp, and docker image URI. Click the three vertical dots to reveal additional options, such as viewing build logs or canceling builds.\\n    \\n    Projects and Models tabs\\n    \\n    Projects and Models are listed on their own tabs after they have been assigned an Environment.'"
      ]
     },
     "execution_count": 7,
     "metadata": {},
     "output_type": "execute_result"
    }
   ],
   "source": [
    "import pandas as pd\n",
    "\n",
    "# Load the CSV dataset\n",
    "docs = pd.read_csv(\"/mnt/data/{}/raw_data/domino_docs.csv\".format(os.environ['DOMINO_PROJECT_NAME']))\n",
    "\n",
    "# Extract the url and txt columns\n",
    "docs = docs[['url', 'markdown']]\n",
    "\n",
    "# Write the extracted data to a new file called help.csv\n",
    "docs.to_csv(\"/mnt/data/{}/raw_data/domino_docs.csv\".format(os.environ['DOMINO_PROJECT_NAME']), index=False)\n",
    "\n",
    "import random\n",
    "\n",
    "i = random.randint(0,100)\n",
    "print(i)\n",
    "\n",
    "docs['markdown'][i]"
   ]
  },
  {
   "cell_type": "code",
   "execution_count": 8,
   "id": "e2b1aba6-d2c3-40d4-971c-cc58dcfc08f0",
   "metadata": {},
   "outputs": [
    {
     "name": "stdout",
     "output_type": "stream",
     "text": [
      "Original shape: (383, 2)\n",
      "Drop duplicate rows\n",
      "(383, 3)\n",
      "Filter for pages that containe help questions\n"
     ]
    },
    {
     "data": {
      "text/html": [
       "<div>\n",
       "<style scoped>\n",
       "    .dataframe tbody tr th:only-of-type {\n",
       "        vertical-align: middle;\n",
       "    }\n",
       "\n",
       "    .dataframe tbody tr th {\n",
       "        vertical-align: top;\n",
       "    }\n",
       "\n",
       "    .dataframe thead th {\n",
       "        text-align: right;\n",
       "    }\n",
       "</style>\n",
       "<table border=\"1\" class=\"dataframe\">\n",
       "  <thead>\n",
       "    <tr style=\"text-align: right;\">\n",
       "      <th></th>\n",
       "      <th>url</th>\n",
       "      <th>markdown</th>\n",
       "    </tr>\n",
       "  </thead>\n",
       "  <tbody>\n",
       "    <tr>\n",
       "      <th>0</th>\n",
       "      <td>https://docs.dominodatalab.com/en/latest/user_...</td>\n",
       "      <td>Page not foundLet's search!</td>\n",
       "    </tr>\n",
       "    <tr>\n",
       "      <th>1</th>\n",
       "      <td>https://docs.dominodatalab.com/en/latest/user_...</td>\n",
       "      <td>## User guide\\n\\nDomino is a data science plat...</td>\n",
       "    </tr>\n",
       "    <tr>\n",
       "      <th>2</th>\n",
       "      <td>https://docs.dominodatalab.com/en/latest/user_...</td>\n",
       "      <td>## Troubleshooting guidelines for users\\n\\n[Tr...</td>\n",
       "    </tr>\n",
       "    <tr>\n",
       "      <th>3</th>\n",
       "      <td>https://docs.dominodatalab.com/en/latest/user_...</td>\n",
       "      <td>About Domino\\n\\n[Domino Data Lab](https://domi...</td>\n",
       "    </tr>\n",
       "    <tr>\n",
       "      <th>4</th>\n",
       "      <td>https://docs.dominodatalab.com/en/latest/user_...</td>\n",
       "      <td>## Get Domino version\\n\\nTo see the Domino ver...</td>\n",
       "    </tr>\n",
       "  </tbody>\n",
       "</table>\n",
       "</div>"
      ],
      "text/plain": [
       "                                                 url  \\\n",
       "0  https://docs.dominodatalab.com/en/latest/user_...   \n",
       "1  https://docs.dominodatalab.com/en/latest/user_...   \n",
       "2  https://docs.dominodatalab.com/en/latest/user_...   \n",
       "3  https://docs.dominodatalab.com/en/latest/user_...   \n",
       "4  https://docs.dominodatalab.com/en/latest/user_...   \n",
       "\n",
       "                                            markdown  \n",
       "0                        Page not foundLet's search!  \n",
       "1  ## User guide\\n\\nDomino is a data science plat...  \n",
       "2  ## Troubleshooting guidelines for users\\n\\n[Tr...  \n",
       "3  About Domino\\n\\n[Domino Data Lab](https://domi...  \n",
       "4  ## Get Domino version\\n\\nTo see the Domino ver...  "
      ]
     },
     "execution_count": 8,
     "metadata": {},
     "output_type": "execute_result"
    }
   ],
   "source": [
    "docs = pd.read_csv(\"/mnt/data/{}/raw_data/domino_docs.csv\".format(os.environ['DOMINO_PROJECT_NAME']))\n",
    "\n",
    "print('Original shape: {}'.format(docs.shape))\n",
    "print('Drop duplicate rows')\n",
    "\n",
    "docs = docs.drop_duplicates(subset='markdown').reset_index()\n",
    "\n",
    "print(docs.shape)\n",
    "\n",
    "print('Filter for pages that containe help questions')\n",
    "\n",
    "def filter_rows(df, column, search_string):\n",
    "    filtered_df = df[df[column].str.contains(search_string)]\n",
    "    return(filtered_df)\n",
    "\n",
    "docs = docs[['url', 'markdown']]\n",
    "\n",
    "\n",
    "docs.to_csv(\"/mnt/data/{}/domino_docs_clean.csv\".format(os.environ['DOMINO_PROJECT_NAME']), index=False)\n",
    "\n",
    "docs.head()"
   ]
  }
 ],
 "metadata": {
  "kernelspec": {
   "display_name": "Python 3 (ipykernel)",
   "language": "python",
   "name": "python3"
  },
  "language_info": {
   "codemirror_mode": {
    "name": "ipython",
    "version": 3
   },
   "file_extension": ".py",
   "mimetype": "text/x-python",
   "name": "python",
   "nbconvert_exporter": "python",
   "pygments_lexer": "ipython3",
   "version": "3.9.18"
  }
 },
 "nbformat": 4,
 "nbformat_minor": 5
}
