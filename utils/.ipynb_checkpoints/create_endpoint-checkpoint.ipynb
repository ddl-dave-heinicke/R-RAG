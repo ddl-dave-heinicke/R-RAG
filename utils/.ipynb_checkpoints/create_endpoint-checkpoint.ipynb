{
 "cells": [
  {
   "cell_type": "code",
   "execution_count": 1,
   "id": "fe07e360-2abe-4cc2-a816-3788e5d2f610",
   "metadata": {
    "tags": []
   },
   "outputs": [
    {
     "name": "stdout",
     "output_type": "stream",
     "text": [
      "{\"requestId\":\"6d6398a6-a064-4c08-a440-01b369fe0a25\",\"errors\":[\"domino.authz.NotAuthorizedException: Not authorized: AuthenticatedPrincipal(DominoUser(64de69ca1e0439693c1866b6,dave_heinicke),DominoUserInfoToken(64de69ca1e0439693c1866b6,a5d5bd4e-f839-4fd5-9b5c-a4ff07d24682,dave_heinicke,dave.heinicke@dominodatalab.com,Dave,Heinicke,Set(RoleGroupId(Practitioner), RoleGroupId(CloudAdmin)))) is not authorized to perform this action. Not authorized to manage gateway endpoints\"]}\n"
     ]
    }
   ],
   "source": [
    "import os\n",
    "import requests\n",
    "import json\n",
    "\n",
    "\n",
    "domino_user_api_key = os.environ.get('DOMINO_USER_API_KEY')\n",
    "openai_api_key = os.environ.get('OPENAI_API_KEY')\n",
    "\n",
    "# The deployment URL\n",
    "deployment_url = 'https://se-demo.domino.tech/api/aigateway/v1/endpoints'\n",
    "\n",
    "# The data payload for the POST request\n",
    "data = {\n",
    "    \"endpointName\": \"Chat-gpt35turbo-se\",\n",
    "    \"endpointType\": \"llm/v1/chat\",\n",
    "    \"endpointPermissions\": {\"isEveryoneAllowed\": True, \"userIds\": []},\n",
    "    \"modelProvider\": \"openai\",\n",
    "    \"modelName\": \"gpt-3.5-turbo\",\n",
    "    \"modelConfig\": {\"openai_api_key\": openai_api_key}\n",
    "}\n",
    "\n",
    "\n",
    "# The headers for the POST request\n",
    "headers = {\n",
    "    \"X-Domino-Api-Key\": domino_user_api_key,\n",
    "    \"Content-Type\": \"application/json\"\n",
    "}\n",
    "\n",
    "# Making the POST request\n",
    "response = requests.post(deployment_url, data=json.dumps(data), headers=headers)\n",
    "\n",
    "# Printing the response\n",
    "print(response.text)\n",
    "\n"
   ]
  },
  {
   "cell_type": "code",
   "execution_count": 19,
   "id": "dc64a524-aac2-47f0-9c72-c77a518b15fb",
   "metadata": {
    "tags": []
   },
   "outputs": [
    {
     "name": "stdout",
     "output_type": "stream",
     "text": [
      "\n"
     ]
    }
   ],
   "source": [
    "# The deployment URL and the specific endpoint name you want to delete\n",
    "endpoint_name = \"chat-gpt35turbo-sm\"\n",
    "deployment_url = f'https://se-demo.domino.tech/api/aigateway/v1/endpoints/{endpoint_name}'\n",
    "\n",
    "# The headers for the DELETE request\n",
    "headers = {\n",
    "    \"X-Domino-Api-Key\": domino_user_api_key,\n",
    "}\n",
    "\n",
    "# Making the DELETE request\n",
    "response = requests.delete(deployment_url, headers=headers)\n",
    "\n",
    "# Printing the response to verify the endpoint has been deleted\n",
    "print(response.text)\n"
   ]
  },
  {
   "cell_type": "code",
   "execution_count": null,
   "id": "a7823868-69e7-45b9-8c6e-28a0e4b3f1ac",
   "metadata": {},
   "outputs": [],
   "source": []
  }
 ],
 "metadata": {
  "kernelspec": {
   "display_name": "Python 3 (ipykernel)",
   "language": "python",
   "name": "python3"
  },
  "language_info": {
   "codemirror_mode": {
    "name": "ipython",
    "version": 3
   },
   "file_extension": ".py",
   "mimetype": "text/x-python",
   "name": "python",
   "nbconvert_exporter": "python",
   "pygments_lexer": "ipython3",
   "version": "3.9.18"
  }
 },
 "nbformat": 4,
 "nbformat_minor": 5
}
