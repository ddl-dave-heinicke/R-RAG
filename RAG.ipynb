{
 "cells": [
  {
   "cell_type": "code",
   "execution_count": 2,
   "id": "aef11e3b-eb7f-439c-9408-4c0e9f30ae91",
   "metadata": {},
   "outputs": [],
   "source": [
    "from langchain.schema import HumanMessage, SystemMessage\n",
    "from langchain.chains import ConversationChain\n",
    "from langchain_community.vectorstores import Qdrant\n",
    "from langchain.memory import ConversationSummaryMemory\n",
    "from langchain.embeddings import HuggingFaceBgeEmbeddings\n",
    "\n",
    "from langchain_openai import ChatOpenAI\n",
    "from langchain_anthropic import ChatAnthropic\n",
    "from langchain import PromptTemplate\n",
    "\n",
    "import qdrant_client\n",
    "import os"
   ]
  },
  {
   "cell_type": "code",
   "execution_count": 3,
   "id": "ef1d650a-cdc2-460e-8cac-7760acd8bee3",
   "metadata": {},
   "outputs": [],
   "source": [
    "qdrant_key = os.environ.get(\"QDRANT_KEY\")\n",
    "qdrant_url = \"https://59f8f159-fb60-44e8-bfc4-9f35c77ca8d4.us-east4-0.gcp.cloud.qdrant.io:6333\"\n",
    "\n",
    "# Load the embedding model\n",
    "model_kwargs = {'device': 'cpu'}\n",
    "encode_kwargs = {'normalize_embeddings': True}\n",
    "embedding_model_name = \"BAAI/bge-small-en\"\n",
    "os.environ['SENTENCE_TRANSFORMERS_HOME'] = '/mnt/code/model_cache/'\n",
    "embeddings = HuggingFaceBgeEmbeddings(model_name=embedding_model_name,\n",
    "                                      model_kwargs=model_kwargs,\n",
    "                                      encode_kwargs=encode_kwargs\n",
    "                                     )\n",
    "\n",
    "client = qdrant_client.QdrantClient(\n",
    "    qdrant_url,\n",
    "    api_key=qdrant_key,\n",
    ")\n",
    "\n",
    "doc_store = Qdrant(\n",
    "    client=client, collection_name=\"rakuten\", \n",
    "    embeddings=embeddings,\n",
    ")"
   ]
  },
  {
   "cell_type": "code",
   "execution_count": 4,
   "id": "55f8dcc5-90ba-46ae-8681-1439fba17194",
   "metadata": {},
   "outputs": [],
   "source": [
    "conversation_openai = ConversationChain(\n",
    "        # llm=ChatOpenAI(model='gpt-3.5-turbo-0613'),\n",
    "        llm=ChatOpenAI(model='gpt-3.5-turbo'),\n",
    "        memory=ConversationSummaryMemory(llm=ChatOpenAI(model='gpt-3.5-turbo-0613')),\n",
    "        verbose=False, \n",
    "    )\n",
    "\n",
    "conversation_anthropic = ConversationChain(\n",
    "        llm=ChatAnthropic(model='claude-2.1'),\n",
    "        memory=ConversationSummaryMemory(llm=ChatAnthropic(model='claude-2.1')),\n",
    "        verbose=False\n",
    "    )\n",
    "\n",
    "messages = [\n",
    "    {\"role\": \"assistant\", \"content\": \"How can I help you today?\"}\n",
    "]"
   ]
  },
  {
   "cell_type": "code",
   "execution_count": 5,
   "id": "54b7be2c-14ee-4cba-a0bd-c73c5bc43539",
   "metadata": {},
   "outputs": [],
   "source": [
    "# Get relevant docs through vector DB\n",
    "\n",
    "SIMILARITY_THRESHOLD = 0.83\n",
    "\n",
    "# Create prompt\n",
    "template = \"\"\" You are a virtual assistant for Rakuten and your task is to answer questions related to Rakuten which includes general information about Rakuten.\n",
    "\n",
    "                Respond in the style of a polite helpful assistant and do not allude that you have looked up the context.\n",
    "\n",
    "                Do not hallucinate. If you don't find an answer, you can point user to the official website here: https://www.rakuten.com/help . \n",
    "\n",
    "                In your response, include the following url links at the end of your response {url_links} and any other relevant URL links that you refered.\n",
    "\n",
    "                Also, at the end of your response, ask if your response was helpful\". \n",
    "\n",
    "                Here is some relevant context: {context}\"\"\"\n",
    "\n",
    "\n",
    "def get_relevant_docs(user_input):\n",
    " \n",
    "    relevant_docs = doc_store.similarity_search_with_score(user_input, k=3)\n",
    "    urls = [result[0].metadata['source'] for result in relevant_docs if result[1] > SIMILARITY_THRESHOLD]\n",
    "    contexts = [result[0].page_content for result in relevant_docs if result[1] > SIMILARITY_THRESHOLD]\n",
    " \n",
    "    return urls, contexts\n",
    " \n",
    " \n",
    "def build_system_prompt(user_input):\n",
    " \n",
    "    urls, contexts = get_relevant_docs(user_input)\n",
    "    \n",
    "    prompt_template = PromptTemplate(\n",
    "        input_variables=[\"url_links\", \"context\"],\n",
    "        template=template\n",
    "    )\n",
    "    system_prompt = prompt_template.format(url_links=urls, context=contexts)\n",
    " \n",
    "    return system_prompt, urls, contexts\n",
    " \n",
    "# Query the AI Model\n",
    "def queryAIModel(user_input, llm=\"openai\", return_chain=True):\n",
    " \n",
    "    if llm.lower==\"anthropic\":\n",
    "        conversation = conversation_anthropic\n",
    "    else:\n",
    "        conversation = conversation_openai\n",
    "        \n",
    "    if return_chain:\n",
    "        return conversation\n",
    "    \n",
    "    system_prompt, _, _ = build_system_prompt(user_input)   \n",
    "    \n",
    "    messages = [\n",
    "        SystemMessage(\n",
    "            content=system_prompt\n",
    "        ),\n",
    "        HumanMessage(\n",
    "            content=user_input\n",
    "        ),\n",
    "    ]\n",
    "    output = conversation.predict(input=messages)\n",
    " \n",
    "    return output"
   ]
  },
  {
   "cell_type": "code",
   "execution_count": 7,
   "id": "723cb464-dd65-4640-813f-bbf1048d64ab",
   "metadata": {},
   "outputs": [
    {
     "name": "stdin",
     "output_type": "stream",
     "text": [
      "Please provide your question here : gift\n"
     ]
    },
    {
     "name": "stderr",
     "output_type": "stream",
     "text": [
      "huggingface/tokenizers: The current process just got forked, after parallelism has already been used. Disabling parallelism to avoid deadlocks...\n",
      "To disable this warning, you can either:\n",
      "\t- Avoid using `tokenizers` before the fork if possible\n",
      "\t- Explicitly set the environment variable TOKENIZERS_PARALLELISM=(true | false)\n"
     ]
    }
   ],
   "source": [
    "# Ask a question\n",
    "# user_question = input(\"Please provide your question here :\")\n",
    "# result = queryAIModel(user_question, return_chain=False)"
   ]
  },
  {
   "cell_type": "code",
   "execution_count": 8,
   "id": "c6cff40d-fd36-4682-a752-282b82f7592f",
   "metadata": {},
   "outputs": [
    {
     "data": {
      "text/plain": [
       "\"Hello! How can I assist you with information about Rakuten today? If you have any questions about the Rakuten Gift Card Shop, I'd be happy to help. Here is a link to the terms of sale for the Rakuten Gift Card Shop: [Rakuten Gift Card Shop Terms of Sale](https://www.rakuten.com/help/article/rakuten-gift-card-shop-terms-of-sale-360052462534). Additionally, feel free to explore more general information about Rakuten on their official website [here](https://www.rakuten.com/help/article/). If you are interested in donating part of your Big Fat Check to Cash Back for Change, you can find more details at this link: [Donate to Cash Back for Change](https://www.rakuten.com/help/article/donating-part-of-your-big-fat-check-to-cash-back-for-change-360058672214). Was this information helpful to you?\""
      ]
     },
     "execution_count": 8,
     "metadata": {},
     "output_type": "execute_result"
    }
   ],
   "source": [
    "result"
   ]
  },
  {
   "cell_type": "code",
   "execution_count": null,
   "id": "a1f8adfc-4f74-4915-b942-e3d271c8532c",
   "metadata": {},
   "outputs": [],
   "source": []
  }
 ],
 "metadata": {
  "kernelspec": {
   "display_name": "Python 3 (ipykernel)",
   "language": "python",
   "name": "python3"
  },
  "language_info": {
   "codemirror_mode": {
    "name": "ipython",
    "version": 3
   },
   "file_extension": ".py",
   "mimetype": "text/x-python",
   "name": "python",
   "nbconvert_exporter": "python",
   "pygments_lexer": "ipython3",
   "version": "3.9.18"
  }
 },
 "nbformat": 4,
 "nbformat_minor": 5
}
