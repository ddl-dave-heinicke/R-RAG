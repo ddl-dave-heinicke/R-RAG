{
 "cells": [
  {
   "cell_type": "code",
   "execution_count": 11,
   "id": "aef11e3b-eb7f-439c-9408-4c0e9f30ae91",
   "metadata": {},
   "outputs": [],
   "source": [
    "from langchain.schema import HumanMessage, SystemMessage\n",
    "from langchain.chains import ConversationChain\n",
    "from langchain_community.vectorstores import Qdrant\n",
    "from langchain.memory import ConversationSummaryMemory\n",
    "from langchain.embeddings import HuggingFaceBgeEmbeddings\n",
    "from langchain_experimental.data_anonymizer import PresidioReversibleAnonymizer\n",
    "from langchain_openai import ChatOpenAI\n",
    "from langchain_anthropic import ChatAnthropic\n",
    "\n",
    "import qdrant_client\n",
    "import os"
   ]
  },
  {
   "cell_type": "code",
   "execution_count": 3,
   "id": "3849bda8-096e-45e9-892c-fd4d64e4d7a8",
   "metadata": {},
   "outputs": [],
   "source": [
    "anonymizer = PresidioReversibleAnonymizer(\n",
    "    add_default_faker_operators=False,\n",
    "    analyzed_fields=[\"LOCATION\",\"PHONE_NUMBER\",\"US_SSN\", \"IBAN_CODE\", \"CREDIT_CARD\", \"CRYPTO\", \"IP_ADDRESS\",\n",
    "                    \"MEDICAL_LICENSE\", \"URL\", \"US_BANK_NUMBER\", \"US_DRIVER_LICENSE\", \"US_ITIN\", \"US_PASSPORT\"]\n",
    ")\n",
    "\n",
    "def anonymize(input_text):\n",
    "    if input_text:\n",
    "        return anonymizer.anonymize(document_content)"
   ]
  },
  {
   "cell_type": "code",
   "execution_count": null,
   "id": "b6307bcc-0f99-4b19-8ca3-221ec7bf0f46",
   "metadata": {},
   "outputs": [],
   "source": [
    "def get_rag_llm(model_name=\"openai\"):\n",
    "    if model_name.lower()==\"anthropic\":\n",
    "        return ChatAnthropic(model='claude-2.1')\n",
    "    else:\n",
    "        return ChatOpenAI(model='gpt-3.5-turbo-0613')"
   ]
  },
  {
   "cell_type": "code",
   "execution_count": 9,
   "id": "ef1d650a-cdc2-460e-8cac-7760acd8bee3",
   "metadata": {},
   "outputs": [],
   "source": [
    "qdrant_key = os.environ.get(\"QDRANT_KEY\")\n",
    "qdrant_url = \"https://59f8f159-fb60-44e8-bfc4-9f35c77ca8d4.us-east4-0.gcp.cloud.qdrant.io:6333\"\n",
    "\n",
    "# Load the embedding model\n",
    "model_kwargs = {'device': 'cpu'}\n",
    "encode_kwargs = {'normalize_embeddings': True}\n",
    "embedding_model_name = \"BAAI/bge-small-en\"\n",
    "os.environ['SENTENCE_TRANSFORMERS_HOME'] = '/mnt/code/model_cache/'\n",
    "embeddings = HuggingFaceBgeEmbeddings(model_name=embedding_model_name,\n",
    "                                      model_kwargs=model_kwargs,\n",
    "                                      encode_kwargs=encode_kwargs\n",
    "                                     )\n",
    "\n",
    "client = qdrant_client.QdrantClient(\n",
    "    qdrant_url,\n",
    "    api_key=qdrant_key,\n",
    ")\n",
    "\n",
    "doc_store = Qdrant(\n",
    "    client=client, collection_name=\"rakuten\", \n",
    "    embeddings=embeddings,\n",
    ")"
   ]
  },
  {
   "cell_type": "code",
   "execution_count": 12,
   "id": "55f8dcc5-90ba-46ae-8681-1439fba17194",
   "metadata": {},
   "outputs": [],
   "source": [
    "rag_llm = ChatOpenAI(temperature=0, \n",
    "                     model='gpt-3.5-turbo-0613')\n",
    "\n",
    "conversation = ConversationChain(\n",
    "        llm=rag_llm,\n",
    "        memory=ConversationSummaryMemory(llm=rag_llm),\n",
    "        verbose=False\n",
    "    )\n",
    "\n",
    "messages = [\n",
    "    {\"role\": \"assistant\", \"content\": \"How can I help you today?\"}\n",
    "]"
   ]
  },
  {
   "cell_type": "code",
   "execution_count": 13,
   "id": "54b7be2c-14ee-4cba-a0bd-c73c5bc43539",
   "metadata": {},
   "outputs": [],
   "source": [
    "# Get relevant docs through vector DB\n",
    "\n",
    "SIMILARITY_THRESHOLD = 0.83\n",
    "\n",
    "# Create prompt\n",
    "template = \"\"\" You are a virtual assistant for Rakuten and your task is to answer questions related to Rakuten which includes general information about Rakuten.\n",
    "\n",
    "                Respond in the style of a polite helpful assistant and do not allude that you have looked up the context.\n",
    "\n",
    "                Do not hallucinate. If you don't find an answer, you can point user to the official website here: https://www.rakuten.com/help . \n",
    "\n",
    "                In your response, include the following url links at the end of your response {url_links} and any other relevant URL links that you refered.\n",
    "\n",
    "                Also, at the end of your response, ask if your response was helpful\". \n",
    "\n",
    "                Here is some relevant context: {context}\"\"\"\n",
    "\n",
    "\n",
    "def get_relevant_docs(user_input):\n",
    " \n",
    "    relevant_docs = doc_store.similarity_search_with_score(user_input)\n",
    "    urls = [result[0].metadata['source'] for result in relevant_docs if result[1] > SIMILARITY_THRESHOLD]\n",
    "    contexts = [result[0].page_content for result in relevant_docs if result[1] > SIMILARITY_THRESHOLD]\n",
    " \n",
    "    return urls, contexts\n",
    " \n",
    " \n",
    "def build_system_prompt(user_input):\n",
    " \n",
    "    urls, contexts = get_relevant_docs(user_input)\n",
    "    \n",
    "    prompt_template = PromptTemplate(\n",
    "        input_variables=[\"url_links\", \"context\"],\n",
    "        template=template\n",
    "    )\n",
    "    system_prompt = prompt_template.format( url_links=urls, context=contexts)\n",
    " \n",
    "    return system_prompt\n",
    " \n",
    "# Query the Open AI Model\n",
    "def queryAIModel(user_input):\n",
    " \n",
    "    system_prompt = build_system_prompt(user_input)            \n",
    "    messages = [\n",
    "        SystemMessage(\n",
    "            content=system_prompt\n",
    "        ),\n",
    "        HumanMessage(\n",
    "            content=user_input\n",
    "        ),\n",
    "    ]\n",
    "    \n",
    "    output = conversation.predict(input=messages)\n",
    " \n",
    "    return output"
   ]
  },
  {
   "cell_type": "code",
   "execution_count": null,
   "id": "802f7737-6e6d-42f4-8f2b-8320c135435e",
   "metadata": {},
   "outputs": [],
   "source": [
    "# Ask a question\n",
    "user_question = input(\"Please provide your question here :\")\n",
    "messages.append({\"role\": \"user\", \"content\": user_question})\n",
    "result = queryAIModel(anonymize(user_question))\n",
    "result"
   ]
  },
  {
   "cell_type": "code",
   "execution_count": null,
   "id": "ed084baa-d7d6-4f5c-bf28-485214c630a7",
   "metadata": {},
   "outputs": [],
   "source": [
    "# Looks good lets push the prompt to a prompt hub\n",
    "# set LANGCHAIN_HUB_API_KEY in an env variable\n",
    "hub.push(\"subirmansukhani/rakuten-qa-rag\", ChatPromptTemplate.from_template(template), new_repo_is_public=False)"
   ]
  },
  {
   "cell_type": "code",
   "execution_count": null,
   "id": "09320912-efbf-4b35-a680-223581fe1874",
   "metadata": {},
   "outputs": [],
   "source": [
    "# Lets take a look at the prompt hub\n",
    "\n",
    "from IPython.display import Javascript, display\n",
    "\n",
    "# Define the URL you want to open\n",
    "url = 'https://smith.langchain.com/hub/my-prompts?organizationId=6ac11f6f-c332-4bac-b45b-28a8a96410b4'\n",
    "\n",
    "# JavaScript code to open a new tab with the specified URL and display it in the cell's output area\n",
    "js_code = f'''\n",
    "var newWindow = window.open(\"{url}\");\n",
    "element.append(newWindow.document.body);\n",
    "'''\n",
    "\n",
    "# Display the JavaScript output in the cell's output area\n",
    "display(Javascript(js_code))"
   ]
  }
 ],
 "metadata": {
  "kernelspec": {
   "display_name": "Python 3 (ipykernel)",
   "language": "python",
   "name": "python3"
  },
  "language_info": {
   "codemirror_mode": {
    "name": "ipython",
    "version": 3
   },
   "file_extension": ".py",
   "mimetype": "text/x-python",
   "name": "python",
   "nbconvert_exporter": "python",
   "pygments_lexer": "ipython3",
   "version": "3.9.18"
  }
 },
 "nbformat": 4,
 "nbformat_minor": 5
}
