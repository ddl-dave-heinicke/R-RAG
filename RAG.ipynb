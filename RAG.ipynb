{
 "cells": [
  {
   "cell_type": "code",
   "execution_count": null,
   "id": "c96b09a2-a286-4065-b4b1-d08cb8464cea",
   "metadata": {},
   "outputs": [],
   "source": [
    "! pip install qdrant-client"
   ]
  },
  {
   "cell_type": "code",
   "execution_count": 146,
   "id": "aef11e3b-eb7f-439c-9408-4c0e9f30ae91",
   "metadata": {},
   "outputs": [],
   "source": [
    "from langchain_community.document_loaders.csv_loader import CSVLoader\n",
    "from langchain.text_splitter import RecursiveCharacterTextSplitter\n",
    "from langchain.embeddings import HuggingFaceBgeEmbeddings\n",
    "from langchain.vectorstores import Qdrant\n",
    "from langchain.schema import HumanMessage, SystemMessage\n",
    "from langchain.chains import ConversationChain\n",
    "from langchain.memory import ConversationSummaryMemory"
   ]
  },
  {
   "cell_type": "code",
   "execution_count": null,
   "id": "204d7378-0ea6-4633-9daa-2862d5a14959",
   "metadata": {},
   "outputs": [],
   "source": [
    "loader = CSVLoader(file_path=\"clean_help.csv\", source_column=\"url\")\n",
    "\n",
    "data = loader.load()"
   ]
  },
  {
   "cell_type": "code",
   "execution_count": 76,
   "id": "7290b4c4-aad5-4e5f-8a3b-894d76e14598",
   "metadata": {},
   "outputs": [],
   "source": [
    "article_texts = []\n",
    "chunk_size = 5000\n",
    "chunk_overlap = 0\n",
    "strip_whitespace = True\n",
    "\n",
    "article_text = loader.load_and_split(\n",
    "        RecursiveCharacterTextSplitter(\n",
    "            chunk_size=chunk_size, \n",
    "            chunk_overlap=chunk_overlap, \n",
    "            strip_whitespace=strip_whitespace\n",
    "        )\n",
    "    )\n",
    "    \n",
    "# refine texts\n",
    "for chunk in article_text:\n",
    "    # index of documentation path \n",
    "    path_idx = chunk.page_content.find(\"\\n\")\n",
    "    chunk.page_content = chunk.page_content[path_idx + 1:]\n",
    "        \n",
    "article_texts.append(article_text)"
   ]
  },
  {
   "cell_type": "code",
   "execution_count": 77,
   "id": "21afdbb3-8169-4649-baa3-4053bfa9a57c",
   "metadata": {},
   "outputs": [
    {
     "data": {
      "text/plain": [
       "'text: How Do We Make Money? Our business is based on a simple idea: When you follow our links to visit a store, that store pays us a commission on whatever you buy during your visit. We then share that commission with you, our members, as Cash Back. In other words, retailers pay to partner with us because we send shoppers to their websites or brick-and-mortar stores. They may also pay us to help grow their brand. That means we might feature them on our website, in emails, etc. Because of these partnerships, members like you benefit by earning Cash Back and getting great offers. To sum it up, we help retailers succeed and, at the same time, help our members save money. What does it mean when Rakuten states that a cash back percentage \"was\" a certain amount? Stores pay us a commission for sending our members to their websites, and we share it with you as cash back. When a store joins Rakuten, we set a cash back percentage for that store (a \"base cash back percentage\"). We work with our merchant partners to offer increased cash back from time to time to our members. An increased cash back percentage is often promoted alongside a \"was %\". The \"was %\" describes the \"base cash back percentage,\" but does not necessarily or always reflect the most recent cash back percentage or the most common cash back percentage for a store. The cash back percentage for any store is not a fixed percentage and is subject to change. We’re happy to answer any questions you have.'"
      ]
     },
     "execution_count": 77,
     "metadata": {},
     "output_type": "execute_result"
    }
   ],
   "source": [
    "# Print sample to test quality\n",
    "article_texts[0][20].page_content"
   ]
  },
  {
   "cell_type": "code",
   "execution_count": 87,
   "id": "390eada4-4f8b-410f-b82f-cfcb7ed0d81f",
   "metadata": {},
   "outputs": [],
   "source": [
    "# Load the embedding model\n",
    "model_kwargs = {'device': 'cpu'}\n",
    "encode_kwargs = {'normalize_embeddings': True}\n",
    "embedding_model_name = \"BAAI/bge-small-en\"\n",
    "os.environ['SENTENCE_TRANSFORMERS_HOME'] = '/mnt/code/model_cache/'\n",
    "embeddings = HuggingFaceBgeEmbeddings(model_name=\"BAAI/bge-small-en\",\n",
    "                                      model_kwargs=model_kwargs,\n",
    "                                      encode_kwargs=encode_kwargs\n",
    "                                     )"
   ]
  },
  {
   "cell_type": "code",
   "execution_count": 90,
   "id": "ef1d650a-cdc2-460e-8cac-7760acd8bee3",
   "metadata": {},
   "outputs": [],
   "source": [
    "doc_store = Qdrant.from_documents(article_texts[0],\n",
    "                              embedding=embeddings,\n",
    "                              url = \"https://59f8f159-fb60-44e8-bfc4-9f35c77ca8d4.us-east4-0.gcp.cloud.qdrant.io:6333\",\n",
    "                              api_key= 'YTyY8NmWHwAXMwMIWHkERLhpKLffi660UJ0gLbhegPF72EzG9igwUQ',\n",
    "                              collection_name=f\"rakuten\")"
   ]
  },
  {
   "cell_type": "code",
   "execution_count": 147,
   "id": "55f8dcc5-90ba-46ae-8681-1439fba17194",
   "metadata": {},
   "outputs": [],
   "source": [
    "rag_llm = ChatOpenAI(temperature=0, \n",
    "                     model='gpt-3.5-turbo-0613')\n",
    "\n",
    "conversation = ConversationChain(\n",
    "        llm=rag_llm,\n",
    "        memory=ConversationSummaryMemory(llm=rag_llm),\n",
    "        verbose=False\n",
    "    )\n",
    "\n",
    "messages = [\n",
    "    {\"role\": \"assistant\", \"content\": \"How can I help you today?\"}\n",
    "]"
   ]
  },
  {
   "cell_type": "code",
   "execution_count": 148,
   "id": "54b7be2c-14ee-4cba-a0bd-c73c5bc43539",
   "metadata": {},
   "outputs": [],
   "source": [
    "# Get relevant docs through vector DB\n",
    "\n",
    "SIMILARITY_THRESHOLD = 0.83\n",
    "\n",
    "def get_relevant_docs(user_input):\n",
    " \n",
    "    relevant_docs = doc_store.similarity_search_with_score(user_input)\n",
    "    urls = [result[0].metadata['source'] for result in relevant_docs if result[1] > SIMILARITY_THRESHOLD]\n",
    "    contexts = [result[0].page_content for result in relevant_docs if result[1] > SIMILARITY_THRESHOLD]\n",
    " \n",
    "    return urls, contexts\n",
    " \n",
    " \n",
    "def build_system_prompt(user_input):\n",
    " \n",
    "    urls, contexts = get_relevant_docs(user_input)\n",
    " \n",
    "    # Create prompt\n",
    "    template = \"\"\" You are a virtual assistant for Rakuten and your task is to answer questions related to Rakuten which includes general information about Rakuten.\n",
    " \n",
    "                    Do not hallucinate. If you don't find an answer, you can point user to the official website here: https://www.rakuten.com/help . \n",
    " \n",
    "                    In your response, include the following url links at the end of your response {url_links} and any other relevant URL links that you refered.\n",
    " \n",
    "                    Also, at the end of your response, ask if your response was helpful\". \n",
    " \n",
    "                    Here is some relevant context: {context}\"\"\"\n",
    " \n",
    "    prompt_template = PromptTemplate(\n",
    "        input_variables=[\"url_links\", \"context\"],\n",
    "        template=template\n",
    "    )\n",
    "    system_prompt = prompt_template.format( url_links=urls, context=contexts)\n",
    " \n",
    "    return system_prompt\n",
    " \n",
    "# Query the Open AI Model\n",
    "def queryAIModel(user_input):\n",
    " \n",
    "    system_prompt = build_system_prompt(user_input)            \n",
    "    messages = [\n",
    "        SystemMessage(\n",
    "            content=system_prompt\n",
    "        ),\n",
    "        HumanMessage(\n",
    "            content=user_input\n",
    "        ),\n",
    "    ]\n",
    "    \n",
    "    output = conversation.predict(input=messages)\n",
    " \n",
    "    return output"
   ]
  },
  {
   "cell_type": "code",
   "execution_count": 149,
   "id": "802f7737-6e6d-42f4-8f2b-8320c135435e",
   "metadata": {},
   "outputs": [
    {
     "name": "stdin",
     "output_type": "stream",
     "text": [
      "Please provide your question here : how much money can i load on a gift card\n"
     ]
    },
    {
     "data": {
      "text/plain": [
       "'The Rakuten Gift Card Shop allows you to purchase third-party gift cards, gift codes, or other stored-value products. There are no specific details provided about the maximum amount of money you can load on a gift card. However, it is important to note that all gift cards featured on the Rakuten Gift Card Shop are subject to availability, and the company reserves the right to impose quantity limits on any order. Additionally, prices and rewards are subject to change without notice. For more information about the Rakuten Gift Card Shop and its terms of sale, you can visit the official Rakuten help page here: [https://www.rakuten.com/help/article/rakuten-gift-card-shop-terms-of-sale-360052462534]. I hope this information is helpful!'"
      ]
     },
     "execution_count": 149,
     "metadata": {},
     "output_type": "execute_result"
    }
   ],
   "source": [
    "# Ask a question\n",
    "user_question = input(\"Please provide your question here :\")\n",
    "messages.append({\"role\": \"user\", \"content\": user_question})\n",
    "result = queryAIModel(user_question)\n",
    "result"
   ]
  },
  {
   "cell_type": "code",
   "execution_count": null,
   "id": "a0df3ad9-ae82-49f0-b93c-fb688e719007",
   "metadata": {},
   "outputs": [],
   "source": []
  }
 ],
 "metadata": {
  "kernelspec": {
   "display_name": "Python 3 (ipykernel)",
   "language": "python",
   "name": "python3"
  },
  "language_info": {
   "codemirror_mode": {
    "name": "ipython",
    "version": 3
   },
   "file_extension": ".py",
   "mimetype": "text/x-python",
   "name": "python",
   "nbconvert_exporter": "python",
   "pygments_lexer": "ipython3",
   "version": "3.9.18"
  }
 },
 "nbformat": 4,
 "nbformat_minor": 5
}
