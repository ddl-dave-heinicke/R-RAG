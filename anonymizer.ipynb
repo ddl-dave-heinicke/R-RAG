{
 "cells": [
  {
   "cell_type": "code",
   "execution_count": null,
   "id": "a7cdfb83-ec15-46b7-a43c-15545e8bb87e",
   "metadata": {},
   "outputs": [],
   "source": [
    "! pip install presidio-analyzer presidio-anonymizer spacy Faker"
   ]
  },
  {
   "cell_type": "code",
   "execution_count": null,
   "id": "19198d43-9db8-4df1-b4db-840523a13fae",
   "metadata": {},
   "outputs": [],
   "source": [
    "# Download model\n",
    "!python -m spacy download en_core_web_lg"
   ]
  },
  {
   "cell_type": "code",
   "execution_count": 3,
   "id": "e69facc6-54ab-4c2f-aea6-2f33ba7a9f3e",
   "metadata": {},
   "outputs": [],
   "source": [
    "document_content = \"\"\"Date: October 19, 2021\n",
    " Witness: John Doe\n",
    " Subject: Testimony Regarding the Loss of Wallet\n",
    "\n",
    " Testimony Content:\n",
    "\n",
    " Hello Officer,\n",
    "\n",
    " My name is John Doe and on October 19, 2021, my wallet was stolen in the vicinity of Kilmarnock during a bike trip. This wallet contains some very important things to me.\n",
    "\n",
    " Firstly, the wallet contains my credit card with number 4111 1111 1111 1111, which is registered under my name and linked to my bank account, PL61109010140000071219812874.\n",
    "\n",
    " Additionally, the wallet had a driver's license - DL No: 999000680 issued to my name. It also houses my Social Security Number, 602-76-4532.\n",
    "\n",
    " What's more, I had my polish identity card there, with the number ABC123456.\n",
    "\n",
    " I would like this data to be secured and protected in all possible ways. I believe It was stolen at 9:30 AM.\n",
    "\n",
    " In case any information arises regarding my wallet, please reach out to me on my phone number, 999-888-7777, or through my personal email, johndoe@example.com.\n",
    "\n",
    " Please consider this information to be highly confidential and respect my privacy.\n",
    "\n",
    " The bank has been informed about the stolen credit card and necessary actions have been taken from their end. They will be reachable at their official email, support@bankname.com.\n",
    " My representative there is Victoria Cherry (her business phone: 987-654-3210).\n",
    "\n",
    " Thank you for your assistance,\n",
    "\n",
    " John Doe\"\"\""
   ]
  },
  {
   "cell_type": "code",
   "execution_count": 5,
   "id": "0eb247c9-45cc-4471-af1b-1635be62c565",
   "metadata": {},
   "outputs": [
    {
     "data": {
      "text/plain": [
       "\"Date: <DATE_TIME>\\n Witness: <PERSON>\\n Subject: Testimony Regarding the Loss of Wallet\\n\\n Testimony Content:\\n\\n Hello Officer,\\n\\n My name is <PERSON> and on <DATE_TIME>, my wallet was stolen in the vicinity of <LOCATION> during a bike trip. This wallet contains some very important things to me.\\n\\n Firstly, the wallet contains my credit card with number <CREDIT_CARD>, which is registered under my name and linked to my bank account, <IBAN_CODE>.\\n\\n Additionally, the wallet had a driver's license - DL No: <US_DRIVER_LICENSE> issued to my name. It also houses my Social Security Number, <US_SSN>.\\n\\n What's more, I had my polish identity card there, with the number ABC123456.\\n\\n I would like this data to be secured and protected in all possible ways. I believe It was stolen at <DATE_TIME_2>.\\n\\n In case any information arises regarding my wallet, please reach out to me on my phone number, <PHONE_NUMBER>, or through my personal email, <EMAIL_ADDRESS>.\\n\\n Please consider this information to be highly confidential and respect my privacy.\\n\\n The bank has been informed about the stolen credit card and necessary actions have been taken from their end. They will be reachable at their official email, <EMAIL_ADDRESS_2>.\\n My representative there is <PERSON_2> (her business phone: <UK_NHS>).\\n\\n Thank you for your assistance,\\n\\n <PERSON>\""
      ]
     },
     "execution_count": 5,
     "metadata": {},
     "output_type": "execute_result"
    }
   ],
   "source": [
    "from langchain_experimental.data_anonymizer import PresidioReversibleAnonymizer\n",
    "\n",
    "anonymizer = PresidioReversibleAnonymizer(\n",
    "    add_default_faker_operators=False,\n",
    "    analyzed_fields=[\"LOCATION\",\"US_SSN\", \"IBAN_CODE\", \"CREDIT_CARD\", \"CRYPTO\", \"IP_ADDRESS\",\n",
    "                    \"MEDICAL_LICENSE\", \"URL\", \"US_BANK_NUMBER\", \"US_DRIVER_LICENSE\", \"US_ITIN\", \"US_PASSPORT\"]\n",
    ")\n",
    "\n",
    "anonymizer.anonymize(document_content)"
   ]
  }
 ],
 "metadata": {
  "kernelspec": {
   "display_name": "Python 3 (ipykernel)",
   "language": "python",
   "name": "python3"
  },
  "language_info": {
   "codemirror_mode": {
    "name": "ipython",
    "version": 3
   },
   "file_extension": ".py",
   "mimetype": "text/x-python",
   "name": "python",
   "nbconvert_exporter": "python",
   "pygments_lexer": "ipython3",
   "version": "3.9.18"
  }
 },
 "nbformat": 4,
 "nbformat_minor": 5
}
