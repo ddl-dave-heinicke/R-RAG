{
 "cells": [
  {
   "cell_type": "markdown",
   "id": "5b12c80a-6d7c-441d-bb3e-007a51825708",
   "metadata": {},
   "source": [
    "# Ingest Data used for RAG Application"
   ]
  },
  {
   "cell_type": "code",
   "execution_count": 2,
   "id": "912d713f-9ac4-4319-a04a-4a58617a7377",
   "metadata": {
    "tags": []
   },
   "outputs": [],
   "source": [
    "from domino_data.vectordb import DominoPineconeConfiguration\n",
    "\n",
    "from langchain_community.document_loaders.csv_loader import CSVLoader\n",
    "from langchain.text_splitter import RecursiveCharacterTextSplitter\n",
    "from langchain.embeddings import HuggingFaceBgeEmbeddings\n",
    "from langchain.vectorstores import Qdrant\n",
    "\n",
    "import csv\n",
    "import os\n",
    "import pinecone\n",
    "import sys\n",
    "\n",
    "from mlflow.deployments import get_deploy_client\n",
    "import os\n",
    "\n",
    "client = get_deploy_client(os.environ['DOMINO_MLFLOW_DEPLOYMENTS'])"
   ]
  },
  {
   "cell_type": "markdown",
   "id": "5433ade1-b903-44b1-9088-256eb672a27c",
   "metadata": {},
   "source": [
    "## Ingest relevant FAQ & support data scraped from Domino's help site\n",
    "\n",
    "https://tickets.dominodatalab.com/hc/en-us/sections/360000203463-FAQ"
   ]
  },
  {
   "cell_type": "code",
   "execution_count": 3,
   "id": "6c742bca-725c-4249-8c5a-5fa5f2d36a0f",
   "metadata": {
    "tags": []
   },
   "outputs": [],
   "source": [
    "csv.field_size_limit(sys.maxsize)\n",
    "\n",
    "loader = CSVLoader(file_path=\"/mnt/data/{}/domino_help_clean.csv\".format(os.environ['DOMINO_PROJECT_NAME']), source_column=\"url\")\n",
    "\n",
    "data = loader.load()"
   ]
  },
  {
   "cell_type": "code",
   "execution_count": 4,
   "id": "bbbca562-58d7-460e-bd2c-4ff44d04f992",
   "metadata": {
    "tags": []
   },
   "outputs": [],
   "source": [
    "article_texts = []\n",
    "chunk_size=1000\n",
    "chunk_overlap=200\n",
    "strip_whitespace = True\n",
    "\n",
    "article_text = loader.load_and_split(\n",
    "        RecursiveCharacterTextSplitter(\n",
    "            chunk_size=chunk_size, \n",
    "            chunk_overlap=chunk_overlap, \n",
    "            strip_whitespace=strip_whitespace\n",
    "        )\n",
    "    )\n",
    "    \n",
    "# refine texts\n",
    "for chunk in article_text:\n",
    "    # index of documentation path \n",
    "    path_idx = chunk.page_content.find(\"\\n\")\n",
    "    chunk.page_content = chunk.page_content[path_idx + 1:]\n",
    "        \n",
    "article_texts.append(article_text)"
   ]
  },
  {
   "cell_type": "code",
   "execution_count": 5,
   "id": "47cd3981-ae82-40a1-b99d-e5b935c1e0d5",
   "metadata": {
    "tags": []
   },
   "outputs": [
    {
     "data": {
      "text/plain": [
       "'\\nTo resume your upload use the following syntax:\\n\\n**% domino upload-dataset user\\\\_id/project\\\\_name/upload\\\\_dataset Users/myuser/data aed75b88-cb1c-4ce3-a06b-05b675c296cf**\\n\\n### Managing Path Collision\\n\\nUse the`--fileUploadSetting`option to handle path collisions as follows:\\n\\n1.  `overwrite`: If a file already exists in the Dataset, the new file overwrites the existing file.\\n    \\n2.  `rename`: If a file already exists in the Dataset, the new file is uploaded and renamed with`_1`appended to the filename. For example,`/Users/myUser/data/file.txt`becomes`/Users/myUser/data/file_1.txt`\\n    \\n3.  `ignore`: If a file already exists in the Dataset, the new file is ignored.\\n    \\n\\nTo use this option use the following syntax:'"
      ]
     },
     "execution_count": 5,
     "metadata": {},
     "output_type": "execute_result"
    }
   ],
   "source": [
    "# Print sample to test quality\n",
    "article_texts[0][20].page_content"
   ]
  },
  {
   "cell_type": "markdown",
   "id": "79efaf37-e1e6-4279-959d-784b04f7a0f8",
   "metadata": {},
   "source": [
    "### Load an embedding model and store the embeddings.\n",
    "\n",
    "This example loads the \"BAAI/bge-small-en\" embedding model from HuggingFace, but approved embeddingcs can be stored in a Domino Dataset or your managed storage.\n",
    "\n",
    "The embedigs are saved to the Project's Domino Dataset, but could also be stored in an attached data source."
   ]
  },
  {
   "cell_type": "code",
   "execution_count": 6,
   "id": "70c9294f-d6b2-4705-8000-3d4fe3ffe4bd",
   "metadata": {
    "tags": []
   },
   "outputs": [
    {
     "name": "stderr",
     "output_type": "stream",
     "text": [
      "/home/domino/.local/lib/python3.10/site-packages/huggingface_hub/file_download.py:1132: FutureWarning: `resume_download` is deprecated and will be removed in version 1.0.0. Downloads always resume when possible. If you want to force a new download, use `force_download=True`.\n",
      "  warnings.warn(\n"
     ]
    }
   ],
   "source": [
    "# Load the embedding model\n",
    "model_kwargs = {'device': 'cpu'}\n",
    "encode_kwargs = {'normalize_embeddings': True}\n",
    "embedding_model_name = \"BAAI/bge-small-en\"\n",
    "os.environ['SENTENCE_TRANSFORMERS_HOME'] = '/mnt/data/{}/model_cache/'.format(os.environ['DOMINO_PROJECT_NAME'])\n",
    "embeddings = HuggingFaceBgeEmbeddings(model_name=embedding_model_name,\n",
    "                                      model_kwargs=model_kwargs,\n",
    "                                      encode_kwargs=encode_kwargs\n",
    "                                     )"
   ]
  },
  {
   "cell_type": "markdown",
   "id": "f32027dd-0d72-4ac6-b50c-9750dab0b396",
   "metadata": {},
   "source": [
    "### Save the embeddings to a Vector Database"
   ]
  },
  {
   "cell_type": "code",
   "execution_count": 7,
   "id": "d7a45846-e6b6-4bdd-9b71-13917afacbf3",
   "metadata": {
    "tags": []
   },
   "outputs": [
    {
     "name": "stdout",
     "output_type": "stream",
     "text": [
      "3.2.2\n"
     ]
    },
    {
     "ename": "AttributeError",
     "evalue": "init is no longer a top-level attribute of the pinecone package.\n\nPlease create an instance of the Pinecone class instead.\n\nExample:\n\n    import os\n    from pinecone import Pinecone, ServerlessSpec\n\n    pc = Pinecone(\n        api_key=os.environ.get(\"PINECONE_API_KEY\")\n    )\n\n    # Now do stuff\n    if 'my_index' not in pc.list_indexes().names():\n        pc.create_index(\n            name='my_index', \n            dimension=1536, \n            metric='euclidean',\n            spec=ServerlessSpec(\n                cloud='aws',\n                region='us-west-2'\n            )\n        )\n\n",
     "output_type": "error",
     "traceback": [
      "\u001b[0;31m---------------------------------------------------------------------------\u001b[0m",
      "\u001b[0;31mAttributeError\u001b[0m                            Traceback (most recent call last)",
      "Cell \u001b[0;32mIn[7], line 12\u001b[0m\n\u001b[1;32m      6\u001b[0m \u001b[38;5;66;03m# The pinecone API key should be provided when creating the Domino Data Source and persisted securely.\u001b[39;00m\n\u001b[1;32m      7\u001b[0m \u001b[38;5;66;03m# This api_key variable here is only used for satisfying the native pinecone python client initialization where\u001b[39;00m\n\u001b[1;32m      8\u001b[0m \u001b[38;5;66;03m# api_key is a mandatory non-empty field.\u001b[39;00m\n\u001b[1;32m     10\u001b[0m api_key \u001b[38;5;241m=\u001b[39m os\u001b[38;5;241m.\u001b[39menviron\u001b[38;5;241m.\u001b[39mget(\u001b[38;5;124m\"\u001b[39m\u001b[38;5;124mDOMINO_VECTOR_DB_METADATA\u001b[39m\u001b[38;5;124m\"\u001b[39m, datasource_name)\n\u001b[0;32m---> 12\u001b[0m \u001b[43mpinecone\u001b[49m\u001b[38;5;241;43m.\u001b[39;49m\u001b[43minit\u001b[49m\u001b[43m(\u001b[49m\n\u001b[1;32m     13\u001b[0m \u001b[43m    \u001b[49m\u001b[43mapi_key\u001b[49m\u001b[38;5;241;43m=\u001b[39;49m\u001b[43mapi_key\u001b[49m\u001b[43m,\u001b[49m\n\u001b[1;32m     14\u001b[0m \u001b[43m    \u001b[49m\u001b[43menvironment\u001b[49m\u001b[38;5;241;43m=\u001b[39;49m\u001b[38;5;124;43m\"\u001b[39;49m\u001b[38;5;124;43mdomino\u001b[39;49m\u001b[38;5;124;43m\"\u001b[39;49m\u001b[43m,\u001b[49m\n\u001b[1;32m     15\u001b[0m \u001b[43m    \u001b[49m\u001b[43mopenapi_config\u001b[49m\u001b[38;5;241;43m=\u001b[39;49m\u001b[43mconf\u001b[49m\u001b[43m)\u001b[49m\n",
      "File \u001b[0;32m~/.local/lib/python3.10/site-packages/pinecone/deprecation_warnings.py:38\u001b[0m, in \u001b[0;36minit\u001b[0;34m(*args, **kwargs)\u001b[0m\n\u001b[1;32m     11\u001b[0m     example \u001b[38;5;241m=\u001b[39m \u001b[38;5;124m\"\"\"\u001b[39m\n\u001b[1;32m     12\u001b[0m \u001b[38;5;124m    import os\u001b[39m\n\u001b[1;32m     13\u001b[0m \u001b[38;5;124m    from pinecone import Pinecone, ServerlessSpec\u001b[39m\n\u001b[0;32m   (...)\u001b[0m\n\u001b[1;32m     29\u001b[0m \u001b[38;5;124m        )\u001b[39m\n\u001b[1;32m     30\u001b[0m \u001b[38;5;124m\"\"\"\u001b[39m\n\u001b[1;32m     31\u001b[0m     msg \u001b[38;5;241m=\u001b[39m \u001b[38;5;124mf\u001b[39m\u001b[38;5;124m\"\"\"\u001b[39m\u001b[38;5;124minit is no longer a top-level attribute of the pinecone package.\u001b[39m\n\u001b[1;32m     32\u001b[0m \n\u001b[1;32m     33\u001b[0m \u001b[38;5;124mPlease create an instance of the Pinecone class instead.\u001b[39m\n\u001b[0;32m   (...)\u001b[0m\n\u001b[1;32m     36\u001b[0m \u001b[38;5;132;01m{\u001b[39;00mexample\u001b[38;5;132;01m}\u001b[39;00m\n\u001b[1;32m     37\u001b[0m \u001b[38;5;124m\"\"\"\u001b[39m\n\u001b[0;32m---> 38\u001b[0m     \u001b[38;5;28;01mraise\u001b[39;00m \u001b[38;5;167;01mAttributeError\u001b[39;00m(msg)\n",
      "\u001b[0;31mAttributeError\u001b[0m: init is no longer a top-level attribute of the pinecone package.\n\nPlease create an instance of the Pinecone class instead.\n\nExample:\n\n    import os\n    from pinecone import Pinecone, ServerlessSpec\n\n    pc = Pinecone(\n        api_key=os.environ.get(\"PINECONE_API_KEY\")\n    )\n\n    # Now do stuff\n    if 'my_index' not in pc.list_indexes().names():\n        pc.create_index(\n            name='my_index', \n            dimension=1536, \n            metric='euclidean',\n            spec=ServerlessSpec(\n                cloud='aws',\n                region='us-west-2'\n            )\n        )\n\n"
     ]
    }
   ],
   "source": [
    "datasource_name = \"pinecone-domino-support\"\n",
    "conf = DominoPineconeConfiguration(datasource=datasource_name)\n",
    "\n",
    "print(pinecone.__version__)\n",
    "\n",
    "# The pinecone API key should be provided when creating the Domino Data Source and persisted securely.\n",
    "# This api_key variable here is only used for satisfying the native pinecone python client initialization where\n",
    "# api_key is a mandatory non-empty field.\n",
    "\n",
    "api_key = os.environ.get(\"DOMINO_VECTOR_DB_METADATA\", datasource_name)\n",
    "\n",
    "pinecone.init(\n",
    "    api_key=api_key,\n",
    "    environment=\"domino\",\n",
    "    openapi_config=conf)"
   ]
  },
  {
   "cell_type": "code",
   "execution_count": null,
   "id": "63d1e38c-7a43-456e-9d3a-211e928b9d80",
   "metadata": {
    "tags": []
   },
   "outputs": [],
   "source": [
    "print(pinecone.list_indexes())\n",
    "print(pinecone.describe_index('domino-support'))"
   ]
  },
  {
   "cell_type": "code",
   "execution_count": null,
   "id": "d4723e65-2454-41d7-a803-abd1ad831612",
   "metadata": {
    "tags": []
   },
   "outputs": [],
   "source": [
    "# check if index already exists, if not we create it\n",
    "index_name = \"domino-support\"\n",
    "if index_name not in pinecone.list_indexes():\n",
    "    pinecone.create_index(\n",
    "        name=index_name,\n",
    "        dimension=384, ## 384 for bge-small-en \n",
    "        metric='cosine'\n",
    "    )\n",
    "\n",
    "#insert the embeddings\n",
    "from langchain.vectorstores import Pinecone\n",
    "\n",
    "vector_store = Pinecone.from_documents(\n",
    "    article_texts[0],\n",
    "    embeddings,\n",
    "    index_name=index_name,\n",
    "    namespace='domino-help'\n",
    ")"
   ]
  },
  {
   "cell_type": "code",
   "execution_count": null,
   "id": "7b4a723d-a545-4301-89b6-0d0c53616bdd",
   "metadata": {
    "tags": []
   },
   "outputs": [],
   "source": [
    "# Uncomment below if you want to use Qdrant without the AI g/w\n",
    "# qdrant_key = os.environ.get(\"QDRANT_KEY\")\n",
    "# qdrant_url = \"https://59f8f159-fb60-44e8-bfc4-9f35c77ca8d4.us-east4-0.gcp.cloud.qdrant.io:6333\"\n",
    "\n",
    "# doc_store = Qdrant.from_documents(article_texts[0],\n",
    "#                               embedding=embeddings,\n",
    "#                               url = qdrant_url,\n",
    "#                               api_key= qdrant_key,\n",
    "#                               collection_name=f\"domino-help\")"
   ]
  }
 ],
 "metadata": {
  "kernelspec": {
   "display_name": "Advanced RAG Env",
   "language": "python",
   "name": "test_kernel"
  },
  "language_info": {
   "codemirror_mode": {
    "name": "ipython",
    "version": 3
   },
   "file_extension": ".py",
   "mimetype": "text/x-python",
   "name": "python",
   "nbconvert_exporter": "python",
   "pygments_lexer": "ipython3",
   "version": "3.10.12"
  }
 },
 "nbformat": 4,
 "nbformat_minor": 5
}
