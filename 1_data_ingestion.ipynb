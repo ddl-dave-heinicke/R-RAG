{
 "cells": [
  {
   "cell_type": "code",
   "execution_count": null,
   "id": "13ba8ebd-178f-4bf4-b702-6d19adb9c36d",
   "metadata": {},
   "outputs": [],
   "source": []
  },
  {
   "cell_type": "code",
   "execution_count": 14,
   "id": "d7de1341-b933-4085-89f3-27ea0f957fd5",
   "metadata": {},
   "outputs": [],
   "source": [
    "from langchain_community.document_loaders.csv_loader import CSVLoader\n",
    "from langchain.text_splitter import RecursiveCharacterTextSplitter\n",
    "from langchain.embeddings import HuggingFaceBgeEmbeddings\n",
    "from langchain.vectorstores import Qdrant\n",
    "\n",
    "import csv\n",
    "import os\n",
    "import sys"
   ]
  },
  {
   "cell_type": "code",
   "execution_count": 10,
   "id": "6c742bca-725c-4249-8c5a-5fa5f2d36a0f",
   "metadata": {},
   "outputs": [],
   "source": [
    "csv.field_size_limit(sys.maxsize)\n",
    "\n",
    "loader = CSVLoader(file_path=\"/mnt/code/data/clean_help.csv\", source_column=\"url\")\n",
    "\n",
    "data = loader.load()"
   ]
  },
  {
   "cell_type": "code",
   "execution_count": 11,
   "id": "bbbca562-58d7-460e-bd2c-4ff44d04f992",
   "metadata": {},
   "outputs": [],
   "source": [
    "article_texts = []\n",
    "chunk_size = 5000\n",
    "chunk_overlap = 0\n",
    "strip_whitespace = True\n",
    "\n",
    "article_text = loader.load_and_split(\n",
    "        RecursiveCharacterTextSplitter(\n",
    "            chunk_size=chunk_size, \n",
    "            chunk_overlap=chunk_overlap, \n",
    "            strip_whitespace=strip_whitespace\n",
    "        )\n",
    "    )\n",
    "    \n",
    "# refine texts\n",
    "for chunk in article_text:\n",
    "    # index of documentation path \n",
    "    path_idx = chunk.page_content.find(\"\\n\")\n",
    "    chunk.page_content = chunk.page_content[path_idx + 1:]\n",
    "        \n",
    "article_texts.append(article_text)"
   ]
  },
  {
   "cell_type": "code",
   "execution_count": 12,
   "id": "47cd3981-ae82-40a1-b99d-e5b935c1e0d5",
   "metadata": {},
   "outputs": [
    {
     "data": {
      "text/plain": [
       "'text: How Do We Make Money? Our business is based on a simple idea: When you follow our links to visit a store, that store pays us a commission on whatever you buy during your visit. We then share that commission with you, our members, as Cash Back. In other words, retailers pay to partner with us because we send shoppers to their websites or brick-and-mortar stores. They may also pay us to help grow their brand. That means we might feature them on our website, in emails, etc. Because of these partnerships, members like you benefit by earning Cash Back and getting great offers. To sum it up, we help retailers succeed and, at the same time, help our members save money. What does it mean when Rakuten states that a cash back percentage \"was\" a certain amount? Stores pay us a commission for sending our members to their websites, and we share it with you as cash back. When a store joins Rakuten, we set a cash back percentage for that store (a \"base cash back percentage\"). We work with our merchant partners to offer increased cash back from time to time to our members. An increased cash back percentage is often promoted alongside a \"was %\". The \"was %\" describes the \"base cash back percentage,\" but does not necessarily or always reflect the most recent cash back percentage or the most common cash back percentage for a store. The cash back percentage for any store is not a fixed percentage and is subject to change. We’re happy to answer any questions you have.'"
      ]
     },
     "execution_count": 12,
     "metadata": {},
     "output_type": "execute_result"
    }
   ],
   "source": [
    "# Print sample to test quality\n",
    "article_texts[0][20].page_content"
   ]
  },
  {
   "cell_type": "code",
   "execution_count": 15,
   "id": "70c9294f-d6b2-4705-8000-3d4fe3ffe4bd",
   "metadata": {},
   "outputs": [],
   "source": [
    "# Load the embedding model\n",
    "model_kwargs = {'device': 'cpu'}\n",
    "encode_kwargs = {'normalize_embeddings': True}\n",
    "embedding_model_name = \"BAAI/bge-small-en\"\n",
    "os.environ['SENTENCE_TRANSFORMERS_HOME'] = '/mnt/code/model_cache/'\n",
    "embeddings = HuggingFaceBgeEmbeddings(model_name=embedding_model_name,\n",
    "                                      model_kwargs=model_kwargs,\n",
    "                                      encode_kwargs=encode_kwargs\n",
    "                                     )"
   ]
  },
  {
   "cell_type": "code",
   "execution_count": 16,
   "id": "99bcdee0-e1ec-4b5c-8269-48f7cc6b6347",
   "metadata": {},
   "outputs": [],
   "source": [
    "qdrant_key = os.environ.get(\"QDRANT_KEY\")\n",
    "qdrant_url = \"https://59f8f159-fb60-44e8-bfc4-9f35c77ca8d4.us-east4-0.gcp.cloud.qdrant.io:6333\"\n",
    "\n",
    "doc_store = Qdrant.from_documents(article_texts[0],\n",
    "                              embedding=embeddings,\n",
    "                              url = qdrant_url,\n",
    "                              api_key= qdrant_key,\n",
    "                              collection_name=f\"rakuten\")"
   ]
  },
  {
   "cell_type": "code",
   "execution_count": null,
   "id": "50d00ece-4a7c-4186-833e-787aa7060a95",
   "metadata": {},
   "outputs": [],
   "source": []
  }
 ],
 "metadata": {
  "kernelspec": {
   "display_name": "Python 3 (ipykernel)",
   "language": "python",
   "name": "python3"
  },
  "language_info": {
   "codemirror_mode": {
    "name": "ipython",
    "version": 3
   },
   "file_extension": ".py",
   "mimetype": "text/x-python",
   "name": "python",
   "nbconvert_exporter": "python",
   "pygments_lexer": "ipython3",
   "version": "3.9.18"
  }
 },
 "nbformat": 4,
 "nbformat_minor": 5
}
