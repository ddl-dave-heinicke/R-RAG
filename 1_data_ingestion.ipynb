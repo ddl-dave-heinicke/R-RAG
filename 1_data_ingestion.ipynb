{
 "cells": [
  {
   "cell_type": "code",
   "execution_count": 1,
   "id": "5c3f8e88-fe52-42c7-bdc0-9b5a38d3c622",
   "metadata": {
    "tags": []
   },
   "outputs": [
    {
     "name": "stdout",
     "output_type": "stream",
     "text": [
      "Defaulting to user installation because normal site-packages is not writeable\n",
      "Looking in indexes: https://pypi.org/simple, https://pypi.ngc.nvidia.com\n",
      "Collecting pinecone-client==2.2.4\n",
      "  Obtaining dependency information for pinecone-client==2.2.4 from https://files.pythonhosted.org/packages/df/d4/cffbb61236c6c1d7510e835c1ff843e4e7d705ed59d21c0e5b6dc1cb4fd8/pinecone_client-2.2.4-py3-none-any.whl.metadata\n",
      "  Downloading pinecone_client-2.2.4-py3-none-any.whl.metadata (7.8 kB)\n",
      "Requirement already satisfied: requests>=2.19.0 in /usr/local/lib/python3.10/dist-packages (from pinecone-client==2.2.4) (2.31.0)\n",
      "Requirement already satisfied: pyyaml>=5.4 in /usr/local/lib/python3.10/dist-packages (from pinecone-client==2.2.4) (6.0.1)\n",
      "Requirement already satisfied: loguru>=0.5.0 in /usr/local/lib/python3.10/dist-packages (from pinecone-client==2.2.4) (0.5.3)\n",
      "Requirement already satisfied: typing-extensions>=3.7.4 in /usr/local/lib/python3.10/dist-packages (from pinecone-client==2.2.4) (4.10.0)\n",
      "Collecting dnspython>=2.0.0 (from pinecone-client==2.2.4)\n",
      "  Obtaining dependency information for dnspython>=2.0.0 from https://files.pythonhosted.org/packages/87/a1/8c5287991ddb8d3e4662f71356d9656d91ab3a36618c3dd11b280df0d255/dnspython-2.6.1-py3-none-any.whl.metadata\n",
      "  Downloading dnspython-2.6.1-py3-none-any.whl.metadata (5.8 kB)\n",
      "Requirement already satisfied: python-dateutil>=2.5.3 in /usr/local/lib/python3.10/dist-packages (from pinecone-client==2.2.4) (2.8.2)\n",
      "Requirement already satisfied: urllib3>=1.21.1 in /usr/local/lib/python3.10/dist-packages (from pinecone-client==2.2.4) (1.26.16)\n",
      "Requirement already satisfied: tqdm>=4.64.1 in /usr/local/lib/python3.10/dist-packages (from pinecone-client==2.2.4) (4.66.1)\n",
      "Requirement already satisfied: numpy>=1.22.0 in /usr/local/lib/python3.10/dist-packages (from pinecone-client==2.2.4) (1.26.4)\n",
      "Requirement already satisfied: six>=1.5 in /usr/local/lib/python3.10/dist-packages (from python-dateutil>=2.5.3->pinecone-client==2.2.4) (1.16.0)\n",
      "Requirement already satisfied: charset-normalizer<4,>=2 in /usr/local/lib/python3.10/dist-packages (from requests>=2.19.0->pinecone-client==2.2.4) (3.2.0)\n",
      "Requirement already satisfied: idna<4,>=2.5 in /usr/local/lib/python3.10/dist-packages (from requests>=2.19.0->pinecone-client==2.2.4) (3.4)\n",
      "Requirement already satisfied: certifi>=2017.4.17 in /usr/local/lib/python3.10/dist-packages (from requests>=2.19.0->pinecone-client==2.2.4) (2023.7.22)\n",
      "Downloading pinecone_client-2.2.4-py3-none-any.whl (179 kB)\n",
      "\u001b[2K   \u001b[90m━━━━━━━━━━━━━━━━━━━━━━━━━━━━━━━━━━━━━━━━\u001b[0m \u001b[32m179.4/179.4 kB\u001b[0m \u001b[31m7.0 MB/s\u001b[0m eta \u001b[36m0:00:00\u001b[0m\n",
      "\u001b[?25hDownloading dnspython-2.6.1-py3-none-any.whl (307 kB)\n",
      "\u001b[2K   \u001b[90m━━━━━━━━━━━━━━━━━━━━━━━━━━━━━━━━━━━━━━━━\u001b[0m \u001b[32m307.7/307.7 kB\u001b[0m \u001b[31m12.1 MB/s\u001b[0m eta \u001b[36m0:00:00\u001b[0m\n",
      "\u001b[?25hInstalling collected packages: dnspython, pinecone-client\n",
      "\u001b[33m  WARNING: The script pinecone is installed in '/home/domino/.local/bin' which is not on PATH.\n",
      "  Consider adding this directory to PATH or, if you prefer to suppress this warning, use --no-warn-script-location.\u001b[0m\u001b[33m\n",
      "\u001b[0m\u001b[31mERROR: pip's dependency resolver does not currently take into account all the packages that are installed. This behaviour is the source of the following dependency conflicts.\n",
      "langchain-pinecone 0.0.3 requires pinecone-client<4,>=3, but you have pinecone-client 2.2.4 which is incompatible.\u001b[0m\u001b[31m\n",
      "\u001b[0mSuccessfully installed dnspython-2.6.1 pinecone-client-2.2.4\n",
      "\n",
      "\u001b[1m[\u001b[0m\u001b[34;49mnotice\u001b[0m\u001b[1;39;49m]\u001b[0m\u001b[39;49m A new release of pip is available: \u001b[0m\u001b[31;49m23.2.1\u001b[0m\u001b[39;49m -> \u001b[0m\u001b[32;49m24.0\u001b[0m\n",
      "\u001b[1m[\u001b[0m\u001b[34;49mnotice\u001b[0m\u001b[1;39;49m]\u001b[0m\u001b[39;49m To update, run: \u001b[0m\u001b[32;49mpython -m pip install --upgrade pip\u001b[0m\n"
     ]
    }
   ],
   "source": [
    "! pip install pinecone-client==2.2.4 # restart kernel after running this cell"
   ]
  },
  {
   "cell_type": "code",
   "execution_count": 1,
   "id": "912d713f-9ac4-4319-a04a-4a58617a7377",
   "metadata": {
    "tags": []
   },
   "outputs": [
    {
     "name": "stderr",
     "output_type": "stream",
     "text": [
      "/home/domino/.local/lib/python3.10/site-packages/pinecone/index.py:4: TqdmExperimentalWarning: Using `tqdm.autonotebook.tqdm` in notebook mode. Use `tqdm.tqdm` instead to force console mode (e.g. in jupyter console)\n",
      "  from tqdm.autonotebook import tqdm\n",
      "/usr/local/lib/python3.10/dist-packages/pydantic/_internal/_config.py:317: UserWarning: Valid config keys have changed in V2:\n",
      "* 'schema_extra' has been renamed to 'json_schema_extra'\n",
      "  warnings.warn(message, UserWarning)\n"
     ]
    }
   ],
   "source": [
    "from domino_data.vectordb import DominoPineconeConfiguration\n",
    "\n",
    "from langchain_community.document_loaders.csv_loader import CSVLoader\n",
    "from langchain.text_splitter import RecursiveCharacterTextSplitter\n",
    "from langchain.embeddings import HuggingFaceBgeEmbeddings\n",
    "from langchain.vectorstores import Qdrant\n",
    "\n",
    "import csv\n",
    "import os\n",
    "import pinecone\n",
    "import sys\n",
    "\n",
    "from mlflow.deployments import get_deploy_client\n",
    "import os\n",
    "\n",
    "client = get_deploy_client(os.environ['DOMINO_MLFLOW_DEPLOYMENTS'])"
   ]
  },
  {
   "cell_type": "code",
   "execution_count": 15,
   "id": "4165955e-671e-42da-bb6d-ab12b24685cf",
   "metadata": {
    "tags": []
   },
   "outputs": [
    {
     "name": "stdout",
     "output_type": "stream",
     "text": [
      "(1050, 2)\n",
      "(664, 2)\n"
     ]
    }
   ],
   "source": [
    "import pandas as pd\n",
    "df = pd.read_csv('/mnt/code/data/help_markdown.csv')\n",
    "print(df.shape)\n",
    "\n",
    "df_drop_duplicates = df.drop_duplicates(subset='markdown')\n",
    "print(df_drop_duplicates.shape)\n",
    "\n",
    "df_drop_duplicates.to_csv('/mnt/code/data/help_markdown_dd.csv')"
   ]
  },
  {
   "cell_type": "code",
   "execution_count": 16,
   "id": "6c742bca-725c-4249-8c5a-5fa5f2d36a0f",
   "metadata": {
    "tags": []
   },
   "outputs": [],
   "source": [
    "csv.field_size_limit(sys.maxsize)\n",
    "\n",
    "loader = CSVLoader(file_path=\"/mnt/code/data/help_markdown_dd.csv\", source_column=\"url\")\n",
    "\n",
    "data = loader.load()"
   ]
  },
  {
   "cell_type": "code",
   "execution_count": 17,
   "id": "bbbca562-58d7-460e-bd2c-4ff44d04f992",
   "metadata": {
    "tags": []
   },
   "outputs": [],
   "source": [
    "article_texts = []\n",
    "chunk_size=1000\n",
    "chunk_overlap=200\n",
    "strip_whitespace = True\n",
    "\n",
    "article_text = loader.load_and_split(\n",
    "        RecursiveCharacterTextSplitter(\n",
    "            chunk_size=chunk_size, \n",
    "            chunk_overlap=chunk_overlap, \n",
    "            strip_whitespace=strip_whitespace\n",
    "        )\n",
    "    )\n",
    "    \n",
    "# refine texts\n",
    "for chunk in article_text:\n",
    "    # index of documentation path \n",
    "    path_idx = chunk.page_content.find(\"\\n\")\n",
    "    chunk.page_content = chunk.page_content[path_idx + 1:]\n",
    "        \n",
    "article_texts.append(article_text)"
   ]
  },
  {
   "cell_type": "code",
   "execution_count": 18,
   "id": "47cd3981-ae82-40a1-b99d-e5b935c1e0d5",
   "metadata": {
    "tags": []
   },
   "outputs": [
    {
     "data": {
      "text/plain": [
       "'*   [Access project files during docker build using Dockerfile Instructions](https://tickets.dominodatalab.com/hc/en-us/articles/19693528289044-Access-project-files-during-docker-build-using-Dockerfile-Instructions)'"
      ]
     },
     "execution_count": 18,
     "metadata": {},
     "output_type": "execute_result"
    }
   ],
   "source": [
    "# Print sample to test quality\n",
    "article_texts[0][20].page_content"
   ]
  },
  {
   "cell_type": "code",
   "execution_count": 19,
   "id": "70c9294f-d6b2-4705-8000-3d4fe3ffe4bd",
   "metadata": {
    "tags": []
   },
   "outputs": [],
   "source": [
    "# Load the embedding model\n",
    "model_kwargs = {'device': 'cpu'}\n",
    "encode_kwargs = {'normalize_embeddings': True}\n",
    "embedding_model_name = \"BAAI/bge-small-en\"\n",
    "# os.environ['SENTENCE_TRANSFORMERS_HOME'] = './model_cache/'\n",
    "embeddings = HuggingFaceBgeEmbeddings(model_name=embedding_model_name,\n",
    "                                      model_kwargs=model_kwargs,\n",
    "                                      encode_kwargs=encode_kwargs\n",
    "                                     )"
   ]
  },
  {
   "cell_type": "code",
   "execution_count": 20,
   "id": "d7a45846-e6b6-4bdd-9b71-13917afacbf3",
   "metadata": {
    "tags": []
   },
   "outputs": [
    {
     "name": "stdout",
     "output_type": "stream",
     "text": [
      "2.2.4\n"
     ]
    }
   ],
   "source": [
    "datasource_name = \"pinecone-domino-support\"\n",
    "conf = DominoPineconeConfiguration(datasource=datasource_name)\n",
    "\n",
    "print(pinecone.__version__)\n",
    "\n",
    "# The pinecone API key should be provided when creating the Domino Data Source and persisted securely.\n",
    "# This api_key variable here is only used for satisfying the native pinecone python client initialization where\n",
    "# api_key is a mandatory non-empty field.\n",
    "\n",
    "api_key = os.environ.get(\"DOMINO_VECTOR_DB_METADATA\", datasource_name)\n",
    "\n",
    "pinecone.init(\n",
    "    api_key=api_key,\n",
    "    environment=\"domino\",\n",
    "    openapi_config=conf)"
   ]
  },
  {
   "cell_type": "code",
   "execution_count": 21,
   "id": "63d1e38c-7a43-456e-9d3a-211e928b9d80",
   "metadata": {
    "tags": []
   },
   "outputs": [
    {
     "name": "stdout",
     "output_type": "stream",
     "text": [
      "['domino-support']\n",
      "IndexDescription(name='domino-support', metric='cosine', replicas=1, dimension=384.0, shards=1, pods=1, pod_type='starter', status={'ready': True, 'state': 'Ready'}, metadata_config=None, source_collection='')\n"
     ]
    }
   ],
   "source": [
    "print(pinecone.list_indexes())\n",
    "print(pinecone.describe_index('domino-support'))"
   ]
  },
  {
   "cell_type": "code",
   "execution_count": 22,
   "id": "d4723e65-2454-41d7-a803-abd1ad831612",
   "metadata": {
    "tags": []
   },
   "outputs": [],
   "source": [
    "#check if index already exists, if not we create it\n",
    "index_name = \"domino-support\"\n",
    "if index_name not in pinecone.list_indexes():\n",
    "    pinecone.create_index(\n",
    "        name=index_name,\n",
    "        dimension=384, ## 384 for bge-small-en \n",
    "        metric='cosine'\n",
    "    )\n",
    "\n",
    "#insert the embeddings\n",
    "from langchain.vectorstores import Pinecone\n",
    "\n",
    "vector_store = Pinecone.from_documents(\n",
    "    article_texts[0],\n",
    "    embeddings,\n",
    "    index_name=index_name,\n",
    "    namespace='domino-help'\n",
    ")"
   ]
  },
  {
   "cell_type": "code",
   "execution_count": null,
   "id": "7b4a723d-a545-4301-89b6-0d0c53616bdd",
   "metadata": {},
   "outputs": [],
   "source": [
    "# Uncomment below if you want to use Qdrant without the AI g/w\n",
    "# qdrant_key = os.environ.get(\"QDRANT_KEY\")\n",
    "# qdrant_url = \"https://59f8f159-fb60-44e8-bfc4-9f35c77ca8d4.us-east4-0.gcp.cloud.qdrant.io:6333\"\n",
    "\n",
    "# doc_store = Qdrant.from_documents(article_texts[0],\n",
    "#                               embedding=embeddings,\n",
    "#                               url = qdrant_url,\n",
    "#                               api_key= qdrant_key,\n",
    "#                               collection_name=f\"domino-help\")"
   ]
  }
 ],
 "metadata": {
  "kernelspec": {
   "display_name": "Python 3 (ipykernel)",
   "language": "python",
   "name": "python3"
  },
  "language_info": {
   "codemirror_mode": {
    "name": "ipython",
    "version": 3
   },
   "file_extension": ".py",
   "mimetype": "text/x-python",
   "name": "python",
   "nbconvert_exporter": "python",
   "pygments_lexer": "ipython3",
   "version": "3.10.12"
  }
 },
 "nbformat": 4,
 "nbformat_minor": 5
}
