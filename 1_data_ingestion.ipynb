{
 "cells": [
  {
   "cell_type": "code",
   "execution_count": null,
   "id": "5c3f8e88-fe52-42c7-bdc0-9b5a38d3c622",
   "metadata": {
    "tags": []
   },
   "outputs": [],
   "source": [
    "! pip install pinecone-client==2.2.4 "
   ]
  },
  {
   "cell_type": "code",
   "execution_count": null,
   "id": "912d713f-9ac4-4319-a04a-4a58617a7377",
   "metadata": {
    "tags": []
   },
   "outputs": [],
   "source": [
    "from domino_data.vectordb import DominoPineconeConfiguration\n",
    "\n",
    "from langchain_community.document_loaders.csv_loader import CSVLoader\n",
    "from langchain.text_splitter import RecursiveCharacterTextSplitter\n",
    "from langchain.embeddings import HuggingFaceBgeEmbeddings\n",
    "from langchain.vectorstores import Qdrant\n",
    "\n",
    "import csv\n",
    "import os\n",
    "import pinecone\n",
    "import sys\n",
    "\n",
    "from mlflow.deployments import get_deploy_client\n",
    "import os\n",
    "\n",
    "client = get_deploy_client(os.environ['DOMINO_MLFLOW_DEPLOYMENTS'])"
   ]
  },
  {
   "cell_type": "code",
   "execution_count": null,
   "id": "6c742bca-725c-4249-8c5a-5fa5f2d36a0f",
   "metadata": {
    "tags": []
   },
   "outputs": [],
   "source": [
    "csv.field_size_limit(sys.maxsize)\n",
    "\n",
    "loader = CSVLoader(file_path=\"/mnt/code/data/clean_help.csv\", source_column=\"url\")\n",
    "\n",
    "data = loader.load()"
   ]
  },
  {
   "cell_type": "code",
   "execution_count": null,
   "id": "bbbca562-58d7-460e-bd2c-4ff44d04f992",
   "metadata": {
    "tags": []
   },
   "outputs": [],
   "source": [
    "article_texts = []\n",
    "chunk_size = 5000\n",
    "chunk_overlap = 0\n",
    "strip_whitespace = True\n",
    "\n",
    "article_text = loader.load_and_split(\n",
    "        RecursiveCharacterTextSplitter(\n",
    "            chunk_size=chunk_size, \n",
    "            chunk_overlap=chunk_overlap, \n",
    "            strip_whitespace=strip_whitespace\n",
    "        )\n",
    "    )\n",
    "    \n",
    "# refine texts\n",
    "for chunk in article_text:\n",
    "    # index of documentation path \n",
    "    path_idx = chunk.page_content.find(\"\\n\")\n",
    "    chunk.page_content = chunk.page_content[path_idx + 1:]\n",
    "        \n",
    "article_texts.append(article_text)"
   ]
  },
  {
   "cell_type": "code",
   "execution_count": null,
   "id": "47cd3981-ae82-40a1-b99d-e5b935c1e0d5",
   "metadata": {
    "tags": []
   },
   "outputs": [],
   "source": [
    "# Print sample to test quality\n",
    "article_texts[0][20].page_content"
   ]
  },
  {
   "cell_type": "code",
   "execution_count": null,
   "id": "70c9294f-d6b2-4705-8000-3d4fe3ffe4bd",
   "metadata": {
    "tags": []
   },
   "outputs": [],
   "source": [
    "# Load the embedding model\n",
    "model_kwargs = {'device': 'cpu'}\n",
    "encode_kwargs = {'normalize_embeddings': True}\n",
    "embedding_model_name = \"BAAI/bge-small-en\"\n",
    "os.environ['SENTENCE_TRANSFORMERS_HOME'] = '/mnt/code/model_cache/'\n",
    "embeddings = HuggingFaceBgeEmbeddings(model_name=embedding_model_name,\n",
    "                                      model_kwargs=model_kwargs,\n",
    "                                      encode_kwargs=encode_kwargs\n",
    "                                     )"
   ]
  },
  {
   "cell_type": "code",
   "execution_count": null,
   "id": "d7a45846-e6b6-4bdd-9b71-13917afacbf3",
   "metadata": {
    "tags": []
   },
   "outputs": [],
   "source": [
    "datasource_name = \"Rakuten\"\n",
    "conf = DominoPineconeConfiguration(datasource=datasource_name)\n",
    "# The pinecone API key should be provided when creating the Domino Data Source and persisted securely.\n",
    "# This api_key variable here is only used for satisfying the native pinecone python client initialization where\n",
    "# api_key is a mandatory non-empty field.\n",
    "api_key = os.environ.get(\"DOMINO_VECTOR_DB_METADATA\", datasource_name)\n",
    "\n",
    "pinecone.init(\n",
    "    api_key=api_key,\n",
    "    environment=\"domino\",\n",
    "    openapi_config=conf)"
   ]
  },
  {
   "cell_type": "code",
   "execution_count": null,
   "id": "d4723e65-2454-41d7-a803-abd1ad831612",
   "metadata": {
    "tags": []
   },
   "outputs": [],
   "source": [
    "#check if index already exists, if not we create it\n",
    "index_name = \"rakuten\"\n",
    "if index_name not in pinecone.list_indexes():\n",
    "    pinecone.create_index(\n",
    "        name=index_name,\n",
    "        dimension=384, ## 384 for bge-small-en \n",
    "        metric='cosine'\n",
    "    )\n",
    "\n",
    "#insert the embeddings\n",
    "from langchain.vectorstores import Pinecone\n",
    "vector_store = Pinecone.from_documents(\n",
    "    article_texts[0],\n",
    "    embeddings,\n",
    "    index_name=index_name\n",
    ")"
   ]
  },
  {
   "cell_type": "code",
   "execution_count": null,
   "id": "7b4a723d-a545-4301-89b6-0d0c53616bdd",
   "metadata": {},
   "outputs": [],
   "source": [
    "# Uncomment below if you want to use Qdrant without the AI g/w\n",
    "# qdrant_key = os.environ.get(\"QDRANT_KEY\")\n",
    "# qdrant_url = \"https://59f8f159-fb60-44e8-bfc4-9f35c77ca8d4.us-east4-0.gcp.cloud.qdrant.io:6333\"\n",
    "\n",
    "# doc_store = Qdrant.from_documents(article_texts[0],\n",
    "#                               embedding=embeddings,\n",
    "#                               url = qdrant_url,\n",
    "#                               api_key= qdrant_key,\n",
    "#                               collection_name=f\"rakuten\")"
   ]
  }
 ],
 "metadata": {
  "kernelspec": {
   "display_name": "Python 3 (ipykernel)",
   "language": "python",
   "name": "python3"
  },
  "language_info": {
   "codemirror_mode": {
    "name": "ipython",
    "version": 3
   },
   "file_extension": ".py",
   "mimetype": "text/x-python",
   "name": "python",
   "nbconvert_exporter": "python",
   "pygments_lexer": "ipython3",
   "version": "3.10.12"
  }
 },
 "nbformat": 4,
 "nbformat_minor": 5
}
