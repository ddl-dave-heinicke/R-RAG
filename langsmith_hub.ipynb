{
 "cells": [
  {
   "cell_type": "code",
   "execution_count": null,
   "id": "e587ea10-4680-435a-bfe6-a2270e37cc46",
   "metadata": {},
   "outputs": [],
   "source": [
    "! pip install langchainhub"
   ]
  },
  {
   "cell_type": "code",
   "execution_count": 12,
   "id": "95db620e-7d36-482d-bbae-f4ba50171e7d",
   "metadata": {},
   "outputs": [
    {
     "data": {
      "text/plain": [
       "'https://smith.langchain.com/hub/subirmansukhani/rakuten-qa-rag/9f6fc545'"
      ]
     },
     "execution_count": 12,
     "metadata": {},
     "output_type": "execute_result"
    }
   ],
   "source": [
    "import os\n",
    "\n",
    "from langchain import hub\n",
    "from langchain.prompts.chat import ChatPromptTemplate\n",
    "\n",
    "\n",
    "template = \"\"\" You are a virtual assistant for Rakuten and your task is to answer questions related to Rakuten which includes general information about Rakuten.\n",
    "\n",
    "            Do not hallucinate. If you don't find an answer, you can point user to the official website here: https://www.rakuten.com/help . \n",
    "\n",
    "            In your response, include the following url links at the end of your response {url_links} and any other relevant URL links that you refered.\n",
    "\n",
    "            Also, at the end of your response, ask if your response was helpful\". \n",
    "\n",
    "            Here is some relevant context: {context}\"\"\"\n",
    "\n",
    "prompt = ChatPromptTemplate.from_template(template)\n",
    "# set LANGCHAIN_HUB_API_KEY in an env variable\n",
    "hub.push(\"subirmansukhani/rakuten-qa-rag\", prompt, new_repo_is_public=False)"
   ]
  },
  {
   "cell_type": "code",
   "execution_count": 13,
   "id": "f018f5e1-5f77-4468-87d8-d25306882b66",
   "metadata": {},
   "outputs": [],
   "source": [
    "obj = hub.pull(\"subirmansukhani/rakuten-qa-rag\")"
   ]
  },
  {
   "cell_type": "code",
   "execution_count": 29,
   "id": "47ed4583-4cb0-4137-8ce3-bd117ee644b1",
   "metadata": {},
   "outputs": [
    {
     "data": {
      "text/plain": [
       "' You are a virtual assistant for Rakuten and your task is to answer questions related to Rakuten which includes general information about Rakuten.\\n\\n            Do not hallucinate. If you don\\'t find an answer, you can point user to the official website here: https://www.rakuten.com/help . \\n\\n            In your response, include the following url links at the end of your response {url_links} and any other relevant URL links that you refered.\\n\\n            Also, at the end of your response, ask if your response was helpful\". \\n\\n            Here is some relevant context: {context}'"
      ]
     },
     "execution_count": 29,
     "metadata": {},
     "output_type": "execute_result"
    }
   ],
   "source": [
    "obj.messages[0].prompt.template"
   ]
  },
  {
   "cell_type": "code",
   "execution_count": 11,
   "id": "26782c0d-92c4-473a-ae00-9478a4fca68f",
   "metadata": {},
   "outputs": [
    {
     "data": {
      "application/javascript": [
       "\n",
       "var newWindow = window.open(\"https://smith.langchain.com/hub/my-prompts?organizationId=6ac11f6f-c332-4bac-b45b-28a8a96410b4\");\n",
       "element.append(newWindow.document.body);\n"
      ],
      "text/plain": [
       "<IPython.core.display.Javascript object>"
      ]
     },
     "metadata": {},
     "output_type": "display_data"
    }
   ],
   "source": [
    "from IPython.display import Javascript, display\n",
    "\n",
    "# Define the URL you want to open\n",
    "url = 'https://smith.langchain.com/hub/my-prompts?organizationId=6ac11f6f-c332-4bac-b45b-28a8a96410b4'\n",
    "\n",
    "# JavaScript code to open a new tab with the specified URL and display it in the cell's output area\n",
    "js_code = f'''\n",
    "var newWindow = window.open(\"{url}\");\n",
    "element.append(newWindow.document.body);\n",
    "'''\n",
    "\n",
    "# Display the JavaScript output in the cell's output area\n",
    "display(Javascript(js_code))"
   ]
  },
  {
   "cell_type": "code",
   "execution_count": null,
   "id": "6d2860e0-6c9f-4129-abab-7cc818114673",
   "metadata": {},
   "outputs": [],
   "source": []
  }
 ],
 "metadata": {
  "kernelspec": {
   "display_name": "Python 3 (ipykernel)",
   "language": "python",
   "name": "python3"
  },
  "language_info": {
   "codemirror_mode": {
    "name": "ipython",
    "version": 3
   },
   "file_extension": ".py",
   "mimetype": "text/x-python",
   "name": "python",
   "nbconvert_exporter": "python",
   "pygments_lexer": "ipython3",
   "version": "3.9.18"
  }
 },
 "nbformat": 4,
 "nbformat_minor": 5
}
