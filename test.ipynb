{
 "cells": [
  {
   "cell_type": "code",
   "execution_count": 1,
   "id": "560b4cc4-ee19-46fb-b14c-da4c26171765",
   "metadata": {
    "tags": []
   },
   "outputs": [],
   "source": [
    "from langchain import hub\n",
    "obj = hub.pull(\"subirmansukhani/rakuten-qa-rag\")"
   ]
  },
  {
   "cell_type": "code",
   "execution_count": 18,
   "id": "b01ae2da-0786-43ae-9913-094e2403f50f",
   "metadata": {
    "tags": []
   },
   "outputs": [
    {
     "data": {
      "text/plain": [
       "' You are a virtual assistant for Rakuten and your task is to answer questions related to Rakuten which includes general information about Rakuten.\\n\\n                Respond in the style of a polite helpful assistant and do not allude that you have looked up the context.\\n\\n                Do not hallucinate. If you don\\'t find an answer, you can point user to the official website here: https://www.rakuten.com/help . \\n\\n                In your response, include the following url links at the end of your response {url_links} and any other relevant URL links that you refered.\\n\\n                Also, at the end of your response, ask if your response was helpful\". \\n\\n                Here is some relevant context: {context}'"
      ]
     },
     "execution_count": 18,
     "metadata": {},
     "output_type": "execute_result"
    }
   ],
   "source": [
    "obj.messages[0].prompt.template"
   ]
  },
  {
   "cell_type": "code",
   "execution_count": 19,
   "id": "1920d446-9346-4ae5-8884-d1e2abe02153",
   "metadata": {
    "tags": []
   },
   "outputs": [
    {
     "data": {
      "text/plain": [
       "ChatPromptTemplate(input_variables=['context', 'url_links'], messages=[HumanMessagePromptTemplate(prompt=PromptTemplate(input_variables=['context', 'url_links'], template=' You are a virtual assistant for Rakuten and your task is to answer questions related to Rakuten which includes general information about Rakuten.\\n\\n                Respond in the style of a polite helpful assistant and do not allude that you have looked up the context.\\n\\n                Do not hallucinate. If you don\\'t find an answer, you can point user to the official website here: https://www.rakuten.com/help . \\n\\n                In your response, include the following url links at the end of your response {url_links} and any other relevant URL links that you refered.\\n\\n                Also, at the end of your response, ask if your response was helpful\". \\n\\n                Here is some relevant context: {context}'))])"
      ]
     },
     "execution_count": 19,
     "metadata": {},
     "output_type": "execute_result"
    }
   ],
   "source": [
    "obj"
   ]
  },
  {
   "cell_type": "code",
   "execution_count": null,
   "id": "a23e3832-5b91-4129-b47f-defb213e71aa",
   "metadata": {},
   "outputs": [],
   "source": []
  }
 ],
 "metadata": {
  "kernelspec": {
   "display_name": "Python 3 (ipykernel)",
   "language": "python",
   "name": "python3"
  },
  "language_info": {
   "codemirror_mode": {
    "name": "ipython",
    "version": 3
   },
   "file_extension": ".py",
   "mimetype": "text/x-python",
   "name": "python",
   "nbconvert_exporter": "python",
   "pygments_lexer": "ipython3",
   "version": "3.10.12"
  }
 },
 "nbformat": 4,
 "nbformat_minor": 5
}
