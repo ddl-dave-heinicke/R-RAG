{
 "cells": [
  {
   "cell_type": "code",
   "execution_count": null,
   "id": "3d3c4b65-a1bf-40f2-9e91-eff2fac1d67d",
   "metadata": {},
   "outputs": [],
   "source": [
    "%run RAG.ipynb"
   ]
  },
  {
   "cell_type": "code",
   "execution_count": null,
   "id": "3dda881f-34dd-4260-af17-b614ace61f7a",
   "metadata": {},
   "outputs": [],
   "source": [
    "# Looks good lets push the prompt to a prompt hub\n",
    "# set LANGCHAIN_HUB_API_KEY in an env variable\n",
    "# hub.push(\"subirmansukhani/rakuten-qa-rag\", ChatPromptTemplate.from_template(template), new_repo_is_public=False)"
   ]
  },
  {
   "cell_type": "code",
   "execution_count": null,
   "id": "fb3ce713-a912-421b-9bee-4d9c82ffb87f",
   "metadata": {},
   "outputs": [],
   "source": [
    "# Lets take a look at the prompt hub\n",
    "\n",
    "# from IPython.display import Javascript, display\n",
    "\n",
    "# # Define the URL you want to open\n",
    "# url = 'https://smith.langchain.com/hub/my-prompts?organizationId=6ac11f6f-c332-4bac-b45b-28a8a96410b4'\n",
    "\n",
    "# # JavaScript code to open a new tab with the specified URL and display it in the cell's output area\n",
    "# js_code = f'''\n",
    "# var newWindow = window.open(\"{url}\");\n",
    "# element.append(newWindow.document.body);\n",
    "# '''\n",
    "\n",
    "# # Display the JavaScript output in the cell's output area\n",
    "# display(Javascript(js_code))"
   ]
  },
  {
   "cell_type": "code",
   "execution_count": null,
   "id": "9e350cb8-1c7e-4ecc-a21f-d02deecb0474",
   "metadata": {},
   "outputs": [],
   "source": [
    "from langchain_experimental.data_anonymizer import PresidioReversibleAnonymizer"
   ]
  },
  {
   "cell_type": "code",
   "execution_count": null,
   "id": "7ce2387b-b753-4274-8b9c-86fc2315bca0",
   "metadata": {},
   "outputs": [],
   "source": [
    "anonymizer = PresidioReversibleAnonymizer(\n",
    "    add_default_faker_operators=False,\n",
    "    analyzed_fields=[\"LOCATION\",\"PHONE_NUMBER\",\"US_SSN\", \"IBAN_CODE\", \"CREDIT_CARD\", \"CRYPTO\", \"IP_ADDRESS\",\n",
    "                    \"MEDICAL_LICENSE\", \"URL\", \"US_BANK_NUMBER\", \"US_DRIVER_LICENSE\", \"US_ITIN\", \"US_PASSPORT\"]\n",
    ")\n",
    "\n",
    "def anonymize(input_text):\n",
    "    if input_text:\n",
    "        return anonymizer.anonymize(input_text)"
   ]
  },
  {
   "cell_type": "code",
   "execution_count": null,
   "id": "6c9e183f-5f6e-4b67-9fa7-13f0a8f024d3",
   "metadata": {},
   "outputs": [],
   "source": [
    "anonymize(\"Hi there my phone number is 7788879838\")"
   ]
  },
  {
   "cell_type": "code",
   "execution_count": null,
   "id": "1469f04d-32d4-471d-97a8-d16bdeedfe98",
   "metadata": {},
   "outputs": [],
   "source": [
    "# Ask a question using the anonymizer\n",
    "user_question = input(\"Please provide your question here :\")\n",
    "anon_qs = anonymize(user_question)\n",
    "print(anon_qs)\n",
    "result = queryAIModel(anon_qs, return_chain=False)\n",
    "result"
   ]
  },
  {
   "cell_type": "code",
   "execution_count": null,
   "id": "5846d209-3af6-4527-80c2-37f8d46cc588",
   "metadata": {},
   "outputs": [],
   "source": []
  }
 ],
 "metadata": {
  "kernelspec": {
   "display_name": "Python 3 (ipykernel)",
   "language": "python",
   "name": "python3"
  },
  "language_info": {
   "codemirror_mode": {
    "name": "ipython",
    "version": 3
   },
   "file_extension": ".py",
   "mimetype": "text/x-python",
   "name": "python",
   "nbconvert_exporter": "python",
   "pygments_lexer": "ipython3",
   "version": "3.9.18"
  }
 },
 "nbformat": 4,
 "nbformat_minor": 5
}
