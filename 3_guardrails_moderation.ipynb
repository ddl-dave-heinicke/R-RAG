{
 "cells": [
  {
   "cell_type": "code",
   "execution_count": null,
   "id": "3d3c4b65-a1bf-40f2-9e91-eff2fac1d67d",
   "metadata": {},
   "outputs": [],
   "source": [
    "%run RAG.ipynb"
   ]
  },
  {
   "cell_type": "code",
   "execution_count": 1,
   "id": "9e350cb8-1c7e-4ecc-a21f-d02deecb0474",
   "metadata": {},
   "outputs": [],
   "source": [
    "from langchain_experimental.data_anonymizer import PresidioReversibleAnonymizer"
   ]
  },
  {
   "cell_type": "code",
   "execution_count": 2,
   "id": "7ce2387b-b753-4274-8b9c-86fc2315bca0",
   "metadata": {},
   "outputs": [],
   "source": [
    "anonymizer = PresidioReversibleAnonymizer(\n",
    "    add_default_faker_operators=False,\n",
    "    analyzed_fields=[\"LOCATION\",\"PHONE_NUMBER\",\"US_SSN\", \"IBAN_CODE\", \"CREDIT_CARD\", \"CRYPTO\", \"IP_ADDRESS\",\n",
    "                    \"MEDICAL_LICENSE\", \"URL\", \"US_BANK_NUMBER\", \"US_DRIVER_LICENSE\", \"US_ITIN\", \"US_PASSPORT\"]\n",
    ")\n",
    "\n",
    "def anonymize(input_text):\n",
    "    if input_text:\n",
    "        return anonymizer.anonymize(input_text)"
   ]
  },
  {
   "cell_type": "code",
   "execution_count": null,
   "id": "6c9e183f-5f6e-4b67-9fa7-13f0a8f024d3",
   "metadata": {},
   "outputs": [],
   "source": [
    "a"
   ]
  }
 ],
 "metadata": {
  "kernelspec": {
   "display_name": "Python 3 (ipykernel)",
   "language": "python",
   "name": "python3"
  },
  "language_info": {
   "codemirror_mode": {
    "name": "ipython",
    "version": 3
   },
   "file_extension": ".py",
   "mimetype": "text/x-python",
   "name": "python",
   "nbconvert_exporter": "python",
   "pygments_lexer": "ipython3",
   "version": "3.9.18"
  }
 },
 "nbformat": 4,
 "nbformat_minor": 5
}
