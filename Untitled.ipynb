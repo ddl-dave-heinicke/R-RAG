{
 "cells": [
  {
   "cell_type": "code",
   "execution_count": 5,
   "id": "c03c1952-aacc-4f25-aa94-d07db46cd7ae",
   "metadata": {},
   "outputs": [],
   "source": [
    "from langchain_community.document_loaders.csv_loader import CSVLoader"
   ]
  },
  {
   "cell_type": "code",
   "execution_count": null,
   "id": "c96b09a2-a286-4065-b4b1-d08cb8464cea",
   "metadata": {},
   "outputs": [],
   "source": [
    "loader = CSVLoader(file_path=\"/mnt/code/data/help.csv\")\n",
    "\n",
    "data = loader.load()"
   ]
  },
  {
   "cell_type": "code",
   "execution_count": null,
   "id": "a587456e-017e-4101-897c-8fb4c967e41b",
   "metadata": {},
   "outputs": [],
   "source": [
    "docs"
   ]
  },
  {
   "cell_type": "code",
   "execution_count": null,
   "id": "0fbb31b7-0bee-4d00-9959-7d225a528308",
   "metadata": {},
   "outputs": [],
   "source": [
    "! pip install apify-client chromadb tiktoken SQLAlchemy==2.0.1"
   ]
  },
  {
   "cell_type": "code",
   "execution_count": null,
   "id": "d5b315aa-1b2e-408e-8cfa-c5be18a41b19",
   "metadata": {},
   "outputs": [],
   "source": [
    "import os\n",
    "\n",
    "from langchain.docstore.document import Document\n",
    "from langchain.indexes import VectorstoreIndexCreator\n",
    "from langchain_community.utilities import ApifyWrapper\n",
    "\n",
    "os.environ[\"APIFY_API_TOKEN\"] = \"apify_api_7Xfukc3PjfHDzoR2DzxXQfhTdU6Gyp13SlXc\"\n",
    "\n",
    "apify = ApifyWrapper()\n",
    "# Call the Actor to obtain text from the crawled webpages\n",
    "loader = apify.call_actor(\n",
    "    actor_id=\"apify/website-content-crawler\",\n",
    "    run_input={\n",
    "        \"startUrls\": [{\"url\": \"https://www.rakuten.com/help/article/\"}],\n",
    "        \"max_items\": 10\n",
    "    },\n",
    "    dataset_mapping_function=lambda item: Document(\n",
    "        page_content=item[\"text\"] or \"\", metadata={\"source\": item[\"url\"]}\n",
    "    ),\n",
    ")\n",
    "\n",
    "# Create a vector store based on the crawled data\n",
    "index = VectorstoreIndexCreator().from_loaders([loader])\n",
    "\n",
    "# Query the vector store\n",
    "query = \"Are any OpenAI chat models integrated in LangChain?\"\n",
    "result = index.query(query)\n",
    "print(result)"
   ]
  },
  {
   "cell_type": "code",
   "execution_count": 4,
   "id": "01332cd2-15db-4723-b29a-cb73a67113e6",
   "metadata": {},
   "outputs": [],
   "source": [
    "import pandas as pd\n",
    "\n",
    "# Load the CSV dataset\n",
    "data = pd.read_csv(\"dataset_website-content-crawler_2024-02-29_19-56-37-124.csv\")\n",
    "\n",
    "# Extract the url and txt columns\n",
    "extracted_data = data[['url', 'text']]\n",
    "\n",
    "# Write the extracted data to a new file called help.csv\n",
    "extracted_data.to_csv(\"help.csv\", index=False)"
   ]
  },
  {
   "cell_type": "code",
   "execution_count": null,
   "id": "4c8bd7db-9387-4c12-b61e-205906b7312a",
   "metadata": {},
   "outputs": [],
   "source": []
  }
 ],
 "metadata": {
  "kernelspec": {
   "display_name": "Python 3 (ipykernel)",
   "language": "python",
   "name": "python3"
  },
  "language_info": {
   "codemirror_mode": {
    "name": "ipython",
    "version": 3
   },
   "file_extension": ".py",
   "mimetype": "text/x-python",
   "name": "python",
   "nbconvert_exporter": "python",
   "pygments_lexer": "ipython3",
   "version": "3.9.18"
  }
 },
 "nbformat": 4,
 "nbformat_minor": 5
}
