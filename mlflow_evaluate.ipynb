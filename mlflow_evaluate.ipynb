{
 "cells": [
  {
   "cell_type": "code",
   "execution_count": 4,
   "id": "1f30f5cf-d1ce-47c9-98c4-b8d7a957c244",
   "metadata": {},
   "outputs": [],
   "source": [
    "import pandas as pd\n",
    "\n",
    "from mlflow.metrics.genai import faithfulness, relevance, EvaluationExample"
   ]
  },
  {
   "cell_type": "code",
   "execution_count": null,
   "id": "0f347736-72ee-4486-9843-9504ca0efd74",
   "metadata": {},
   "outputs": [],
   "source": [
    "# Creating a data frame with e-commerce related questions\n",
    "eval_df = pd.DataFrame(\n",
    "    {\n",
    "        \"questions\": [\n",
    "            \"How can I track my order status on Rakuten?\",\n",
    "            \"What is Rakuten's return policy for electronics?\",\n",
    "            \"Can I change the shipping address after placing my order?\",\n",
    "            \"What payment methods are accepted on Rakuten?\",\n",
    "            \"Is it possible to cancel my order after it has been shipped?\",\n",
    "            \"How do I apply a promo code to my purchase on Rakuten?\",\n",
    "            \"What should I do if I receive a damaged product?\",\n",
    "            \"Are there any warranties on the products sold through Rakuten?\",\n",
    "            \"How can I contact Rakuten customer service for order issues?\",\n",
    "            \"What are Rakuten Points and how do I use them?\",\n",
    "            \"Is international shipping available for orders placed on Rakuten?\",\n",
    "            \"How do I create a Rakuten account?\",\n",
    "            \"What is Rakuten's policy on product exchanges?\",\n",
    "            \"How can I leave a review for a product I purchased on Rakuten?\",\n",
    "            \"Are there any member-exclusive discounts on Rakuten?\",\n",
    "            \"What to do if my payment is declined on Rakuten?\",\n",
    "            \"How do I update my payment information on Rakuten?\",\n",
    "            \"Can I shop on Rakuten without creating an account?\",\n",
    "            \"What is the estimated delivery time for orders within the US?\",\n",
    "            \"How does Rakuten handle privacy and data protection?\",\n",
    "        ],\n",
    "    }\n",
    ")\n"
   ]
  },
  {
   "cell_type": "code",
   "execution_count": 3,
   "id": "f76c1ace-72c7-443a-a8d7-85e1e91134c8",
   "metadata": {},
   "outputs": [],
   "source": [
    "# Create good and bad examples for faithfulness in the context of e-commerce questions\n",
    "faithfulness_examples = [\n",
    "    EvaluationExample(\n",
    "        input=\"What is Rakuten's return policy for electronics?\",\n",
    "        output=\"You can return electronics within 30 days of purchase, but the item must be unopened.\",\n",
    "        score=2,\n",
    "        justification=\"The output provides a partially correct answer but misses important context about the conditions for returns, restocking fees, and potential exceptions for defective items.\",\n",
    "        grading_context={\n",
    "            \"context\": \"Rakuten's return policy for electronics states that items can be returned within 30 days of purchase. However, to qualify for a return, the item must be unopened and in its original condition. A restocking fee may apply, and returns for defective items are handled differently.\"\n",
    "        },\n",
    "    ),\n",
    "    EvaluationExample(\n",
    "        input=\"What is Rakuten's return policy for electronics?\",\n",
    "        output=\"Rakuten allows returns on electronics within 30 days of purchase, provided the items are unopened and in their original condition. A restocking fee may apply, and defective items have a separate return process.\",\n",
    "        score=5,\n",
    "        justification=\"The output accurately reflects the provided context by detailing the conditions under which electronics can be returned, including the time frame, item condition, potential restocking fees, and the process for defective items.\",\n",
    "        grading_context={\n",
    "            \"context\": \"Rakuten's return policy for electronics states that items can be returned within 30 days of purchase. However, to qualify for a return, the item must be unopened and in its original condition. A restocking fee may apply, and returns for defective items are handled differently.\"\n",
    "        },\n",
    "    ),\n",
    "]\n"
   ]
  },
  {
   "cell_type": "code",
   "execution_count": null,
   "id": "af380252-7a85-46a8-a8d9-930b140df189",
   "metadata": {},
   "outputs": [],
   "source": [
    "# Create good and bad examples for relevance in the context of e-commerce questions\n",
    "relevance_examples = [\n",
    "    EvaluationExample(\n",
    "        input=\"How do I apply a promo code to my purchase on Rakuten?\",\n",
    "        output=\"Promo codes can save you money on your purchases. To use a promo code, you should find the code, make sure it's valid, and then apply it at checkout. Make sure to check the expiration date.\",\n",
    "        score=2,\n",
    "        justification=\"The output provides general information about how promo codes work, but it includes irrelevant details about finding and validating the code instead of directly explaining how to apply it on Rakuten.\",\n",
    "        grading_context={\n",
    "            \"context\": \"On Rakuten, to apply a promo code to your purchase, navigate to the checkout page. There, you will find a field labeled 'Promo Code' or 'Discount Code' where you can enter your code before completing the purchase.\"\n",
    "        },\n",
    "    ),\n",
    "    EvaluationExample(\n",
    "        input=\"How do I apply a promo code to my purchase on Rakuten?\",\n",
    "        output=\"On Rakuten, navigate to the checkout page and look for a field labeled 'Promo Code' or 'Discount Code'. Enter your code in this field before completing your purchase to apply the discount.\",\n",
    "        score=5,\n",
    "        justification=\"The output is highly relevant to the question, providing a clear and concise explanation on exactly how to apply a promo code on Rakuten, directly addressing the user's inquiry without unnecessary information.\",\n",
    "        grading_context={\n",
    "            \"context\": \"On Rakuten, to apply a promo code to your purchase, navigate to the checkout page. There, you will find a field labeled 'Promo Code' or 'Discount Code' where you can enter your code before completing the purchase.\"\n",
    "        },\n",
    "    ),\n",
    "]"
   ]
  }
 ],
 "metadata": {
  "kernelspec": {
   "display_name": "Python 3 (ipykernel)",
   "language": "python",
   "name": "python3"
  },
  "language_info": {
   "codemirror_mode": {
    "name": "ipython",
    "version": 3
   },
   "file_extension": ".py",
   "mimetype": "text/x-python",
   "name": "python",
   "nbconvert_exporter": "python",
   "pygments_lexer": "ipython3",
   "version": "3.9.18"
  }
 },
 "nbformat": 4,
 "nbformat_minor": 5
}
